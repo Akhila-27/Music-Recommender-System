{
  "nbformat": 4,
  "nbformat_minor": 0,
  "metadata": {
    "colab": {
      "name": "MSD_Akhila.ipynb",
      "provenance": []
    },
    "kernelspec": {
      "name": "python3",
      "display_name": "Python 3"
    },
    "language_info": {
      "name": "python"
    },
    "accelerator": "GPU"
  },
  "cells": [
    {
      "cell_type": "markdown",
      "metadata": {
        "id": "ET1sL1qZXZtS"
      },
      "source": [
        ""
      ]
    },
    {
      "cell_type": "code",
      "metadata": {
        "id": "gaTXdFzDOIj-",
        "colab": {
          "base_uri": "https://localhost:8080/"
        },
        "outputId": "e1784257-418e-4931-f4c5-6845f79ddd39"
      },
      "source": [
        "from google.colab import drive\n",
        "drive.mount('./drive')"
      ],
      "execution_count": null,
      "outputs": [
        {
          "output_type": "stream",
          "text": [
            "Mounted at ./drive\n"
          ],
          "name": "stdout"
        }
      ]
    },
    {
      "cell_type": "code",
      "metadata": {
        "id": "Pv47kS2H6Uby"
      },
      "source": [
        "import warnings\n",
        "warnings.filterwarnings('ignore')"
      ],
      "execution_count": null,
      "outputs": []
    },
    {
      "cell_type": "code",
      "metadata": {
        "id": "g1YumATPHF_N"
      },
      "source": [
        "import os\n",
        "os.chdir(\"./drive/My Drive/Data/\")"
      ],
      "execution_count": null,
      "outputs": []
    },
    {
      "cell_type": "code",
      "metadata": {
        "colab": {
          "base_uri": "https://localhost:8080/"
        },
        "id": "9Msj9pDdHPUq",
        "outputId": "9bb8a909-9750-44c2-e417-75ea41f61ac5"
      },
      "source": [
        "ls"
      ],
      "execution_count": null,
      "outputs": [
        {
          "output_type": "stream",
          "text": [
            "kaggle_songs.txt                        MSDChallengeGettingstarted.pdf\n",
            "kaggle_users.txt                        taste_profile_song_to_tracks.txt\n",
            "kaggle_visible_evaluation_triplets.txt  unique_tracks.txt\n"
          ],
          "name": "stdout"
        }
      ]
    },
    {
      "cell_type": "code",
      "metadata": {
        "id": "yvrl6gVG6-iz"
      },
      "source": [
        "import numpy as np\n",
        "import pandas as pd\n",
        "import matplotlib.pyplot as plt\n",
        "%matplotlib inline\n",
        "import seaborn as sns\n",
        "from pandas import Series,DataFrame, read_table\n",
        "from sklearn.metrics import mean_squared_error\n",
        "\n",
        "from datetime import datetime"
      ],
      "execution_count": null,
      "outputs": []
    },
    {
      "cell_type": "code",
      "metadata": {
        "colab": {
          "base_uri": "https://localhost:8080/"
        },
        "id": "I2vj66zq8MbH",
        "outputId": "077625e4-3db9-4bb2-d957-751d82ce6452"
      },
      "source": [
        "songs = pd.read_csv(\"kaggle_songs.txt\", sep=\" \",header=None)\n",
        "users = pd.read_csv('kaggle_users.txt', dtype = 'str')\n",
        "triplet = pd.read_csv('kaggle_visible_evaluation_triplets.txt', header = None, delimiter = \"\\t\")\n",
        "taste_track = pd.read_csv('taste_profile_song_to_tracks.txt', header = None, delimiter = \"\\t\", error_bad_lines=False)\n",
        "unique_tracks = pd.read_csv('unique_tracks.txt', header = None, delimiter = '<SEP>')\n",
        "print(\"\\n Data read succesfully!!\")"
      ],
      "execution_count": null,
      "outputs": [
        {
          "output_type": "stream",
          "text": [
            "b'Skipping line 100: expected 2 fields, saw 3\\nSkipping line 1366: expected 2 fields, saw 3\\nSkipping line 1965: expected 2 fields, saw 3\\nSkipping line 2633: expected 2 fields, saw 3\\nSkipping line 4604: expected 2 fields, saw 3\\nSkipping line 6107: expected 2 fields, saw 3\\nSkipping line 6243: expected 2 fields, saw 3\\nSkipping line 6977: expected 2 fields, saw 3\\nSkipping line 7757: expected 2 fields, saw 3\\nSkipping line 8451: expected 2 fields, saw 3\\nSkipping line 8507: expected 2 fields, saw 3\\nSkipping line 8657: expected 2 fields, saw 3\\nSkipping line 9025: expected 2 fields, saw 3\\nSkipping line 9360: expected 2 fields, saw 3\\nSkipping line 9655: expected 2 fields, saw 3\\nSkipping line 9803: expected 2 fields, saw 3\\nSkipping line 10390: expected 2 fields, saw 3\\nSkipping line 10480: expected 2 fields, saw 3\\nSkipping line 11272: expected 2 fields, saw 3\\nSkipping line 12554: expected 2 fields, saw 3\\nSkipping line 13587: expected 2 fields, saw 3\\nSkipping line 13737: expected 2 fields, saw 3\\nSkipping line 13863: expected 2 fields, saw 3\\nSkipping line 14424: expected 2 fields, saw 3\\nSkipping line 15208: expected 2 fields, saw 3\\nSkipping line 15690: expected 2 fields, saw 3\\nSkipping line 16796: expected 2 fields, saw 3\\nSkipping line 18365: expected 2 fields, saw 3\\nSkipping line 18739: expected 2 fields, saw 3\\nSkipping line 19166: expected 2 fields, saw 3\\nSkipping line 19720: expected 2 fields, saw 3\\nSkipping line 20655: expected 2 fields, saw 3\\nSkipping line 21662: expected 2 fields, saw 3\\nSkipping line 22446: expected 2 fields, saw 3\\nSkipping line 22529: expected 2 fields, saw 3\\nSkipping line 22636: expected 2 fields, saw 3\\nSkipping line 22807: expected 2 fields, saw 3\\nSkipping line 22813: expected 2 fields, saw 3\\nSkipping line 23576: expected 2 fields, saw 3\\nSkipping line 23957: expected 2 fields, saw 3\\nSkipping line 24249: expected 2 fields, saw 3\\nSkipping line 24302: expected 2 fields, saw 3\\nSkipping line 24776: expected 2 fields, saw 3\\nSkipping line 25348: expected 2 fields, saw 3\\nSkipping line 25453: expected 2 fields, saw 4\\nSkipping line 25643: expected 2 fields, saw 4\\nSkipping line 26088: expected 2 fields, saw 3\\nSkipping line 26856: expected 2 fields, saw 3\\nSkipping line 27007: expected 2 fields, saw 3\\nSkipping line 28502: expected 2 fields, saw 3\\nSkipping line 29523: expected 2 fields, saw 3\\nSkipping line 29574: expected 2 fields, saw 3\\nSkipping line 29974: expected 2 fields, saw 3\\nSkipping line 30643: expected 2 fields, saw 3\\nSkipping line 31101: expected 2 fields, saw 3\\nSkipping line 31149: expected 2 fields, saw 3\\nSkipping line 32597: expected 2 fields, saw 3\\nSkipping line 32916: expected 2 fields, saw 3\\nSkipping line 33649: expected 2 fields, saw 3\\nSkipping line 34149: expected 2 fields, saw 3\\nSkipping line 34621: expected 2 fields, saw 3\\nSkipping line 35222: expected 2 fields, saw 3\\nSkipping line 35731: expected 2 fields, saw 3\\nSkipping line 35744: expected 2 fields, saw 3\\nSkipping line 36433: expected 2 fields, saw 3\\nSkipping line 36558: expected 2 fields, saw 3\\nSkipping line 36622: expected 2 fields, saw 3\\nSkipping line 38383: expected 2 fields, saw 3\\nSkipping line 38598: expected 2 fields, saw 3\\nSkipping line 38873: expected 2 fields, saw 3\\nSkipping line 39720: expected 2 fields, saw 3\\nSkipping line 41145: expected 2 fields, saw 3\\nSkipping line 41226: expected 2 fields, saw 3\\nSkipping line 41238: expected 2 fields, saw 3\\nSkipping line 41500: expected 2 fields, saw 3\\nSkipping line 42110: expected 2 fields, saw 3\\nSkipping line 42222: expected 2 fields, saw 3\\nSkipping line 42731: expected 2 fields, saw 3\\nSkipping line 43737: expected 2 fields, saw 3\\nSkipping line 44287: expected 2 fields, saw 3\\nSkipping line 44946: expected 2 fields, saw 3\\nSkipping line 45934: expected 2 fields, saw 3\\nSkipping line 46407: expected 2 fields, saw 3\\nSkipping line 46480: expected 2 fields, saw 3\\nSkipping line 46800: expected 2 fields, saw 3\\nSkipping line 46951: expected 2 fields, saw 3\\nSkipping line 47431: expected 2 fields, saw 3\\nSkipping line 47844: expected 2 fields, saw 3\\nSkipping line 48071: expected 2 fields, saw 3\\nSkipping line 48497: expected 2 fields, saw 3\\nSkipping line 48596: expected 2 fields, saw 3\\nSkipping line 48999: expected 2 fields, saw 3\\nSkipping line 52478: expected 2 fields, saw 3\\nSkipping line 52844: expected 2 fields, saw 3\\nSkipping line 53301: expected 2 fields, saw 3\\nSkipping line 53560: expected 2 fields, saw 3\\nSkipping line 53845: expected 2 fields, saw 4\\nSkipping line 55216: expected 2 fields, saw 3\\nSkipping line 56835: expected 2 fields, saw 3\\nSkipping line 57229: expected 2 fields, saw 4\\nSkipping line 57378: expected 2 fields, saw 3\\nSkipping line 57861: expected 2 fields, saw 3\\nSkipping line 58346: expected 2 fields, saw 3\\nSkipping line 58379: expected 2 fields, saw 3\\nSkipping line 58957: expected 2 fields, saw 3\\nSkipping line 60574: expected 2 fields, saw 3\\nSkipping line 62212: expected 2 fields, saw 3\\nSkipping line 62494: expected 2 fields, saw 3\\nSkipping line 62582: expected 2 fields, saw 3\\nSkipping line 62668: expected 2 fields, saw 3\\nSkipping line 62773: expected 2 fields, saw 3\\nSkipping line 64400: expected 2 fields, saw 3\\nSkipping line 64699: expected 2 fields, saw 3\\nSkipping line 65178: expected 2 fields, saw 3\\nSkipping line 65370: expected 2 fields, saw 3\\nSkipping line 65618: expected 2 fields, saw 3\\nSkipping line 65920: expected 2 fields, saw 3\\nSkipping line 65922: expected 2 fields, saw 3\\nSkipping line 67253: expected 2 fields, saw 3\\nSkipping line 68408: expected 2 fields, saw 4\\nSkipping line 68603: expected 2 fields, saw 3\\nSkipping line 68690: expected 2 fields, saw 3\\nSkipping line 68874: expected 2 fields, saw 3\\nSkipping line 69017: expected 2 fields, saw 4\\nSkipping line 69032: expected 2 fields, saw 3\\nSkipping line 69165: expected 2 fields, saw 3\\nSkipping line 69380: expected 2 fields, saw 3\\nSkipping line 69564: expected 2 fields, saw 3\\nSkipping line 69940: expected 2 fields, saw 4\\nSkipping line 70178: expected 2 fields, saw 3\\nSkipping line 70334: expected 2 fields, saw 3\\nSkipping line 72684: expected 2 fields, saw 3\\nSkipping line 73353: expected 2 fields, saw 3\\nSkipping line 73402: expected 2 fields, saw 3\\nSkipping line 73942: expected 2 fields, saw 3\\nSkipping line 74073: expected 2 fields, saw 3\\nSkipping line 74372: expected 2 fields, saw 3\\nSkipping line 74795: expected 2 fields, saw 3\\nSkipping line 74800: expected 2 fields, saw 3\\nSkipping line 74980: expected 2 fields, saw 3\\nSkipping line 76038: expected 2 fields, saw 4\\nSkipping line 76551: expected 2 fields, saw 3\\nSkipping line 76665: expected 2 fields, saw 3\\nSkipping line 76794: expected 2 fields, saw 3\\nSkipping line 77019: expected 2 fields, saw 3\\nSkipping line 79206: expected 2 fields, saw 3\\nSkipping line 79744: expected 2 fields, saw 3\\nSkipping line 80131: expected 2 fields, saw 3\\nSkipping line 81092: expected 2 fields, saw 3\\nSkipping line 81442: expected 2 fields, saw 3\\nSkipping line 83413: expected 2 fields, saw 3\\nSkipping line 85231: expected 2 fields, saw 3\\nSkipping line 86655: expected 2 fields, saw 3\\nSkipping line 86661: expected 2 fields, saw 3\\nSkipping line 88065: expected 2 fields, saw 3\\nSkipping line 88182: expected 2 fields, saw 3\\nSkipping line 88863: expected 2 fields, saw 3\\nSkipping line 89798: expected 2 fields, saw 3\\nSkipping line 90373: expected 2 fields, saw 4\\nSkipping line 91018: expected 2 fields, saw 3\\nSkipping line 92566: expected 2 fields, saw 3\\nSkipping line 94085: expected 2 fields, saw 3\\nSkipping line 94717: expected 2 fields, saw 3\\nSkipping line 94933: expected 2 fields, saw 3\\nSkipping line 96505: expected 2 fields, saw 3\\nSkipping line 96826: expected 2 fields, saw 3\\nSkipping line 97777: expected 2 fields, saw 3\\nSkipping line 98460: expected 2 fields, saw 3\\nSkipping line 99189: expected 2 fields, saw 3\\nSkipping line 99530: expected 2 fields, saw 3\\nSkipping line 99539: expected 2 fields, saw 3\\nSkipping line 100027: expected 2 fields, saw 3\\nSkipping line 100237: expected 2 fields, saw 3\\nSkipping line 100960: expected 2 fields, saw 3\\nSkipping line 101081: expected 2 fields, saw 3\\nSkipping line 101231: expected 2 fields, saw 3\\nSkipping line 102260: expected 2 fields, saw 3\\nSkipping line 102372: expected 2 fields, saw 3\\nSkipping line 102413: expected 2 fields, saw 3\\nSkipping line 102500: expected 2 fields, saw 3\\nSkipping line 102964: expected 2 fields, saw 3\\nSkipping line 104176: expected 2 fields, saw 3\\nSkipping line 104484: expected 2 fields, saw 3\\nSkipping line 105213: expected 2 fields, saw 3\\nSkipping line 105370: expected 2 fields, saw 3\\nSkipping line 107504: expected 2 fields, saw 3\\nSkipping line 107866: expected 2 fields, saw 3\\nSkipping line 107981: expected 2 fields, saw 3\\nSkipping line 109498: expected 2 fields, saw 3\\nSkipping line 111713: expected 2 fields, saw 3\\nSkipping line 112460: expected 2 fields, saw 3\\nSkipping line 112487: expected 2 fields, saw 4\\nSkipping line 113185: expected 2 fields, saw 3\\nSkipping line 113413: expected 2 fields, saw 3\\nSkipping line 115638: expected 2 fields, saw 3\\nSkipping line 115965: expected 2 fields, saw 3\\nSkipping line 116590: expected 2 fields, saw 3\\nSkipping line 116887: expected 2 fields, saw 3\\nSkipping line 117836: expected 2 fields, saw 3\\nSkipping line 117854: expected 2 fields, saw 3\\nSkipping line 118220: expected 2 fields, saw 3\\nSkipping line 118431: expected 2 fields, saw 3\\nSkipping line 118505: expected 2 fields, saw 3\\nSkipping line 120027: expected 2 fields, saw 3\\nSkipping line 121349: expected 2 fields, saw 3\\nSkipping line 121351: expected 2 fields, saw 3\\nSkipping line 121628: expected 2 fields, saw 3\\nSkipping line 122629: expected 2 fields, saw 3\\nSkipping line 122658: expected 2 fields, saw 3\\nSkipping line 123491: expected 2 fields, saw 3\\nSkipping line 124244: expected 2 fields, saw 3\\nSkipping line 124645: expected 2 fields, saw 3\\nSkipping line 125582: expected 2 fields, saw 3\\nSkipping line 127195: expected 2 fields, saw 3\\nSkipping line 127785: expected 2 fields, saw 3\\nSkipping line 128662: expected 2 fields, saw 3\\nSkipping line 129762: expected 2 fields, saw 3\\nSkipping line 130037: expected 2 fields, saw 3\\nSkipping line 130455: expected 2 fields, saw 3\\nSkipping line 130564: expected 2 fields, saw 3\\nSkipping line 131315: expected 2 fields, saw 3\\nSkipping line 131791: expected 2 fields, saw 3\\nSkipping line 132116: expected 2 fields, saw 3\\nSkipping line 133560: expected 2 fields, saw 3\\nSkipping line 133862: expected 2 fields, saw 3\\nSkipping line 134221: expected 2 fields, saw 3\\nSkipping line 135695: expected 2 fields, saw 3\\nSkipping line 135877: expected 2 fields, saw 3\\nSkipping line 136050: expected 2 fields, saw 3\\nSkipping line 136067: expected 2 fields, saw 3\\nSkipping line 136096: expected 2 fields, saw 3\\nSkipping line 136846: expected 2 fields, saw 3\\nSkipping line 137041: expected 2 fields, saw 3\\nSkipping line 137197: expected 2 fields, saw 3\\nSkipping line 138335: expected 2 fields, saw 3\\nSkipping line 138793: expected 2 fields, saw 3\\nSkipping line 139233: expected 2 fields, saw 3\\nSkipping line 139580: expected 2 fields, saw 3\\nSkipping line 140566: expected 2 fields, saw 3\\nSkipping line 142051: expected 2 fields, saw 3\\nSkipping line 142220: expected 2 fields, saw 3\\nSkipping line 142514: expected 2 fields, saw 3\\nSkipping line 142745: expected 2 fields, saw 3\\nSkipping line 142830: expected 2 fields, saw 3\\nSkipping line 142966: expected 2 fields, saw 4\\nSkipping line 143079: expected 2 fields, saw 3\\nSkipping line 143898: expected 2 fields, saw 3\\nSkipping line 145087: expected 2 fields, saw 3\\nSkipping line 145233: expected 2 fields, saw 3\\nSkipping line 145253: expected 2 fields, saw 3\\nSkipping line 147149: expected 2 fields, saw 3\\nSkipping line 147815: expected 2 fields, saw 3\\nSkipping line 149185: expected 2 fields, saw 3\\nSkipping line 150274: expected 2 fields, saw 3\\nSkipping line 150661: expected 2 fields, saw 3\\nSkipping line 151423: expected 2 fields, saw 3\\nSkipping line 151901: expected 2 fields, saw 3\\nSkipping line 152405: expected 2 fields, saw 3\\nSkipping line 153249: expected 2 fields, saw 3\\nSkipping line 153273: expected 2 fields, saw 4\\nSkipping line 154063: expected 2 fields, saw 3\\nSkipping line 154765: expected 2 fields, saw 3\\nSkipping line 155255: expected 2 fields, saw 3\\nSkipping line 155355: expected 2 fields, saw 3\\nSkipping line 155542: expected 2 fields, saw 3\\nSkipping line 155850: expected 2 fields, saw 3\\nSkipping line 157306: expected 2 fields, saw 3\\nSkipping line 158889: expected 2 fields, saw 3\\nSkipping line 159300: expected 2 fields, saw 4\\nSkipping line 159649: expected 2 fields, saw 3\\nSkipping line 159989: expected 2 fields, saw 3\\nSkipping line 160509: expected 2 fields, saw 3\\nSkipping line 160661: expected 2 fields, saw 3\\nSkipping line 160807: expected 2 fields, saw 3\\nSkipping line 162401: expected 2 fields, saw 3\\nSkipping line 162630: expected 2 fields, saw 3\\nSkipping line 162869: expected 2 fields, saw 3\\nSkipping line 163393: expected 2 fields, saw 3\\nSkipping line 163622: expected 2 fields, saw 3\\nSkipping line 163705: expected 2 fields, saw 3\\nSkipping line 164887: expected 2 fields, saw 3\\nSkipping line 165192: expected 2 fields, saw 3\\nSkipping line 165679: expected 2 fields, saw 3\\nSkipping line 165921: expected 2 fields, saw 3\\nSkipping line 167161: expected 2 fields, saw 3\\nSkipping line 167248: expected 2 fields, saw 3\\nSkipping line 168104: expected 2 fields, saw 3\\nSkipping line 168254: expected 2 fields, saw 3\\nSkipping line 168457: expected 2 fields, saw 3\\nSkipping line 169895: expected 2 fields, saw 3\\nSkipping line 170168: expected 2 fields, saw 3\\nSkipping line 170222: expected 2 fields, saw 4\\nSkipping line 170257: expected 2 fields, saw 3\\nSkipping line 171998: expected 2 fields, saw 3\\nSkipping line 172226: expected 2 fields, saw 3\\nSkipping line 172741: expected 2 fields, saw 3\\nSkipping line 173256: expected 2 fields, saw 4\\nSkipping line 174568: expected 2 fields, saw 3\\nSkipping line 176143: expected 2 fields, saw 3\\nSkipping line 176333: expected 2 fields, saw 3\\nSkipping line 177378: expected 2 fields, saw 3\\nSkipping line 177432: expected 2 fields, saw 3\\nSkipping line 178198: expected 2 fields, saw 3\\nSkipping line 178325: expected 2 fields, saw 3\\nSkipping line 178394: expected 2 fields, saw 3\\nSkipping line 178507: expected 2 fields, saw 3\\nSkipping line 178607: expected 2 fields, saw 3\\nSkipping line 179418: expected 2 fields, saw 3\\nSkipping line 179719: expected 2 fields, saw 3\\nSkipping line 180110: expected 2 fields, saw 3\\nSkipping line 180351: expected 2 fields, saw 3\\nSkipping line 180432: expected 2 fields, saw 3\\nSkipping line 180471: expected 2 fields, saw 3\\nSkipping line 180763: expected 2 fields, saw 3\\nSkipping line 181001: expected 2 fields, saw 3\\nSkipping line 181057: expected 2 fields, saw 3\\nSkipping line 181383: expected 2 fields, saw 4\\nSkipping line 181481: expected 2 fields, saw 3\\nSkipping line 181944: expected 2 fields, saw 3\\nSkipping line 182053: expected 2 fields, saw 3\\nSkipping line 182238: expected 2 fields, saw 3\\nSkipping line 183608: expected 2 fields, saw 3\\nSkipping line 183611: expected 2 fields, saw 3\\nSkipping line 183920: expected 2 fields, saw 3\\nSkipping line 183998: expected 2 fields, saw 3\\nSkipping line 184820: expected 2 fields, saw 3\\nSkipping line 185552: expected 2 fields, saw 3\\nSkipping line 187921: expected 2 fields, saw 3\\nSkipping line 188417: expected 2 fields, saw 3\\nSkipping line 188549: expected 2 fields, saw 3\\nSkipping line 189290: expected 2 fields, saw 3\\nSkipping line 190514: expected 2 fields, saw 3\\nSkipping line 190737: expected 2 fields, saw 3\\nSkipping line 191002: expected 2 fields, saw 3\\nSkipping line 191273: expected 2 fields, saw 3\\nSkipping line 192057: expected 2 fields, saw 4\\nSkipping line 194261: expected 2 fields, saw 3\\nSkipping line 194392: expected 2 fields, saw 3\\nSkipping line 194723: expected 2 fields, saw 3\\nSkipping line 195364: expected 2 fields, saw 3\\nSkipping line 195564: expected 2 fields, saw 3\\nSkipping line 195867: expected 2 fields, saw 3\\nSkipping line 196875: expected 2 fields, saw 3\\nSkipping line 197060: expected 2 fields, saw 3\\nSkipping line 198379: expected 2 fields, saw 3\\nSkipping line 199080: expected 2 fields, saw 3\\nSkipping line 199334: expected 2 fields, saw 3\\nSkipping line 199362: expected 2 fields, saw 3\\nSkipping line 199443: expected 2 fields, saw 3\\nSkipping line 199740: expected 2 fields, saw 3\\nSkipping line 201108: expected 2 fields, saw 3\\nSkipping line 201425: expected 2 fields, saw 3\\nSkipping line 201482: expected 2 fields, saw 3\\nSkipping line 201851: expected 2 fields, saw 3\\nSkipping line 202347: expected 2 fields, saw 3\\nSkipping line 202860: expected 2 fields, saw 3\\nSkipping line 202890: expected 2 fields, saw 3\\nSkipping line 203665: expected 2 fields, saw 3\\nSkipping line 204235: expected 2 fields, saw 4\\nSkipping line 204963: expected 2 fields, saw 3\\nSkipping line 205372: expected 2 fields, saw 3\\nSkipping line 205992: expected 2 fields, saw 3\\nSkipping line 208010: expected 2 fields, saw 3\\nSkipping line 208383: expected 2 fields, saw 3\\nSkipping line 208433: expected 2 fields, saw 3\\nSkipping line 208650: expected 2 fields, saw 3\\nSkipping line 208803: expected 2 fields, saw 3\\nSkipping line 208935: expected 2 fields, saw 3\\nSkipping line 209788: expected 2 fields, saw 3\\nSkipping line 209920: expected 2 fields, saw 3\\nSkipping line 210068: expected 2 fields, saw 3\\nSkipping line 210166: expected 2 fields, saw 3\\nSkipping line 210178: expected 2 fields, saw 3\\nSkipping line 210533: expected 2 fields, saw 4\\nSkipping line 211250: expected 2 fields, saw 4\\nSkipping line 211456: expected 2 fields, saw 3\\nSkipping line 212012: expected 2 fields, saw 3\\nSkipping line 212520: expected 2 fields, saw 3\\nSkipping line 212675: expected 2 fields, saw 3\\nSkipping line 213114: expected 2 fields, saw 3\\nSkipping line 213782: expected 2 fields, saw 3\\nSkipping line 213834: expected 2 fields, saw 3\\nSkipping line 213918: expected 2 fields, saw 3\\nSkipping line 214322: expected 2 fields, saw 3\\nSkipping line 214379: expected 2 fields, saw 3\\nSkipping line 215743: expected 2 fields, saw 3\\nSkipping line 216308: expected 2 fields, saw 3\\nSkipping line 217405: expected 2 fields, saw 3\\nSkipping line 218655: expected 2 fields, saw 3\\nSkipping line 219099: expected 2 fields, saw 3\\nSkipping line 219169: expected 2 fields, saw 3\\nSkipping line 219974: expected 2 fields, saw 3\\nSkipping line 220629: expected 2 fields, saw 3\\nSkipping line 222650: expected 2 fields, saw 3\\nSkipping line 223470: expected 2 fields, saw 3\\nSkipping line 224147: expected 2 fields, saw 3\\nSkipping line 224757: expected 2 fields, saw 3\\nSkipping line 224988: expected 2 fields, saw 3\\nSkipping line 225108: expected 2 fields, saw 3\\nSkipping line 225288: expected 2 fields, saw 3\\nSkipping line 226016: expected 2 fields, saw 3\\nSkipping line 226191: expected 2 fields, saw 4\\nSkipping line 226229: expected 2 fields, saw 3\\nSkipping line 226354: expected 2 fields, saw 3\\nSkipping line 227252: expected 2 fields, saw 3\\nSkipping line 227374: expected 2 fields, saw 3\\nSkipping line 227518: expected 2 fields, saw 3\\nSkipping line 227732: expected 2 fields, saw 3\\nSkipping line 229220: expected 2 fields, saw 3\\nSkipping line 229233: expected 2 fields, saw 3\\nSkipping line 229463: expected 2 fields, saw 3\\nSkipping line 229482: expected 2 fields, saw 3\\nSkipping line 229498: expected 2 fields, saw 3\\nSkipping line 229505: expected 2 fields, saw 3\\nSkipping line 230559: expected 2 fields, saw 3\\nSkipping line 231384: expected 2 fields, saw 3\\nSkipping line 231723: expected 2 fields, saw 3\\nSkipping line 232123: expected 2 fields, saw 3\\nSkipping line 233369: expected 2 fields, saw 3\\nSkipping line 234480: expected 2 fields, saw 3\\nSkipping line 235145: expected 2 fields, saw 3\\nSkipping line 235752: expected 2 fields, saw 3\\nSkipping line 235936: expected 2 fields, saw 3\\nSkipping line 236189: expected 2 fields, saw 3\\nSkipping line 236257: expected 2 fields, saw 3\\nSkipping line 237048: expected 2 fields, saw 3\\nSkipping line 237346: expected 2 fields, saw 3\\nSkipping line 237917: expected 2 fields, saw 3\\nSkipping line 238108: expected 2 fields, saw 3\\nSkipping line 238496: expected 2 fields, saw 4\\nSkipping line 238581: expected 2 fields, saw 3\\nSkipping line 239029: expected 2 fields, saw 3\\nSkipping line 239158: expected 2 fields, saw 3\\nSkipping line 240119: expected 2 fields, saw 3\\nSkipping line 240763: expected 2 fields, saw 4\\nSkipping line 241611: expected 2 fields, saw 3\\nSkipping line 241714: expected 2 fields, saw 3\\nSkipping line 242379: expected 2 fields, saw 3\\nSkipping line 242880: expected 2 fields, saw 3\\nSkipping line 242895: expected 2 fields, saw 3\\nSkipping line 242968: expected 2 fields, saw 4\\nSkipping line 243186: expected 2 fields, saw 3\\nSkipping line 245381: expected 2 fields, saw 3\\nSkipping line 245936: expected 2 fields, saw 3\\nSkipping line 246561: expected 2 fields, saw 3\\nSkipping line 246562: expected 2 fields, saw 4\\nSkipping line 246930: expected 2 fields, saw 3\\nSkipping line 248406: expected 2 fields, saw 3\\nSkipping line 248806: expected 2 fields, saw 3\\nSkipping line 249075: expected 2 fields, saw 3\\nSkipping line 249603: expected 2 fields, saw 3\\nSkipping line 250623: expected 2 fields, saw 3\\nSkipping line 250651: expected 2 fields, saw 3\\nSkipping line 251206: expected 2 fields, saw 3\\nSkipping line 252358: expected 2 fields, saw 3\\nSkipping line 254745: expected 2 fields, saw 4\\nSkipping line 254795: expected 2 fields, saw 3\\nSkipping line 254895: expected 2 fields, saw 3\\nSkipping line 255857: expected 2 fields, saw 3\\nSkipping line 256567: expected 2 fields, saw 3\\nSkipping line 257902: expected 2 fields, saw 3\\nSkipping line 258513: expected 2 fields, saw 3\\nSkipping line 258898: expected 2 fields, saw 3\\nSkipping line 259883: expected 2 fields, saw 3\\nSkipping line 260095: expected 2 fields, saw 3\\nSkipping line 260177: expected 2 fields, saw 3\\nSkipping line 260379: expected 2 fields, saw 3\\nSkipping line 260844: expected 2 fields, saw 3\\nSkipping line 260867: expected 2 fields, saw 3\\nSkipping line 261868: expected 2 fields, saw 4\\nSkipping line 261941: expected 2 fields, saw 3\\nSkipping line 262359: expected 2 fields, saw 4\\n'\n",
            "b'Skipping line 262788: expected 2 fields, saw 3\\nSkipping line 262904: expected 2 fields, saw 3\\nSkipping line 264294: expected 2 fields, saw 3\\nSkipping line 265081: expected 2 fields, saw 3\\nSkipping line 265375: expected 2 fields, saw 3\\nSkipping line 266872: expected 2 fields, saw 3\\nSkipping line 267015: expected 2 fields, saw 3\\nSkipping line 267870: expected 2 fields, saw 3\\nSkipping line 269294: expected 2 fields, saw 3\\nSkipping line 269870: expected 2 fields, saw 3\\nSkipping line 270255: expected 2 fields, saw 3\\nSkipping line 270624: expected 2 fields, saw 3\\nSkipping line 270631: expected 2 fields, saw 3\\nSkipping line 270991: expected 2 fields, saw 3\\nSkipping line 271963: expected 2 fields, saw 3\\nSkipping line 272642: expected 2 fields, saw 3\\nSkipping line 273276: expected 2 fields, saw 3\\nSkipping line 273378: expected 2 fields, saw 3\\nSkipping line 273843: expected 2 fields, saw 3\\nSkipping line 273859: expected 2 fields, saw 3\\nSkipping line 273861: expected 2 fields, saw 3\\nSkipping line 274263: expected 2 fields, saw 3\\nSkipping line 274272: expected 2 fields, saw 3\\nSkipping line 274685: expected 2 fields, saw 3\\nSkipping line 276905: expected 2 fields, saw 3\\nSkipping line 277873: expected 2 fields, saw 3\\nSkipping line 281073: expected 2 fields, saw 3\\nSkipping line 282859: expected 2 fields, saw 3\\nSkipping line 283637: expected 2 fields, saw 3\\nSkipping line 284507: expected 2 fields, saw 3\\nSkipping line 284681: expected 2 fields, saw 3\\nSkipping line 284713: expected 2 fields, saw 3\\nSkipping line 286031: expected 2 fields, saw 3\\nSkipping line 286399: expected 2 fields, saw 3\\nSkipping line 287295: expected 2 fields, saw 3\\nSkipping line 288533: expected 2 fields, saw 4\\nSkipping line 288819: expected 2 fields, saw 3\\nSkipping line 288848: expected 2 fields, saw 3\\nSkipping line 290239: expected 2 fields, saw 3\\nSkipping line 290575: expected 2 fields, saw 3\\nSkipping line 290765: expected 2 fields, saw 3\\nSkipping line 291144: expected 2 fields, saw 3\\nSkipping line 291694: expected 2 fields, saw 3\\nSkipping line 292708: expected 2 fields, saw 3\\nSkipping line 292864: expected 2 fields, saw 3\\nSkipping line 293464: expected 2 fields, saw 3\\nSkipping line 293679: expected 2 fields, saw 3\\nSkipping line 294059: expected 2 fields, saw 3\\nSkipping line 294671: expected 2 fields, saw 3\\nSkipping line 295355: expected 2 fields, saw 3\\nSkipping line 295408: expected 2 fields, saw 3\\nSkipping line 295513: expected 2 fields, saw 3\\nSkipping line 295596: expected 2 fields, saw 3\\nSkipping line 295651: expected 2 fields, saw 3\\nSkipping line 296088: expected 2 fields, saw 3\\nSkipping line 296230: expected 2 fields, saw 3\\nSkipping line 297351: expected 2 fields, saw 3\\nSkipping line 297506: expected 2 fields, saw 3\\nSkipping line 299341: expected 2 fields, saw 3\\nSkipping line 299350: expected 2 fields, saw 3\\nSkipping line 300008: expected 2 fields, saw 3\\nSkipping line 300057: expected 2 fields, saw 3\\nSkipping line 301013: expected 2 fields, saw 3\\nSkipping line 302369: expected 2 fields, saw 3\\nSkipping line 303528: expected 2 fields, saw 3\\nSkipping line 304560: expected 2 fields, saw 3\\nSkipping line 305173: expected 2 fields, saw 3\\nSkipping line 305656: expected 2 fields, saw 3\\nSkipping line 306423: expected 2 fields, saw 3\\nSkipping line 307218: expected 2 fields, saw 3\\nSkipping line 307232: expected 2 fields, saw 3\\nSkipping line 307687: expected 2 fields, saw 3\\nSkipping line 308201: expected 2 fields, saw 4\\nSkipping line 309318: expected 2 fields, saw 3\\nSkipping line 310418: expected 2 fields, saw 3\\nSkipping line 311243: expected 2 fields, saw 3\\nSkipping line 311407: expected 2 fields, saw 3\\nSkipping line 311465: expected 2 fields, saw 3\\nSkipping line 311609: expected 2 fields, saw 3\\nSkipping line 311696: expected 2 fields, saw 3\\nSkipping line 313997: expected 2 fields, saw 3\\nSkipping line 314291: expected 2 fields, saw 3\\nSkipping line 314491: expected 2 fields, saw 3\\nSkipping line 315007: expected 2 fields, saw 3\\nSkipping line 315446: expected 2 fields, saw 3\\nSkipping line 315852: expected 2 fields, saw 3\\nSkipping line 316197: expected 2 fields, saw 3\\nSkipping line 316294: expected 2 fields, saw 4\\nSkipping line 317306: expected 2 fields, saw 4\\nSkipping line 317389: expected 2 fields, saw 3\\nSkipping line 317509: expected 2 fields, saw 3\\nSkipping line 317749: expected 2 fields, saw 3\\nSkipping line 318411: expected 2 fields, saw 4\\nSkipping line 318454: expected 2 fields, saw 3\\nSkipping line 318467: expected 2 fields, saw 3\\nSkipping line 318566: expected 2 fields, saw 3\\nSkipping line 319432: expected 2 fields, saw 3\\nSkipping line 319545: expected 2 fields, saw 3\\nSkipping line 319747: expected 2 fields, saw 3\\nSkipping line 320522: expected 2 fields, saw 3\\nSkipping line 320574: expected 2 fields, saw 3\\nSkipping line 321173: expected 2 fields, saw 3\\nSkipping line 321197: expected 2 fields, saw 3\\nSkipping line 321496: expected 2 fields, saw 3\\nSkipping line 323060: expected 2 fields, saw 3\\nSkipping line 323183: expected 2 fields, saw 3\\nSkipping line 324305: expected 2 fields, saw 3\\nSkipping line 327408: expected 2 fields, saw 3\\nSkipping line 327859: expected 2 fields, saw 4\\nSkipping line 329036: expected 2 fields, saw 4\\nSkipping line 329326: expected 2 fields, saw 3\\nSkipping line 330194: expected 2 fields, saw 3\\nSkipping line 331955: expected 2 fields, saw 3\\nSkipping line 333259: expected 2 fields, saw 3\\nSkipping line 333874: expected 2 fields, saw 3\\nSkipping line 334493: expected 2 fields, saw 3\\nSkipping line 335668: expected 2 fields, saw 3\\nSkipping line 335901: expected 2 fields, saw 3\\nSkipping line 337715: expected 2 fields, saw 3\\nSkipping line 338407: expected 2 fields, saw 3\\nSkipping line 339093: expected 2 fields, saw 3\\nSkipping line 339122: expected 2 fields, saw 3\\nSkipping line 339218: expected 2 fields, saw 3\\nSkipping line 339609: expected 2 fields, saw 3\\nSkipping line 340310: expected 2 fields, saw 3\\nSkipping line 340649: expected 2 fields, saw 3\\nSkipping line 342488: expected 2 fields, saw 3\\nSkipping line 342705: expected 2 fields, saw 3\\nSkipping line 342947: expected 2 fields, saw 3\\nSkipping line 343225: expected 2 fields, saw 3\\nSkipping line 344269: expected 2 fields, saw 3\\nSkipping line 344621: expected 2 fields, saw 3\\nSkipping line 345133: expected 2 fields, saw 3\\nSkipping line 345873: expected 2 fields, saw 3\\nSkipping line 346139: expected 2 fields, saw 3\\nSkipping line 348491: expected 2 fields, saw 3\\nSkipping line 348704: expected 2 fields, saw 3\\nSkipping line 349419: expected 2 fields, saw 3\\nSkipping line 349677: expected 2 fields, saw 3\\nSkipping line 349860: expected 2 fields, saw 4\\nSkipping line 349993: expected 2 fields, saw 3\\nSkipping line 350449: expected 2 fields, saw 3\\nSkipping line 351316: expected 2 fields, saw 3\\nSkipping line 351802: expected 2 fields, saw 3\\nSkipping line 352212: expected 2 fields, saw 3\\nSkipping line 352606: expected 2 fields, saw 3\\nSkipping line 354431: expected 2 fields, saw 3\\nSkipping line 354574: expected 2 fields, saw 3\\nSkipping line 354666: expected 2 fields, saw 3\\nSkipping line 357202: expected 2 fields, saw 3\\nSkipping line 359040: expected 2 fields, saw 3\\nSkipping line 359321: expected 2 fields, saw 3\\nSkipping line 359984: expected 2 fields, saw 3\\nSkipping line 360185: expected 2 fields, saw 3\\nSkipping line 360605: expected 2 fields, saw 3\\nSkipping line 361372: expected 2 fields, saw 3\\nSkipping line 361629: expected 2 fields, saw 3\\nSkipping line 362359: expected 2 fields, saw 3\\nSkipping line 363163: expected 2 fields, saw 3\\nSkipping line 363438: expected 2 fields, saw 3\\nSkipping line 363579: expected 2 fields, saw 3\\nSkipping line 363803: expected 2 fields, saw 3\\nSkipping line 364020: expected 2 fields, saw 3\\nSkipping line 365516: expected 2 fields, saw 3\\nSkipping line 365853: expected 2 fields, saw 3\\nSkipping line 366911: expected 2 fields, saw 3\\nSkipping line 367513: expected 2 fields, saw 3\\nSkipping line 367609: expected 2 fields, saw 3\\nSkipping line 368991: expected 2 fields, saw 3\\nSkipping line 369799: expected 2 fields, saw 3\\nSkipping line 371171: expected 2 fields, saw 3\\nSkipping line 372001: expected 2 fields, saw 3\\nSkipping line 373158: expected 2 fields, saw 3\\nSkipping line 373516: expected 2 fields, saw 4\\nSkipping line 373628: expected 2 fields, saw 4\\nSkipping line 374019: expected 2 fields, saw 3\\nSkipping line 374392: expected 2 fields, saw 3\\nSkipping line 375251: expected 2 fields, saw 3\\nSkipping line 375503: expected 2 fields, saw 3\\nSkipping line 375894: expected 2 fields, saw 3\\nSkipping line 376735: expected 2 fields, saw 4\\nSkipping line 377217: expected 2 fields, saw 3\\nSkipping line 377758: expected 2 fields, saw 3\\nSkipping line 378942: expected 2 fields, saw 3\\nSkipping line 379377: expected 2 fields, saw 3\\nSkipping line 380066: expected 2 fields, saw 3\\nSkipping line 380069: expected 2 fields, saw 3\\nSkipping line 381791: expected 2 fields, saw 3\\nSkipping line 381829: expected 2 fields, saw 3\\nSkipping line 381884: expected 2 fields, saw 3\\nSkipping line 382453: expected 2 fields, saw 3\\nSkipping line 383051: expected 2 fields, saw 3\\nSkipping line 383196: expected 2 fields, saw 3\\nSkipping line 383438: expected 2 fields, saw 3\\nSkipping line 384941: expected 2 fields, saw 3\\nSkipping line 385478: expected 2 fields, saw 3\\nSkipping line 385616: expected 2 fields, saw 3\\n'\n"
          ],
          "name": "stderr"
        },
        {
          "output_type": "stream",
          "text": [
            "\n",
            " Data read succesfully!!\n"
          ],
          "name": "stdout"
        }
      ]
    },
    {
      "cell_type": "code",
      "metadata": {
        "id": "XXWoSwCoF311"
      },
      "source": [
        "songs.columns=[\"song_id\",\"Serial_Number\"] "
      ],
      "execution_count": null,
      "outputs": []
    },
    {
      "cell_type": "code",
      "metadata": {
        "colab": {
          "base_uri": "https://localhost:8080/",
          "height": 206
        },
        "id": "gyy3oQb_GH1A",
        "outputId": "0db63bbf-0e22-4d57-bd77-9bcebf95d84b"
      },
      "source": [
        "songs.head() "
      ],
      "execution_count": null,
      "outputs": [
        {
          "output_type": "execute_result",
          "data": {
            "text/html": [
              "<div>\n",
              "<style scoped>\n",
              "    .dataframe tbody tr th:only-of-type {\n",
              "        vertical-align: middle;\n",
              "    }\n",
              "\n",
              "    .dataframe tbody tr th {\n",
              "        vertical-align: top;\n",
              "    }\n",
              "\n",
              "    .dataframe thead th {\n",
              "        text-align: right;\n",
              "    }\n",
              "</style>\n",
              "<table border=\"1\" class=\"dataframe\">\n",
              "  <thead>\n",
              "    <tr style=\"text-align: right;\">\n",
              "      <th></th>\n",
              "      <th>song_id</th>\n",
              "      <th>Serial_Number</th>\n",
              "    </tr>\n",
              "  </thead>\n",
              "  <tbody>\n",
              "    <tr>\n",
              "      <th>0</th>\n",
              "      <td>SOAAADD12AB018A9DD</td>\n",
              "      <td>1</td>\n",
              "    </tr>\n",
              "    <tr>\n",
              "      <th>1</th>\n",
              "      <td>SOAAADE12A6D4F80CC</td>\n",
              "      <td>2</td>\n",
              "    </tr>\n",
              "    <tr>\n",
              "      <th>2</th>\n",
              "      <td>SOAAADF12A8C13DF62</td>\n",
              "      <td>3</td>\n",
              "    </tr>\n",
              "    <tr>\n",
              "      <th>3</th>\n",
              "      <td>SOAAADZ12A8C1334FB</td>\n",
              "      <td>4</td>\n",
              "    </tr>\n",
              "    <tr>\n",
              "      <th>4</th>\n",
              "      <td>SOAAAFI12A6D4F9C66</td>\n",
              "      <td>5</td>\n",
              "    </tr>\n",
              "  </tbody>\n",
              "</table>\n",
              "</div>"
            ],
            "text/plain": [
              "              song_id  Serial_Number\n",
              "0  SOAAADD12AB018A9DD              1\n",
              "1  SOAAADE12A6D4F80CC              2\n",
              "2  SOAAADF12A8C13DF62              3\n",
              "3  SOAAADZ12A8C1334FB              4\n",
              "4  SOAAAFI12A6D4F9C66              5"
            ]
          },
          "metadata": {
            "tags": []
          },
          "execution_count": 8
        }
      ]
    },
    {
      "cell_type": "code",
      "metadata": {
        "colab": {
          "base_uri": "https://localhost:8080/"
        },
        "id": "JziA4Nygqr-O",
        "outputId": "88b9deeb-8351-4f1a-cb19-502eb7849360"
      },
      "source": [
        "songs.shape"
      ],
      "execution_count": null,
      "outputs": [
        {
          "output_type": "execute_result",
          "data": {
            "text/plain": [
              "(386213, 2)"
            ]
          },
          "metadata": {
            "tags": []
          },
          "execution_count": 9
        }
      ]
    },
    {
      "cell_type": "code",
      "metadata": {
        "colab": {
          "base_uri": "https://localhost:8080/"
        },
        "id": "4elv8mbPqxSs",
        "outputId": "1d4a6d30-a420-4982-9f40-34480a8b0df4"
      },
      "source": [
        "songs.info()"
      ],
      "execution_count": null,
      "outputs": [
        {
          "output_type": "stream",
          "text": [
            "<class 'pandas.core.frame.DataFrame'>\n",
            "RangeIndex: 386213 entries, 0 to 386212\n",
            "Data columns (total 2 columns):\n",
            " #   Column         Non-Null Count   Dtype \n",
            "---  ------         --------------   ----- \n",
            " 0   song_id        386213 non-null  object\n",
            " 1   Serial_Number  386213 non-null  int64 \n",
            "dtypes: int64(1), object(1)\n",
            "memory usage: 5.9+ MB\n"
          ],
          "name": "stdout"
        }
      ]
    },
    {
      "cell_type": "code",
      "metadata": {
        "id": "lqIr2CZCq6TM"
      },
      "source": [
        "users.columns=[\"user_id\"]"
      ],
      "execution_count": null,
      "outputs": []
    },
    {
      "cell_type": "code",
      "metadata": {
        "colab": {
          "base_uri": "https://localhost:8080/",
          "height": 206
        },
        "id": "0bd4HM2PrFPO",
        "outputId": "defe27a2-2f8e-4e68-b845-41ebbe5b2a72"
      },
      "source": [
        "users.head()"
      ],
      "execution_count": null,
      "outputs": [
        {
          "output_type": "execute_result",
          "data": {
            "text/html": [
              "<div>\n",
              "<style scoped>\n",
              "    .dataframe tbody tr th:only-of-type {\n",
              "        vertical-align: middle;\n",
              "    }\n",
              "\n",
              "    .dataframe tbody tr th {\n",
              "        vertical-align: top;\n",
              "    }\n",
              "\n",
              "    .dataframe thead th {\n",
              "        text-align: right;\n",
              "    }\n",
              "</style>\n",
              "<table border=\"1\" class=\"dataframe\">\n",
              "  <thead>\n",
              "    <tr style=\"text-align: right;\">\n",
              "      <th></th>\n",
              "      <th>user_id</th>\n",
              "    </tr>\n",
              "  </thead>\n",
              "  <tbody>\n",
              "    <tr>\n",
              "      <th>0</th>\n",
              "      <td>d7083f5e1d50c264277d624340edaaf3dc16095b</td>\n",
              "    </tr>\n",
              "    <tr>\n",
              "      <th>1</th>\n",
              "      <td>d68dc6fc25248234590d7668a11e3335534ae4b4</td>\n",
              "    </tr>\n",
              "    <tr>\n",
              "      <th>2</th>\n",
              "      <td>9be82340a8b5ef32357fe5af957ccd54736ece95</td>\n",
              "    </tr>\n",
              "    <tr>\n",
              "      <th>3</th>\n",
              "      <td>841b2394ae3a9febbd6b06497b4a8ee8eb24b7f8</td>\n",
              "    </tr>\n",
              "    <tr>\n",
              "      <th>4</th>\n",
              "      <td>91b8fac7dc5e03f6cfaf6e2aa7171f14a8354d62</td>\n",
              "    </tr>\n",
              "  </tbody>\n",
              "</table>\n",
              "</div>"
            ],
            "text/plain": [
              "                                    user_id\n",
              "0  d7083f5e1d50c264277d624340edaaf3dc16095b\n",
              "1  d68dc6fc25248234590d7668a11e3335534ae4b4\n",
              "2  9be82340a8b5ef32357fe5af957ccd54736ece95\n",
              "3  841b2394ae3a9febbd6b06497b4a8ee8eb24b7f8\n",
              "4  91b8fac7dc5e03f6cfaf6e2aa7171f14a8354d62"
            ]
          },
          "metadata": {
            "tags": []
          },
          "execution_count": 12
        }
      ]
    },
    {
      "cell_type": "code",
      "metadata": {
        "colab": {
          "base_uri": "https://localhost:8080/"
        },
        "id": "GoYgtjKVrHUa",
        "outputId": "3438ac8b-fbe3-49d1-ec3e-68258673253b"
      },
      "source": [
        "users.info()"
      ],
      "execution_count": null,
      "outputs": [
        {
          "output_type": "stream",
          "text": [
            "<class 'pandas.core.frame.DataFrame'>\n",
            "RangeIndex: 109999 entries, 0 to 109998\n",
            "Data columns (total 1 columns):\n",
            " #   Column   Non-Null Count   Dtype \n",
            "---  ------   --------------   ----- \n",
            " 0   user_id  109999 non-null  object\n",
            "dtypes: object(1)\n",
            "memory usage: 859.5+ KB\n"
          ],
          "name": "stdout"
        }
      ]
    },
    {
      "cell_type": "code",
      "metadata": {
        "colab": {
          "base_uri": "https://localhost:8080/",
          "height": 206
        },
        "id": "VeWsRwyirMeI",
        "outputId": "d66a0d49-1888-4d72-9139-50e6682d699f"
      },
      "source": [
        "unique_tracks.head()"
      ],
      "execution_count": null,
      "outputs": [
        {
          "output_type": "execute_result",
          "data": {
            "text/html": [
              "<div>\n",
              "<style scoped>\n",
              "    .dataframe tbody tr th:only-of-type {\n",
              "        vertical-align: middle;\n",
              "    }\n",
              "\n",
              "    .dataframe tbody tr th {\n",
              "        vertical-align: top;\n",
              "    }\n",
              "\n",
              "    .dataframe thead th {\n",
              "        text-align: right;\n",
              "    }\n",
              "</style>\n",
              "<table border=\"1\" class=\"dataframe\">\n",
              "  <thead>\n",
              "    <tr style=\"text-align: right;\">\n",
              "      <th></th>\n",
              "      <th>0</th>\n",
              "      <th>1</th>\n",
              "      <th>2</th>\n",
              "      <th>3</th>\n",
              "    </tr>\n",
              "  </thead>\n",
              "  <tbody>\n",
              "    <tr>\n",
              "      <th>0</th>\n",
              "      <td>TRMMMYQ128F932D901</td>\n",
              "      <td>SOQMMHC12AB0180CB8</td>\n",
              "      <td>Faster Pussy cat</td>\n",
              "      <td>Silent Night</td>\n",
              "    </tr>\n",
              "    <tr>\n",
              "      <th>1</th>\n",
              "      <td>TRMMMKD128F425225D</td>\n",
              "      <td>SOVFVAK12A8C1350D9</td>\n",
              "      <td>Karkkiautomaatti</td>\n",
              "      <td>Tanssi vaan</td>\n",
              "    </tr>\n",
              "    <tr>\n",
              "      <th>2</th>\n",
              "      <td>TRMMMRX128F93187D9</td>\n",
              "      <td>SOGTUKN12AB017F4F1</td>\n",
              "      <td>Hudson Mohawke</td>\n",
              "      <td>No One Could Ever</td>\n",
              "    </tr>\n",
              "    <tr>\n",
              "      <th>3</th>\n",
              "      <td>TRMMMCH128F425532C</td>\n",
              "      <td>SOBNYVR12A8C13558C</td>\n",
              "      <td>Yerba Brava</td>\n",
              "      <td>Si Vos Querés</td>\n",
              "    </tr>\n",
              "    <tr>\n",
              "      <th>4</th>\n",
              "      <td>TRMMMWA128F426B589</td>\n",
              "      <td>SOHSBXH12A8C13B0DF</td>\n",
              "      <td>Der Mystic</td>\n",
              "      <td>Tangle Of Aspens</td>\n",
              "    </tr>\n",
              "  </tbody>\n",
              "</table>\n",
              "</div>"
            ],
            "text/plain": [
              "                    0                   1                 2                  3\n",
              "0  TRMMMYQ128F932D901  SOQMMHC12AB0180CB8  Faster Pussy cat       Silent Night\n",
              "1  TRMMMKD128F425225D  SOVFVAK12A8C1350D9  Karkkiautomaatti        Tanssi vaan\n",
              "2  TRMMMRX128F93187D9  SOGTUKN12AB017F4F1    Hudson Mohawke  No One Could Ever\n",
              "3  TRMMMCH128F425532C  SOBNYVR12A8C13558C       Yerba Brava      Si Vos Querés\n",
              "4  TRMMMWA128F426B589  SOHSBXH12A8C13B0DF        Der Mystic   Tangle Of Aspens"
            ]
          },
          "metadata": {
            "tags": []
          },
          "execution_count": 14
        }
      ]
    },
    {
      "cell_type": "code",
      "metadata": {
        "id": "GHlFP0tNrYi7"
      },
      "source": [
        "unique_tracks.columns = [\"track_id\",\"song_id\",\"singer\",\"song_name\"]"
      ],
      "execution_count": null,
      "outputs": []
    },
    {
      "cell_type": "code",
      "metadata": {
        "colab": {
          "base_uri": "https://localhost:8080/",
          "height": 206
        },
        "id": "gHdM6liNr-Wf",
        "outputId": "cc970d2b-098d-4dc9-e7e4-2f007701d2a1"
      },
      "source": [
        "unique_tracks.head()"
      ],
      "execution_count": null,
      "outputs": [
        {
          "output_type": "execute_result",
          "data": {
            "text/html": [
              "<div>\n",
              "<style scoped>\n",
              "    .dataframe tbody tr th:only-of-type {\n",
              "        vertical-align: middle;\n",
              "    }\n",
              "\n",
              "    .dataframe tbody tr th {\n",
              "        vertical-align: top;\n",
              "    }\n",
              "\n",
              "    .dataframe thead th {\n",
              "        text-align: right;\n",
              "    }\n",
              "</style>\n",
              "<table border=\"1\" class=\"dataframe\">\n",
              "  <thead>\n",
              "    <tr style=\"text-align: right;\">\n",
              "      <th></th>\n",
              "      <th>track_id</th>\n",
              "      <th>song_id</th>\n",
              "      <th>singer</th>\n",
              "      <th>song_name</th>\n",
              "    </tr>\n",
              "  </thead>\n",
              "  <tbody>\n",
              "    <tr>\n",
              "      <th>0</th>\n",
              "      <td>TRMMMYQ128F932D901</td>\n",
              "      <td>SOQMMHC12AB0180CB8</td>\n",
              "      <td>Faster Pussy cat</td>\n",
              "      <td>Silent Night</td>\n",
              "    </tr>\n",
              "    <tr>\n",
              "      <th>1</th>\n",
              "      <td>TRMMMKD128F425225D</td>\n",
              "      <td>SOVFVAK12A8C1350D9</td>\n",
              "      <td>Karkkiautomaatti</td>\n",
              "      <td>Tanssi vaan</td>\n",
              "    </tr>\n",
              "    <tr>\n",
              "      <th>2</th>\n",
              "      <td>TRMMMRX128F93187D9</td>\n",
              "      <td>SOGTUKN12AB017F4F1</td>\n",
              "      <td>Hudson Mohawke</td>\n",
              "      <td>No One Could Ever</td>\n",
              "    </tr>\n",
              "    <tr>\n",
              "      <th>3</th>\n",
              "      <td>TRMMMCH128F425532C</td>\n",
              "      <td>SOBNYVR12A8C13558C</td>\n",
              "      <td>Yerba Brava</td>\n",
              "      <td>Si Vos Querés</td>\n",
              "    </tr>\n",
              "    <tr>\n",
              "      <th>4</th>\n",
              "      <td>TRMMMWA128F426B589</td>\n",
              "      <td>SOHSBXH12A8C13B0DF</td>\n",
              "      <td>Der Mystic</td>\n",
              "      <td>Tangle Of Aspens</td>\n",
              "    </tr>\n",
              "  </tbody>\n",
              "</table>\n",
              "</div>"
            ],
            "text/plain": [
              "             track_id             song_id            singer          song_name\n",
              "0  TRMMMYQ128F932D901  SOQMMHC12AB0180CB8  Faster Pussy cat       Silent Night\n",
              "1  TRMMMKD128F425225D  SOVFVAK12A8C1350D9  Karkkiautomaatti        Tanssi vaan\n",
              "2  TRMMMRX128F93187D9  SOGTUKN12AB017F4F1    Hudson Mohawke  No One Could Ever\n",
              "3  TRMMMCH128F425532C  SOBNYVR12A8C13558C       Yerba Brava      Si Vos Querés\n",
              "4  TRMMMWA128F426B589  SOHSBXH12A8C13B0DF        Der Mystic   Tangle Of Aspens"
            ]
          },
          "metadata": {
            "tags": []
          },
          "execution_count": 16
        }
      ]
    },
    {
      "cell_type": "code",
      "metadata": {
        "colab": {
          "base_uri": "https://localhost:8080/"
        },
        "id": "wQj_7EeRsAu9",
        "outputId": "139a1594-fc23-47b1-8f7f-30d92c802ac1"
      },
      "source": [
        "triplet.info()"
      ],
      "execution_count": null,
      "outputs": [
        {
          "output_type": "stream",
          "text": [
            "<class 'pandas.core.frame.DataFrame'>\n",
            "RangeIndex: 1450933 entries, 0 to 1450932\n",
            "Data columns (total 3 columns):\n",
            " #   Column  Non-Null Count    Dtype \n",
            "---  ------  --------------    ----- \n",
            " 0   0       1450933 non-null  object\n",
            " 1   1       1450933 non-null  object\n",
            " 2   2       1450933 non-null  int64 \n",
            "dtypes: int64(1), object(2)\n",
            "memory usage: 33.2+ MB\n"
          ],
          "name": "stdout"
        }
      ]
    },
    {
      "cell_type": "code",
      "metadata": {
        "colab": {
          "base_uri": "https://localhost:8080/",
          "height": 206
        },
        "id": "SsyD4TkqT1MV",
        "outputId": "5ed00b64-d7ca-4e0d-bb1d-27f5348001b7"
      },
      "source": [
        "triplet.head()"
      ],
      "execution_count": null,
      "outputs": [
        {
          "output_type": "execute_result",
          "data": {
            "text/html": [
              "<div>\n",
              "<style scoped>\n",
              "    .dataframe tbody tr th:only-of-type {\n",
              "        vertical-align: middle;\n",
              "    }\n",
              "\n",
              "    .dataframe tbody tr th {\n",
              "        vertical-align: top;\n",
              "    }\n",
              "\n",
              "    .dataframe thead th {\n",
              "        text-align: right;\n",
              "    }\n",
              "</style>\n",
              "<table border=\"1\" class=\"dataframe\">\n",
              "  <thead>\n",
              "    <tr style=\"text-align: right;\">\n",
              "      <th></th>\n",
              "      <th>0</th>\n",
              "      <th>1</th>\n",
              "      <th>2</th>\n",
              "    </tr>\n",
              "  </thead>\n",
              "  <tbody>\n",
              "    <tr>\n",
              "      <th>0</th>\n",
              "      <td>fd50c4007b68a3737fe052d5a4f78ce8aa117f3d</td>\n",
              "      <td>SOBONKR12A58A7A7E0</td>\n",
              "      <td>1</td>\n",
              "    </tr>\n",
              "    <tr>\n",
              "      <th>1</th>\n",
              "      <td>fd50c4007b68a3737fe052d5a4f78ce8aa117f3d</td>\n",
              "      <td>SOEGIYH12A6D4FC0E3</td>\n",
              "      <td>1</td>\n",
              "    </tr>\n",
              "    <tr>\n",
              "      <th>2</th>\n",
              "      <td>fd50c4007b68a3737fe052d5a4f78ce8aa117f3d</td>\n",
              "      <td>SOFLJQZ12A6D4FADA6</td>\n",
              "      <td>1</td>\n",
              "    </tr>\n",
              "    <tr>\n",
              "      <th>3</th>\n",
              "      <td>fd50c4007b68a3737fe052d5a4f78ce8aa117f3d</td>\n",
              "      <td>SOHTKMO12AB01843B0</td>\n",
              "      <td>1</td>\n",
              "    </tr>\n",
              "    <tr>\n",
              "      <th>4</th>\n",
              "      <td>fd50c4007b68a3737fe052d5a4f78ce8aa117f3d</td>\n",
              "      <td>SODQZCY12A6D4F9D11</td>\n",
              "      <td>1</td>\n",
              "    </tr>\n",
              "  </tbody>\n",
              "</table>\n",
              "</div>"
            ],
            "text/plain": [
              "                                          0                   1  2\n",
              "0  fd50c4007b68a3737fe052d5a4f78ce8aa117f3d  SOBONKR12A58A7A7E0  1\n",
              "1  fd50c4007b68a3737fe052d5a4f78ce8aa117f3d  SOEGIYH12A6D4FC0E3  1\n",
              "2  fd50c4007b68a3737fe052d5a4f78ce8aa117f3d  SOFLJQZ12A6D4FADA6  1\n",
              "3  fd50c4007b68a3737fe052d5a4f78ce8aa117f3d  SOHTKMO12AB01843B0  1\n",
              "4  fd50c4007b68a3737fe052d5a4f78ce8aa117f3d  SODQZCY12A6D4F9D11  1"
            ]
          },
          "metadata": {
            "tags": []
          },
          "execution_count": 18
        }
      ]
    },
    {
      "cell_type": "code",
      "metadata": {
        "id": "e8axT7pYSbEM"
      },
      "source": [
        "triplet.columns = [\"user_id\",\"song_id\",\"song_count\"]"
      ],
      "execution_count": null,
      "outputs": []
    },
    {
      "cell_type": "code",
      "metadata": {
        "colab": {
          "base_uri": "https://localhost:8080/",
          "height": 206
        },
        "id": "ZyJaEVaBT8NS",
        "outputId": "04671da6-87b9-4ce5-c9de-b92fef50ebe7"
      },
      "source": [
        "triplet.head()"
      ],
      "execution_count": null,
      "outputs": [
        {
          "output_type": "execute_result",
          "data": {
            "text/html": [
              "<div>\n",
              "<style scoped>\n",
              "    .dataframe tbody tr th:only-of-type {\n",
              "        vertical-align: middle;\n",
              "    }\n",
              "\n",
              "    .dataframe tbody tr th {\n",
              "        vertical-align: top;\n",
              "    }\n",
              "\n",
              "    .dataframe thead th {\n",
              "        text-align: right;\n",
              "    }\n",
              "</style>\n",
              "<table border=\"1\" class=\"dataframe\">\n",
              "  <thead>\n",
              "    <tr style=\"text-align: right;\">\n",
              "      <th></th>\n",
              "      <th>user_id</th>\n",
              "      <th>song_id</th>\n",
              "      <th>song_count</th>\n",
              "    </tr>\n",
              "  </thead>\n",
              "  <tbody>\n",
              "    <tr>\n",
              "      <th>0</th>\n",
              "      <td>fd50c4007b68a3737fe052d5a4f78ce8aa117f3d</td>\n",
              "      <td>SOBONKR12A58A7A7E0</td>\n",
              "      <td>1</td>\n",
              "    </tr>\n",
              "    <tr>\n",
              "      <th>1</th>\n",
              "      <td>fd50c4007b68a3737fe052d5a4f78ce8aa117f3d</td>\n",
              "      <td>SOEGIYH12A6D4FC0E3</td>\n",
              "      <td>1</td>\n",
              "    </tr>\n",
              "    <tr>\n",
              "      <th>2</th>\n",
              "      <td>fd50c4007b68a3737fe052d5a4f78ce8aa117f3d</td>\n",
              "      <td>SOFLJQZ12A6D4FADA6</td>\n",
              "      <td>1</td>\n",
              "    </tr>\n",
              "    <tr>\n",
              "      <th>3</th>\n",
              "      <td>fd50c4007b68a3737fe052d5a4f78ce8aa117f3d</td>\n",
              "      <td>SOHTKMO12AB01843B0</td>\n",
              "      <td>1</td>\n",
              "    </tr>\n",
              "    <tr>\n",
              "      <th>4</th>\n",
              "      <td>fd50c4007b68a3737fe052d5a4f78ce8aa117f3d</td>\n",
              "      <td>SODQZCY12A6D4F9D11</td>\n",
              "      <td>1</td>\n",
              "    </tr>\n",
              "  </tbody>\n",
              "</table>\n",
              "</div>"
            ],
            "text/plain": [
              "                                    user_id             song_id  song_count\n",
              "0  fd50c4007b68a3737fe052d5a4f78ce8aa117f3d  SOBONKR12A58A7A7E0           1\n",
              "1  fd50c4007b68a3737fe052d5a4f78ce8aa117f3d  SOEGIYH12A6D4FC0E3           1\n",
              "2  fd50c4007b68a3737fe052d5a4f78ce8aa117f3d  SOFLJQZ12A6D4FADA6           1\n",
              "3  fd50c4007b68a3737fe052d5a4f78ce8aa117f3d  SOHTKMO12AB01843B0           1\n",
              "4  fd50c4007b68a3737fe052d5a4f78ce8aa117f3d  SODQZCY12A6D4F9D11           1"
            ]
          },
          "metadata": {
            "tags": []
          },
          "execution_count": 20
        }
      ]
    },
    {
      "cell_type": "code",
      "metadata": {
        "colab": {
          "base_uri": "https://localhost:8080/",
          "height": 206
        },
        "id": "8axmGWg1T96P",
        "outputId": "cf152706-4edc-418f-a4eb-634a18951574"
      },
      "source": [
        "taste_track.head()"
      ],
      "execution_count": null,
      "outputs": [
        {
          "output_type": "execute_result",
          "data": {
            "text/html": [
              "<div>\n",
              "<style scoped>\n",
              "    .dataframe tbody tr th:only-of-type {\n",
              "        vertical-align: middle;\n",
              "    }\n",
              "\n",
              "    .dataframe tbody tr th {\n",
              "        vertical-align: top;\n",
              "    }\n",
              "\n",
              "    .dataframe thead th {\n",
              "        text-align: right;\n",
              "    }\n",
              "</style>\n",
              "<table border=\"1\" class=\"dataframe\">\n",
              "  <thead>\n",
              "    <tr style=\"text-align: right;\">\n",
              "      <th></th>\n",
              "      <th>0</th>\n",
              "      <th>1</th>\n",
              "    </tr>\n",
              "  </thead>\n",
              "  <tbody>\n",
              "    <tr>\n",
              "      <th>0</th>\n",
              "      <td>SOAAADD12AB018A9DD</td>\n",
              "      <td>TRNCENP12903C9EF3A</td>\n",
              "    </tr>\n",
              "    <tr>\n",
              "      <th>1</th>\n",
              "      <td>SOAAADE12A6D4F80CC</td>\n",
              "      <td>TRSKKFK128F148B615</td>\n",
              "    </tr>\n",
              "    <tr>\n",
              "      <th>2</th>\n",
              "      <td>SOAAADF12A8C13DF62</td>\n",
              "      <td>TRCQMSP128F428A6F7</td>\n",
              "    </tr>\n",
              "    <tr>\n",
              "      <th>3</th>\n",
              "      <td>SOAAADZ12A8C1334FB</td>\n",
              "      <td>TRMDNZY128F425A532</td>\n",
              "    </tr>\n",
              "    <tr>\n",
              "      <th>4</th>\n",
              "      <td>SOAAAFI12A6D4F9C66</td>\n",
              "      <td>TRZEXLQ128F1491D17</td>\n",
              "    </tr>\n",
              "  </tbody>\n",
              "</table>\n",
              "</div>"
            ],
            "text/plain": [
              "                    0                   1\n",
              "0  SOAAADD12AB018A9DD  TRNCENP12903C9EF3A\n",
              "1  SOAAADE12A6D4F80CC  TRSKKFK128F148B615\n",
              "2  SOAAADF12A8C13DF62  TRCQMSP128F428A6F7\n",
              "3  SOAAADZ12A8C1334FB  TRMDNZY128F425A532\n",
              "4  SOAAAFI12A6D4F9C66  TRZEXLQ128F1491D17"
            ]
          },
          "metadata": {
            "tags": []
          },
          "execution_count": 21
        }
      ]
    },
    {
      "cell_type": "code",
      "metadata": {
        "colab": {
          "base_uri": "https://localhost:8080/",
          "height": 206
        },
        "id": "dzGZ3MfqXkrA",
        "outputId": "8d2ec18b-034d-4849-99d7-a355f0a4de49"
      },
      "source": [
        "taste_track.columns = [\"song_id\",\"track_id\"]\n",
        "taste_track.head()"
      ],
      "execution_count": null,
      "outputs": [
        {
          "output_type": "execute_result",
          "data": {
            "text/html": [
              "<div>\n",
              "<style scoped>\n",
              "    .dataframe tbody tr th:only-of-type {\n",
              "        vertical-align: middle;\n",
              "    }\n",
              "\n",
              "    .dataframe tbody tr th {\n",
              "        vertical-align: top;\n",
              "    }\n",
              "\n",
              "    .dataframe thead th {\n",
              "        text-align: right;\n",
              "    }\n",
              "</style>\n",
              "<table border=\"1\" class=\"dataframe\">\n",
              "  <thead>\n",
              "    <tr style=\"text-align: right;\">\n",
              "      <th></th>\n",
              "      <th>song_id</th>\n",
              "      <th>track_id</th>\n",
              "    </tr>\n",
              "  </thead>\n",
              "  <tbody>\n",
              "    <tr>\n",
              "      <th>0</th>\n",
              "      <td>SOAAADD12AB018A9DD</td>\n",
              "      <td>TRNCENP12903C9EF3A</td>\n",
              "    </tr>\n",
              "    <tr>\n",
              "      <th>1</th>\n",
              "      <td>SOAAADE12A6D4F80CC</td>\n",
              "      <td>TRSKKFK128F148B615</td>\n",
              "    </tr>\n",
              "    <tr>\n",
              "      <th>2</th>\n",
              "      <td>SOAAADF12A8C13DF62</td>\n",
              "      <td>TRCQMSP128F428A6F7</td>\n",
              "    </tr>\n",
              "    <tr>\n",
              "      <th>3</th>\n",
              "      <td>SOAAADZ12A8C1334FB</td>\n",
              "      <td>TRMDNZY128F425A532</td>\n",
              "    </tr>\n",
              "    <tr>\n",
              "      <th>4</th>\n",
              "      <td>SOAAAFI12A6D4F9C66</td>\n",
              "      <td>TRZEXLQ128F1491D17</td>\n",
              "    </tr>\n",
              "  </tbody>\n",
              "</table>\n",
              "</div>"
            ],
            "text/plain": [
              "              song_id            track_id\n",
              "0  SOAAADD12AB018A9DD  TRNCENP12903C9EF3A\n",
              "1  SOAAADE12A6D4F80CC  TRSKKFK128F148B615\n",
              "2  SOAAADF12A8C13DF62  TRCQMSP128F428A6F7\n",
              "3  SOAAADZ12A8C1334FB  TRMDNZY128F425A532\n",
              "4  SOAAAFI12A6D4F9C66  TRZEXLQ128F1491D17"
            ]
          },
          "metadata": {
            "tags": []
          },
          "execution_count": 22
        }
      ]
    },
    {
      "cell_type": "markdown",
      "metadata": {
        "id": "soMSpQ6oYODJ"
      },
      "source": [
        "#### Handling dupicate values"
      ]
    },
    {
      "cell_type": "code",
      "metadata": {
        "colab": {
          "base_uri": "https://localhost:8080/"
        },
        "id": "H9ViblH6XswY",
        "outputId": "59d3d94c-2ea0-4ee3-849b-d078fc9a03e6"
      },
      "source": [
        "print(sum(triplet.duplicated()))"
      ],
      "execution_count": null,
      "outputs": [
        {
          "output_type": "stream",
          "text": [
            "0\n"
          ],
          "name": "stdout"
        }
      ]
    },
    {
      "cell_type": "code",
      "metadata": {
        "colab": {
          "base_uri": "https://localhost:8080/"
        },
        "id": "t19zmrw9YGpx",
        "outputId": "466150f3-a553-4a01-b120-c617856c0370"
      },
      "source": [
        "triplet.isnull().sum()"
      ],
      "execution_count": null,
      "outputs": [
        {
          "output_type": "execute_result",
          "data": {
            "text/plain": [
              "user_id       0\n",
              "song_id       0\n",
              "song_count    0\n",
              "dtype: int64"
            ]
          },
          "metadata": {
            "tags": []
          },
          "execution_count": 24
        }
      ]
    },
    {
      "cell_type": "code",
      "metadata": {
        "colab": {
          "base_uri": "https://localhost:8080/",
          "height": 424
        },
        "id": "8Pl61MamaYA2",
        "outputId": "a90b5fc7-ff53-4e82-c81b-2db3939b376c"
      },
      "source": [
        "\n",
        "triplet.dropna(axis='columns')\n",
        "triplet.dropna(how='all')"
      ],
      "execution_count": null,
      "outputs": [
        {
          "output_type": "execute_result",
          "data": {
            "text/html": [
              "<div>\n",
              "<style scoped>\n",
              "    .dataframe tbody tr th:only-of-type {\n",
              "        vertical-align: middle;\n",
              "    }\n",
              "\n",
              "    .dataframe tbody tr th {\n",
              "        vertical-align: top;\n",
              "    }\n",
              "\n",
              "    .dataframe thead th {\n",
              "        text-align: right;\n",
              "    }\n",
              "</style>\n",
              "<table border=\"1\" class=\"dataframe\">\n",
              "  <thead>\n",
              "    <tr style=\"text-align: right;\">\n",
              "      <th></th>\n",
              "      <th>user_id</th>\n",
              "      <th>song_id</th>\n",
              "      <th>song_count</th>\n",
              "    </tr>\n",
              "  </thead>\n",
              "  <tbody>\n",
              "    <tr>\n",
              "      <th>0</th>\n",
              "      <td>fd50c4007b68a3737fe052d5a4f78ce8aa117f3d</td>\n",
              "      <td>SOBONKR12A58A7A7E0</td>\n",
              "      <td>1</td>\n",
              "    </tr>\n",
              "    <tr>\n",
              "      <th>1</th>\n",
              "      <td>fd50c4007b68a3737fe052d5a4f78ce8aa117f3d</td>\n",
              "      <td>SOEGIYH12A6D4FC0E3</td>\n",
              "      <td>1</td>\n",
              "    </tr>\n",
              "    <tr>\n",
              "      <th>2</th>\n",
              "      <td>fd50c4007b68a3737fe052d5a4f78ce8aa117f3d</td>\n",
              "      <td>SOFLJQZ12A6D4FADA6</td>\n",
              "      <td>1</td>\n",
              "    </tr>\n",
              "    <tr>\n",
              "      <th>3</th>\n",
              "      <td>fd50c4007b68a3737fe052d5a4f78ce8aa117f3d</td>\n",
              "      <td>SOHTKMO12AB01843B0</td>\n",
              "      <td>1</td>\n",
              "    </tr>\n",
              "    <tr>\n",
              "      <th>4</th>\n",
              "      <td>fd50c4007b68a3737fe052d5a4f78ce8aa117f3d</td>\n",
              "      <td>SODQZCY12A6D4F9D11</td>\n",
              "      <td>1</td>\n",
              "    </tr>\n",
              "    <tr>\n",
              "      <th>...</th>\n",
              "      <td>...</td>\n",
              "      <td>...</td>\n",
              "      <td>...</td>\n",
              "    </tr>\n",
              "    <tr>\n",
              "      <th>1450928</th>\n",
              "      <td>5e650759ebf89012044c6d52121eeada8b0ec814</td>\n",
              "      <td>SOVLNXV12A6D4F706E</td>\n",
              "      <td>1</td>\n",
              "    </tr>\n",
              "    <tr>\n",
              "      <th>1450929</th>\n",
              "      <td>5e650759ebf89012044c6d52121eeada8b0ec814</td>\n",
              "      <td>SOVDSJC12A58A7A271</td>\n",
              "      <td>2</td>\n",
              "    </tr>\n",
              "    <tr>\n",
              "      <th>1450930</th>\n",
              "      <td>5e650759ebf89012044c6d52121eeada8b0ec814</td>\n",
              "      <td>SOBRHVR12A8C133F35</td>\n",
              "      <td>2</td>\n",
              "    </tr>\n",
              "    <tr>\n",
              "      <th>1450931</th>\n",
              "      <td>5e650759ebf89012044c6d52121eeada8b0ec814</td>\n",
              "      <td>SOMGVYU12A8C1314FF</td>\n",
              "      <td>2</td>\n",
              "    </tr>\n",
              "    <tr>\n",
              "      <th>1450932</th>\n",
              "      <td>5e650759ebf89012044c6d52121eeada8b0ec814</td>\n",
              "      <td>SOTCMDJ12A6D4F8528</td>\n",
              "      <td>3</td>\n",
              "    </tr>\n",
              "  </tbody>\n",
              "</table>\n",
              "<p>1450933 rows × 3 columns</p>\n",
              "</div>"
            ],
            "text/plain": [
              "                                          user_id  ... song_count\n",
              "0        fd50c4007b68a3737fe052d5a4f78ce8aa117f3d  ...          1\n",
              "1        fd50c4007b68a3737fe052d5a4f78ce8aa117f3d  ...          1\n",
              "2        fd50c4007b68a3737fe052d5a4f78ce8aa117f3d  ...          1\n",
              "3        fd50c4007b68a3737fe052d5a4f78ce8aa117f3d  ...          1\n",
              "4        fd50c4007b68a3737fe052d5a4f78ce8aa117f3d  ...          1\n",
              "...                                           ...  ...        ...\n",
              "1450928  5e650759ebf89012044c6d52121eeada8b0ec814  ...          1\n",
              "1450929  5e650759ebf89012044c6d52121eeada8b0ec814  ...          2\n",
              "1450930  5e650759ebf89012044c6d52121eeada8b0ec814  ...          2\n",
              "1450931  5e650759ebf89012044c6d52121eeada8b0ec814  ...          2\n",
              "1450932  5e650759ebf89012044c6d52121eeada8b0ec814  ...          3\n",
              "\n",
              "[1450933 rows x 3 columns]"
            ]
          },
          "metadata": {
            "tags": []
          },
          "execution_count": 25
        }
      ]
    },
    {
      "cell_type": "markdown",
      "metadata": {
        "id": "LDei-5jNbC8O"
      },
      "source": [
        "#### Merging the tables"
      ]
    },
    {
      "cell_type": "code",
      "metadata": {
        "colab": {
          "base_uri": "https://localhost:8080/",
          "height": 398
        },
        "id": "2h_CPvxIak4K",
        "outputId": "c60111ce-1a31-4287-a808-c30d3437fd05"
      },
      "source": [
        "songs_df = pd.merge(triplet,unique_tracks.drop_duplicates([\"song_id\"]),on='song_id',how=\"left\")\n",
        "songs_df.head(10)"
      ],
      "execution_count": null,
      "outputs": [
        {
          "output_type": "execute_result",
          "data": {
            "text/html": [
              "<div>\n",
              "<style scoped>\n",
              "    .dataframe tbody tr th:only-of-type {\n",
              "        vertical-align: middle;\n",
              "    }\n",
              "\n",
              "    .dataframe tbody tr th {\n",
              "        vertical-align: top;\n",
              "    }\n",
              "\n",
              "    .dataframe thead th {\n",
              "        text-align: right;\n",
              "    }\n",
              "</style>\n",
              "<table border=\"1\" class=\"dataframe\">\n",
              "  <thead>\n",
              "    <tr style=\"text-align: right;\">\n",
              "      <th></th>\n",
              "      <th>user_id</th>\n",
              "      <th>song_id</th>\n",
              "      <th>song_count</th>\n",
              "      <th>track_id</th>\n",
              "      <th>singer</th>\n",
              "      <th>song_name</th>\n",
              "    </tr>\n",
              "  </thead>\n",
              "  <tbody>\n",
              "    <tr>\n",
              "      <th>0</th>\n",
              "      <td>fd50c4007b68a3737fe052d5a4f78ce8aa117f3d</td>\n",
              "      <td>SOBONKR12A58A7A7E0</td>\n",
              "      <td>1</td>\n",
              "      <td>TRAEHHJ12903CF492F</td>\n",
              "      <td>Dwight Yoakam</td>\n",
              "      <td>You're The One</td>\n",
              "    </tr>\n",
              "    <tr>\n",
              "      <th>1</th>\n",
              "      <td>fd50c4007b68a3737fe052d5a4f78ce8aa117f3d</td>\n",
              "      <td>SOEGIYH12A6D4FC0E3</td>\n",
              "      <td>1</td>\n",
              "      <td>TRLGMFJ128F4217DBE</td>\n",
              "      <td>Barry Tuckwell/Academy of St Martin-in-the-Fie...</td>\n",
              "      <td>Horn Concerto No. 4 in E flat K495: II. Romanc...</td>\n",
              "    </tr>\n",
              "    <tr>\n",
              "      <th>2</th>\n",
              "      <td>fd50c4007b68a3737fe052d5a4f78ce8aa117f3d</td>\n",
              "      <td>SOFLJQZ12A6D4FADA6</td>\n",
              "      <td>1</td>\n",
              "      <td>TRTNDNE128F1486812</td>\n",
              "      <td>Cartola</td>\n",
              "      <td>Tive Sim</td>\n",
              "    </tr>\n",
              "    <tr>\n",
              "      <th>3</th>\n",
              "      <td>fd50c4007b68a3737fe052d5a4f78ce8aa117f3d</td>\n",
              "      <td>SOHTKMO12AB01843B0</td>\n",
              "      <td>1</td>\n",
              "      <td>TRASTUE128F930D488</td>\n",
              "      <td>Lonnie Gordon</td>\n",
              "      <td>Catch You Baby (Steve Pitron &amp; Max Sanna Radio...</td>\n",
              "    </tr>\n",
              "    <tr>\n",
              "      <th>4</th>\n",
              "      <td>fd50c4007b68a3737fe052d5a4f78ce8aa117f3d</td>\n",
              "      <td>SODQZCY12A6D4F9D11</td>\n",
              "      <td>1</td>\n",
              "      <td>TRFPLWO128F1486B9E</td>\n",
              "      <td>Miguel Calo</td>\n",
              "      <td>El Cuatrero</td>\n",
              "    </tr>\n",
              "    <tr>\n",
              "      <th>5</th>\n",
              "      <td>fd50c4007b68a3737fe052d5a4f78ce8aa117f3d</td>\n",
              "      <td>SOXLOQG12AF72A2D55</td>\n",
              "      <td>1</td>\n",
              "      <td>TRWBSCZ128F932F2F9</td>\n",
              "      <td>Beastie Boys</td>\n",
              "      <td>Unite (2009 Digital Remaster)</td>\n",
              "    </tr>\n",
              "    <tr>\n",
              "      <th>6</th>\n",
              "      <td>d7083f5e1d50c264277d624340edaaf3dc16095b</td>\n",
              "      <td>SOUVUHC12A67020E3B</td>\n",
              "      <td>1</td>\n",
              "      <td>TRCQXMT128E0786397</td>\n",
              "      <td>Moby</td>\n",
              "      <td>Lift Me Up</td>\n",
              "    </tr>\n",
              "    <tr>\n",
              "      <th>7</th>\n",
              "      <td>d7083f5e1d50c264277d624340edaaf3dc16095b</td>\n",
              "      <td>SOUQERE12A58A75633</td>\n",
              "      <td>1</td>\n",
              "      <td>TRZLFVB128F429FED0</td>\n",
              "      <td>Guano Apes</td>\n",
              "      <td>Living In A Lie</td>\n",
              "    </tr>\n",
              "    <tr>\n",
              "      <th>8</th>\n",
              "      <td>d7083f5e1d50c264277d624340edaaf3dc16095b</td>\n",
              "      <td>SOIPJAX12A8C141A2D</td>\n",
              "      <td>1</td>\n",
              "      <td>TRIKCQI128F92DDC16</td>\n",
              "      <td>Guano Apes</td>\n",
              "      <td>Open Your Eyes</td>\n",
              "    </tr>\n",
              "    <tr>\n",
              "      <th>9</th>\n",
              "      <td>d7083f5e1d50c264277d624340edaaf3dc16095b</td>\n",
              "      <td>SOEFCDJ12AB0185FA0</td>\n",
              "      <td>2</td>\n",
              "      <td>TRTBQQG128F9339E23</td>\n",
              "      <td>UDG</td>\n",
              "      <td>Kurtizana</td>\n",
              "    </tr>\n",
              "  </tbody>\n",
              "</table>\n",
              "</div>"
            ],
            "text/plain": [
              "                                    user_id  ...                                          song_name\n",
              "0  fd50c4007b68a3737fe052d5a4f78ce8aa117f3d  ...                                     You're The One\n",
              "1  fd50c4007b68a3737fe052d5a4f78ce8aa117f3d  ...  Horn Concerto No. 4 in E flat K495: II. Romanc...\n",
              "2  fd50c4007b68a3737fe052d5a4f78ce8aa117f3d  ...                                           Tive Sim\n",
              "3  fd50c4007b68a3737fe052d5a4f78ce8aa117f3d  ...  Catch You Baby (Steve Pitron & Max Sanna Radio...\n",
              "4  fd50c4007b68a3737fe052d5a4f78ce8aa117f3d  ...                                        El Cuatrero\n",
              "5  fd50c4007b68a3737fe052d5a4f78ce8aa117f3d  ...                      Unite (2009 Digital Remaster)\n",
              "6  d7083f5e1d50c264277d624340edaaf3dc16095b  ...                                         Lift Me Up\n",
              "7  d7083f5e1d50c264277d624340edaaf3dc16095b  ...                                    Living In A Lie\n",
              "8  d7083f5e1d50c264277d624340edaaf3dc16095b  ...                                     Open Your Eyes\n",
              "9  d7083f5e1d50c264277d624340edaaf3dc16095b  ...                                          Kurtizana\n",
              "\n",
              "[10 rows x 6 columns]"
            ]
          },
          "metadata": {
            "tags": []
          },
          "execution_count": 26
        }
      ]
    },
    {
      "cell_type": "code",
      "metadata": {
        "colab": {
          "base_uri": "https://localhost:8080/"
        },
        "id": "XcECbzNRbazi",
        "outputId": "98359452-8737-44f1-a5ad-49e83dc92597"
      },
      "source": [
        "songs_df.info()"
      ],
      "execution_count": null,
      "outputs": [
        {
          "output_type": "stream",
          "text": [
            "<class 'pandas.core.frame.DataFrame'>\n",
            "Int64Index: 1450933 entries, 0 to 1450932\n",
            "Data columns (total 6 columns):\n",
            " #   Column      Non-Null Count    Dtype \n",
            "---  ------      --------------    ----- \n",
            " 0   user_id     1450933 non-null  object\n",
            " 1   song_id     1450933 non-null  object\n",
            " 2   song_count  1450933 non-null  int64 \n",
            " 3   track_id    1450933 non-null  object\n",
            " 4   singer      1450933 non-null  object\n",
            " 5   song_name   1450932 non-null  object\n",
            "dtypes: int64(1), object(5)\n",
            "memory usage: 77.5+ MB\n"
          ],
          "name": "stdout"
        }
      ]
    },
    {
      "cell_type": "code",
      "metadata": {
        "colab": {
          "base_uri": "https://localhost:8080/",
          "height": 300
        },
        "id": "fbuEpJBpcVaz",
        "outputId": "e538aa85-002c-4846-9c5e-be65d95373f5"
      },
      "source": [
        "songs_df.describe()"
      ],
      "execution_count": null,
      "outputs": [
        {
          "output_type": "execute_result",
          "data": {
            "text/html": [
              "<div>\n",
              "<style scoped>\n",
              "    .dataframe tbody tr th:only-of-type {\n",
              "        vertical-align: middle;\n",
              "    }\n",
              "\n",
              "    .dataframe tbody tr th {\n",
              "        vertical-align: top;\n",
              "    }\n",
              "\n",
              "    .dataframe thead th {\n",
              "        text-align: right;\n",
              "    }\n",
              "</style>\n",
              "<table border=\"1\" class=\"dataframe\">\n",
              "  <thead>\n",
              "    <tr style=\"text-align: right;\">\n",
              "      <th></th>\n",
              "      <th>song_count</th>\n",
              "    </tr>\n",
              "  </thead>\n",
              "  <tbody>\n",
              "    <tr>\n",
              "      <th>count</th>\n",
              "      <td>1.450933e+06</td>\n",
              "    </tr>\n",
              "    <tr>\n",
              "      <th>mean</th>\n",
              "      <td>3.187149e+00</td>\n",
              "    </tr>\n",
              "    <tr>\n",
              "      <th>std</th>\n",
              "      <td>7.051664e+00</td>\n",
              "    </tr>\n",
              "    <tr>\n",
              "      <th>min</th>\n",
              "      <td>1.000000e+00</td>\n",
              "    </tr>\n",
              "    <tr>\n",
              "      <th>25%</th>\n",
              "      <td>1.000000e+00</td>\n",
              "    </tr>\n",
              "    <tr>\n",
              "      <th>50%</th>\n",
              "      <td>1.000000e+00</td>\n",
              "    </tr>\n",
              "    <tr>\n",
              "      <th>75%</th>\n",
              "      <td>3.000000e+00</td>\n",
              "    </tr>\n",
              "    <tr>\n",
              "      <th>max</th>\n",
              "      <td>9.230000e+02</td>\n",
              "    </tr>\n",
              "  </tbody>\n",
              "</table>\n",
              "</div>"
            ],
            "text/plain": [
              "         song_count\n",
              "count  1.450933e+06\n",
              "mean   3.187149e+00\n",
              "std    7.051664e+00\n",
              "min    1.000000e+00\n",
              "25%    1.000000e+00\n",
              "50%    1.000000e+00\n",
              "75%    3.000000e+00\n",
              "max    9.230000e+02"
            ]
          },
          "metadata": {
            "tags": []
          },
          "execution_count": 28
        }
      ]
    },
    {
      "cell_type": "code",
      "metadata": {
        "colab": {
          "base_uri": "https://localhost:8080/",
          "height": 398
        },
        "id": "VwQfxRrEcbgk",
        "outputId": "0f301ab4-a60e-402c-c3f8-efe764e7282a"
      },
      "source": [
        "songs_df.head(10)"
      ],
      "execution_count": null,
      "outputs": [
        {
          "output_type": "execute_result",
          "data": {
            "text/html": [
              "<div>\n",
              "<style scoped>\n",
              "    .dataframe tbody tr th:only-of-type {\n",
              "        vertical-align: middle;\n",
              "    }\n",
              "\n",
              "    .dataframe tbody tr th {\n",
              "        vertical-align: top;\n",
              "    }\n",
              "\n",
              "    .dataframe thead th {\n",
              "        text-align: right;\n",
              "    }\n",
              "</style>\n",
              "<table border=\"1\" class=\"dataframe\">\n",
              "  <thead>\n",
              "    <tr style=\"text-align: right;\">\n",
              "      <th></th>\n",
              "      <th>user_id</th>\n",
              "      <th>song_id</th>\n",
              "      <th>song_count</th>\n",
              "      <th>track_id</th>\n",
              "      <th>singer</th>\n",
              "      <th>song_name</th>\n",
              "    </tr>\n",
              "  </thead>\n",
              "  <tbody>\n",
              "    <tr>\n",
              "      <th>0</th>\n",
              "      <td>fd50c4007b68a3737fe052d5a4f78ce8aa117f3d</td>\n",
              "      <td>SOBONKR12A58A7A7E0</td>\n",
              "      <td>1</td>\n",
              "      <td>TRAEHHJ12903CF492F</td>\n",
              "      <td>Dwight Yoakam</td>\n",
              "      <td>You're The One</td>\n",
              "    </tr>\n",
              "    <tr>\n",
              "      <th>1</th>\n",
              "      <td>fd50c4007b68a3737fe052d5a4f78ce8aa117f3d</td>\n",
              "      <td>SOEGIYH12A6D4FC0E3</td>\n",
              "      <td>1</td>\n",
              "      <td>TRLGMFJ128F4217DBE</td>\n",
              "      <td>Barry Tuckwell/Academy of St Martin-in-the-Fie...</td>\n",
              "      <td>Horn Concerto No. 4 in E flat K495: II. Romanc...</td>\n",
              "    </tr>\n",
              "    <tr>\n",
              "      <th>2</th>\n",
              "      <td>fd50c4007b68a3737fe052d5a4f78ce8aa117f3d</td>\n",
              "      <td>SOFLJQZ12A6D4FADA6</td>\n",
              "      <td>1</td>\n",
              "      <td>TRTNDNE128F1486812</td>\n",
              "      <td>Cartola</td>\n",
              "      <td>Tive Sim</td>\n",
              "    </tr>\n",
              "    <tr>\n",
              "      <th>3</th>\n",
              "      <td>fd50c4007b68a3737fe052d5a4f78ce8aa117f3d</td>\n",
              "      <td>SOHTKMO12AB01843B0</td>\n",
              "      <td>1</td>\n",
              "      <td>TRASTUE128F930D488</td>\n",
              "      <td>Lonnie Gordon</td>\n",
              "      <td>Catch You Baby (Steve Pitron &amp; Max Sanna Radio...</td>\n",
              "    </tr>\n",
              "    <tr>\n",
              "      <th>4</th>\n",
              "      <td>fd50c4007b68a3737fe052d5a4f78ce8aa117f3d</td>\n",
              "      <td>SODQZCY12A6D4F9D11</td>\n",
              "      <td>1</td>\n",
              "      <td>TRFPLWO128F1486B9E</td>\n",
              "      <td>Miguel Calo</td>\n",
              "      <td>El Cuatrero</td>\n",
              "    </tr>\n",
              "    <tr>\n",
              "      <th>5</th>\n",
              "      <td>fd50c4007b68a3737fe052d5a4f78ce8aa117f3d</td>\n",
              "      <td>SOXLOQG12AF72A2D55</td>\n",
              "      <td>1</td>\n",
              "      <td>TRWBSCZ128F932F2F9</td>\n",
              "      <td>Beastie Boys</td>\n",
              "      <td>Unite (2009 Digital Remaster)</td>\n",
              "    </tr>\n",
              "    <tr>\n",
              "      <th>6</th>\n",
              "      <td>d7083f5e1d50c264277d624340edaaf3dc16095b</td>\n",
              "      <td>SOUVUHC12A67020E3B</td>\n",
              "      <td>1</td>\n",
              "      <td>TRCQXMT128E0786397</td>\n",
              "      <td>Moby</td>\n",
              "      <td>Lift Me Up</td>\n",
              "    </tr>\n",
              "    <tr>\n",
              "      <th>7</th>\n",
              "      <td>d7083f5e1d50c264277d624340edaaf3dc16095b</td>\n",
              "      <td>SOUQERE12A58A75633</td>\n",
              "      <td>1</td>\n",
              "      <td>TRZLFVB128F429FED0</td>\n",
              "      <td>Guano Apes</td>\n",
              "      <td>Living In A Lie</td>\n",
              "    </tr>\n",
              "    <tr>\n",
              "      <th>8</th>\n",
              "      <td>d7083f5e1d50c264277d624340edaaf3dc16095b</td>\n",
              "      <td>SOIPJAX12A8C141A2D</td>\n",
              "      <td>1</td>\n",
              "      <td>TRIKCQI128F92DDC16</td>\n",
              "      <td>Guano Apes</td>\n",
              "      <td>Open Your Eyes</td>\n",
              "    </tr>\n",
              "    <tr>\n",
              "      <th>9</th>\n",
              "      <td>d7083f5e1d50c264277d624340edaaf3dc16095b</td>\n",
              "      <td>SOEFCDJ12AB0185FA0</td>\n",
              "      <td>2</td>\n",
              "      <td>TRTBQQG128F9339E23</td>\n",
              "      <td>UDG</td>\n",
              "      <td>Kurtizana</td>\n",
              "    </tr>\n",
              "  </tbody>\n",
              "</table>\n",
              "</div>"
            ],
            "text/plain": [
              "                                    user_id  ...                                          song_name\n",
              "0  fd50c4007b68a3737fe052d5a4f78ce8aa117f3d  ...                                     You're The One\n",
              "1  fd50c4007b68a3737fe052d5a4f78ce8aa117f3d  ...  Horn Concerto No. 4 in E flat K495: II. Romanc...\n",
              "2  fd50c4007b68a3737fe052d5a4f78ce8aa117f3d  ...                                           Tive Sim\n",
              "3  fd50c4007b68a3737fe052d5a4f78ce8aa117f3d  ...  Catch You Baby (Steve Pitron & Max Sanna Radio...\n",
              "4  fd50c4007b68a3737fe052d5a4f78ce8aa117f3d  ...                                        El Cuatrero\n",
              "5  fd50c4007b68a3737fe052d5a4f78ce8aa117f3d  ...                      Unite (2009 Digital Remaster)\n",
              "6  d7083f5e1d50c264277d624340edaaf3dc16095b  ...                                         Lift Me Up\n",
              "7  d7083f5e1d50c264277d624340edaaf3dc16095b  ...                                    Living In A Lie\n",
              "8  d7083f5e1d50c264277d624340edaaf3dc16095b  ...                                     Open Your Eyes\n",
              "9  d7083f5e1d50c264277d624340edaaf3dc16095b  ...                                          Kurtizana\n",
              "\n",
              "[10 rows x 6 columns]"
            ]
          },
          "metadata": {
            "tags": []
          },
          "execution_count": 29
        }
      ]
    },
    {
      "cell_type": "code",
      "metadata": {
        "id": "zxP2uy1qhYJg"
      },
      "source": [
        "###can store the data in sparse arrays\n",
        "#for popularity based approach - we consider song_count"
      ],
      "execution_count": null,
      "outputs": []
    },
    {
      "cell_type": "code",
      "metadata": {
        "colab": {
          "base_uri": "https://localhost:8080/"
        },
        "id": "-WbIQkzKI6Bz",
        "outputId": "72f283da-0b35-43e8-b65a-e676d3ce5f73"
      },
      "source": [
        "songs_df.columns"
      ],
      "execution_count": null,
      "outputs": [
        {
          "output_type": "execute_result",
          "data": {
            "text/plain": [
              "Index(['user_id', 'song_id', 'song_count', 'track_id', 'singer', 'song_name'], dtype='object')"
            ]
          },
          "metadata": {
            "tags": []
          },
          "execution_count": 31
        }
      ]
    },
    {
      "cell_type": "code",
      "metadata": {
        "colab": {
          "base_uri": "https://localhost:8080/"
        },
        "id": "cQaUjTl1M3sq",
        "outputId": "ed5219f0-59c6-4086-e78d-34fbf19dbed6"
      },
      "source": [
        "songs_df.isnull().any()"
      ],
      "execution_count": null,
      "outputs": [
        {
          "output_type": "execute_result",
          "data": {
            "text/plain": [
              "user_id       False\n",
              "song_id       False\n",
              "song_count    False\n",
              "track_id      False\n",
              "singer        False\n",
              "song_name      True\n",
              "dtype: bool"
            ]
          },
          "metadata": {
            "tags": []
          },
          "execution_count": 32
        }
      ]
    },
    {
      "cell_type": "code",
      "metadata": {
        "colab": {
          "base_uri": "https://localhost:8080/"
        },
        "id": "17e-XYN4NFFG",
        "outputId": "58f83065-b8c3-497a-a472-d198a9c6cac1"
      },
      "source": [
        "songs_df.isnull().sum()"
      ],
      "execution_count": null,
      "outputs": [
        {
          "output_type": "execute_result",
          "data": {
            "text/plain": [
              "user_id       0\n",
              "song_id       0\n",
              "song_count    0\n",
              "track_id      0\n",
              "singer        0\n",
              "song_name     1\n",
              "dtype: int64"
            ]
          },
          "metadata": {
            "tags": []
          },
          "execution_count": 33
        }
      ]
    },
    {
      "cell_type": "code",
      "metadata": {
        "id": "dtvjhpmzO9zm"
      },
      "source": [
        "songs_df.dropna(inplace=True)"
      ],
      "execution_count": null,
      "outputs": []
    },
    {
      "cell_type": "code",
      "metadata": {
        "colab": {
          "base_uri": "https://localhost:8080/"
        },
        "id": "I50wzOlrPAAN",
        "outputId": "ebbffd54-18d6-41e6-9553-83698c4666dd"
      },
      "source": [
        "songs_df.isnull().sum()"
      ],
      "execution_count": null,
      "outputs": [
        {
          "output_type": "execute_result",
          "data": {
            "text/plain": [
              "user_id       0\n",
              "song_id       0\n",
              "song_count    0\n",
              "track_id      0\n",
              "singer        0\n",
              "song_name     0\n",
              "dtype: int64"
            ]
          },
          "metadata": {
            "tags": []
          },
          "execution_count": 35
        }
      ]
    },
    {
      "cell_type": "code",
      "metadata": {
        "id": "5-OKER4RTcxD"
      },
      "source": [
        "import plotly.figure_factory as ff\n",
        "import plotly.graph_objects as go\n",
        "import plotly.express as px"
      ],
      "execution_count": null,
      "outputs": []
    },
    {
      "cell_type": "code",
      "metadata": {
        "colab": {
          "base_uri": "https://localhost:8080/"
        },
        "id": "ss0DoqONR-Im",
        "outputId": "07e3b2cc-daeb-4cb3-abab-40e44c70b6b5"
      },
      "source": [
        "print(\"Total users : \",songs_df['user_id'].unique().size)\n",
        "print(\"Total songs : \",songs_df[\"song_id\"].unique().size)\n",
        "print(\"Total tracks : \",songs_df[\"track_id\"].unique().size)"
      ],
      "execution_count": null,
      "outputs": [
        {
          "output_type": "stream",
          "text": [
            "Total users :  110000\n",
            "Total songs :  163205\n",
            "Total tracks :  163205\n"
          ],
          "name": "stdout"
        }
      ]
    },
    {
      "cell_type": "code",
      "metadata": {
        "colab": {
          "base_uri": "https://localhost:8080/"
        },
        "id": "7RqsIBT9S8Ys",
        "outputId": "71d80cf7-174b-4a30-f03f-3435374b5d13"
      },
      "source": [
        "print(\"Unique Artists: \" ,songs_df[\"singer\"].unique().size)\n",
        "print(\"Unique Songs : \" ,songs_df[\"song_name\"].unique().size)"
      ],
      "execution_count": null,
      "outputs": [
        {
          "output_type": "stream",
          "text": [
            "Unique Artists:  28360\n",
            "Unique Songs :  137622\n"
          ],
          "name": "stdout"
        }
      ]
    },
    {
      "cell_type": "code",
      "metadata": {
        "colab": {
          "base_uri": "https://localhost:8080/",
          "height": 238
        },
        "id": "CufZBOmVUPQq",
        "outputId": "7cabafec-72d0-4fd0-b8fc-a58ecf8318c1"
      },
      "source": [
        "songs_tab = pd.crosstab(index=songs_df[\"song_id\"],columns=\"count\")\n",
        "songs_tab.head()"
      ],
      "execution_count": null,
      "outputs": [
        {
          "output_type": "execute_result",
          "data": {
            "text/html": [
              "<div>\n",
              "<style scoped>\n",
              "    .dataframe tbody tr th:only-of-type {\n",
              "        vertical-align: middle;\n",
              "    }\n",
              "\n",
              "    .dataframe tbody tr th {\n",
              "        vertical-align: top;\n",
              "    }\n",
              "\n",
              "    .dataframe thead th {\n",
              "        text-align: right;\n",
              "    }\n",
              "</style>\n",
              "<table border=\"1\" class=\"dataframe\">\n",
              "  <thead>\n",
              "    <tr style=\"text-align: right;\">\n",
              "      <th>col_0</th>\n",
              "      <th>count</th>\n",
              "    </tr>\n",
              "    <tr>\n",
              "      <th>song_id</th>\n",
              "      <th></th>\n",
              "    </tr>\n",
              "  </thead>\n",
              "  <tbody>\n",
              "    <tr>\n",
              "      <th>SOAAAFI12A6D4F9C66</th>\n",
              "      <td>2</td>\n",
              "    </tr>\n",
              "    <tr>\n",
              "      <th>SOAAAGK12AB0189572</th>\n",
              "      <td>1</td>\n",
              "    </tr>\n",
              "    <tr>\n",
              "      <th>SOAAAGQ12A8C1420C8</th>\n",
              "      <td>33</td>\n",
              "    </tr>\n",
              "    <tr>\n",
              "      <th>SOAAAMT12AB018C9C4</th>\n",
              "      <td>1</td>\n",
              "    </tr>\n",
              "    <tr>\n",
              "      <th>SOAAAQN12AB01856D3</th>\n",
              "      <td>2</td>\n",
              "    </tr>\n",
              "  </tbody>\n",
              "</table>\n",
              "</div>"
            ],
            "text/plain": [
              "col_0               count\n",
              "song_id                  \n",
              "SOAAAFI12A6D4F9C66      2\n",
              "SOAAAGK12AB0189572      1\n",
              "SOAAAGQ12A8C1420C8     33\n",
              "SOAAAMT12AB018C9C4      1\n",
              "SOAAAQN12AB01856D3      2"
            ]
          },
          "metadata": {
            "tags": []
          },
          "execution_count": 39
        }
      ]
    },
    {
      "cell_type": "code",
      "metadata": {
        "colab": {
          "base_uri": "https://localhost:8080/"
        },
        "id": "Tqb5tbfcWutI",
        "outputId": "98c4b8aa-73a6-409f-8521-28d80fbc638f"
      },
      "source": [
        "print(max(songs_tab[\"count\"]))"
      ],
      "execution_count": null,
      "outputs": [
        {
          "output_type": "stream",
          "text": [
            "5043\n"
          ],
          "name": "stdout"
        }
      ]
    },
    {
      "cell_type": "code",
      "metadata": {
        "colab": {
          "base_uri": "https://localhost:8080/"
        },
        "id": "oDkA9S_vW4cH",
        "outputId": "f4639b38-92d5-4489-e500-1b82b0940c6d"
      },
      "source": [
        "songs_df.columns"
      ],
      "execution_count": null,
      "outputs": [
        {
          "output_type": "execute_result",
          "data": {
            "text/plain": [
              "Index(['user_id', 'song_id', 'song_count', 'track_id', 'singer', 'song_name'], dtype='object')"
            ]
          },
          "metadata": {
            "tags": []
          },
          "execution_count": 41
        }
      ]
    },
    {
      "cell_type": "code",
      "metadata": {
        "colab": {
          "base_uri": "https://localhost:8080/",
          "height": 515
        },
        "id": "Iqk21KLkYAZ5",
        "outputId": "73bb03bf-eb6f-4c47-8e66-ef2aa675ae88"
      },
      "source": [
        "plt.figure(figsize=(10,8))\n",
        "sns.distplot(songs_df['song_count'])"
      ],
      "execution_count": null,
      "outputs": [
        {
          "output_type": "execute_result",
          "data": {
            "text/plain": [
              "<matplotlib.axes._subplots.AxesSubplot at 0x7f27781a0750>"
            ]
          },
          "metadata": {
            "tags": []
          },
          "execution_count": 42
        },
        {
          "output_type": "display_data",
          "data": {
            "image/png": "[encoded data removed]",
            "text/plain": [
              "<Figure size 720x576 with 1 Axes>"
            ]
          },
          "metadata": {
            "tags": [],
            "needs_background": "light"
          }
        }
      ]
    },
    {
      "cell_type": "code",
      "metadata": {
        "id": "YZu2HjuwRc2b"
      },
      "source": [
        "###Grouping data using user ID"
      ],
      "execution_count": null,
      "outputs": []
    },
    {
      "cell_type": "code",
      "metadata": {
        "colab": {
          "base_uri": "https://localhost:8080/"
        },
        "id": "4YMVOW3aTrQ8",
        "outputId": "be719cc3-7b6d-44ae-85ec-318310e02ccc"
      },
      "source": [
        "user_count = songs_df.groupby('user_id')['song_count'].sum()\n",
        "user_count1 = user_count.sort_values(ascending = False).head(20)\n",
        "user_count1"
      ],
      "execution_count": null,
      "outputs": [
        {
          "output_type": "execute_result",
          "data": {
            "text/plain": [
              "user_id\n",
              "090b841eaf56d343a26625c2c6d08b823927bc4f    1305\n",
              "938c2632d43eeadb8a83a7cc254d014f9cea6afe    1267\n",
              "1c5aa998482a40abfd020759e7d757eb6c510e72    1200\n",
              "c6150292374fb1dad89982367b3245dd5004c718    1192\n",
              "5a9375e46a7e9b869058c7bc0e820e00d77f3e0b    1184\n",
              "d1d845a92cd34456423e781512bdb502ca385b51    1180\n",
              "957440a77858369fb7a6bcc6fa408fc187d5bd7b    1150\n",
              "315103a41c2ced1143de0c2ba20de224800e6d89    1148\n",
              "22bb29714137fa47083963c30e1a26f1bf517e7d    1141\n",
              "bda891a59a96252cc0f5b1f63f2630692b490e37    1140\n",
              "b51eeda3c09e2426f2e52dca8444a8c0cab6265a    1119\n",
              "b371df81acfde601d157a99c50fa06f7b3f76a84    1038\n",
              "9d12c30de5d9975f621f95f512699989ac544410    1001\n",
              "7bb7949be3d91d27f1c5613bea01644fcad77f43     996\n",
              "a1cc4d088600df2db42e6a305974675ffe8c905d     951\n",
              "77867fcbd93f3bf47f478a797f3bfabb0f561ea8     926\n",
              "a86e68128c6a48d3392db22ce1151a3bdccf5fcf     912\n",
              "9948794b0687c0b3cd2094845cb7915d55793492     884\n",
              "08879a07270b36aaa09923890b221fdef1e9849e     884\n",
              "04383d89810d0113066c28b631097711d2550b04     867\n",
              "Name: song_count, dtype: int64"
            ]
          },
          "metadata": {
            "tags": []
          },
          "execution_count": 44
        }
      ]
    },
    {
      "cell_type": "code",
      "metadata": {
        "colab": {
          "base_uri": "https://localhost:8080/"
        },
        "id": "Fv3PUFRLTztv",
        "outputId": "41c628b6-13a9-46bc-96e6-1cc93787fc5e"
      },
      "source": [
        "user_count.sort_values(ascending=True).head()"
      ],
      "execution_count": null,
      "outputs": [
        {
          "output_type": "execute_result",
          "data": {
            "text/plain": [
              "user_id\n",
              "219c456aaa463013ec3e08ed10ab1b5cded1a46e    5\n",
              "13e24d4e0a2565607d5d1c5a734cff9c347044df    5\n",
              "be8429f24fc9d4a9c629d3807948c51e7a0a2f9b    5\n",
              "d431e054366a0fb5a9adf4c15728b8948857eb57    5\n",
              "46081c034ec6f930d5f14c9cae5a9dfbac6ec171    5\n",
              "Name: song_count, dtype: int64"
            ]
          },
          "metadata": {
            "tags": []
          },
          "execution_count": 45
        }
      ]
    },
    {
      "cell_type": "code",
      "metadata": {
        "colab": {
          "base_uri": "https://localhost:8080/"
        },
        "id": "YkKd7dAoUMhu",
        "outputId": "f68c6373-a456-43c7-b7d2-993c7d98ffe0"
      },
      "source": [
        "###groupby using song_id\n",
        "song_ct = songs_df.groupby('song_id')['song_count'].sum()\n",
        "song_ct1 = song_ct.sort_values(ascending = False).head(20)\n",
        "song_ct1"
      ],
      "execution_count": null,
      "outputs": [
        {
          "output_type": "execute_result",
          "data": {
            "text/plain": [
              "song_id\n",
              "SOBONKR12A58A7A7E0    35432\n",
              "SOAUWYT12A81C206F1    33179\n",
              "SOSXLTC12AF72A7F54    24359\n",
              "SOFRQTD12A81C233C0    19454\n",
              "SOEGIYH12A6D4FC0E3    17115\n",
              "SOAXGDH12A8C13F8A1    14279\n",
              "SONYKOW12AB01849C9    12392\n",
              "SOVDSJC12A58A7A271    11610\n",
              "SOUFTBI12AB0183F65    10794\n",
              "SOHTKMO12AB01843B0    10515\n",
              "SOPUCYA12A8C13A694     9921\n",
              "SOOFYTN12A6D4F9B35     9685\n",
              "SOBOUPA12A6D4F81F1     8972\n",
              "SODJWHY12A8C142CCE     8718\n",
              "SOLFXKT12AB017E3E0     8093\n",
              "SOTCMDJ12A6D4F8528     7969\n",
              "SOFLJQZ12A6D4FADA6     7895\n",
              "SOTWNDJ12A8C143984     7331\n",
              "SOUVTSM12AC468F6A7     7210\n",
              "SOUNZHU12A8AE47481     7052\n",
              "Name: song_count, dtype: int64"
            ]
          },
          "metadata": {
            "tags": []
          },
          "execution_count": 46
        }
      ]
    },
    {
      "cell_type": "code",
      "metadata": {
        "colab": {
          "base_uri": "https://localhost:8080/",
          "height": 624
        },
        "id": "DfQppOxFUgeS",
        "outputId": "0f5e5d39-4870-4073-c6fe-f60db64b66b9"
      },
      "source": [
        "song_ct1.plot(kind=\"line\",figsize=(20,10))"
      ],
      "execution_count": null,
      "outputs": [
        {
          "output_type": "execute_result",
          "data": {
            "text/plain": [
              "<matplotlib.axes._subplots.AxesSubplot at 0x7f27578fe1d0>"
            ]
          },
          "metadata": {
            "tags": []
          },
          "execution_count": 47
        },
        {
          "output_type": "display_data",
          "data": {
            "image/png": "[encoded data removed]",
            "text/plain": [
              "<Figure size 1440x720 with 1 Axes>"
            ]
          },
          "metadata": {
            "tags": [],
            "needs_background": "light"
          }
        }
      ]
    },
    {
      "cell_type": "code",
      "metadata": {
        "id": "zEjYjk31aPY0"
      },
      "source": [
        "###Popular artist"
      ],
      "execution_count": null,
      "outputs": []
    },
    {
      "cell_type": "code",
      "metadata": {
        "colab": {
          "base_uri": "https://localhost:8080/",
          "height": 593
        },
        "id": "YJo2_xhbgKak",
        "outputId": "d346006e-e174-4975-8e8c-c4b37a4148fb"
      },
      "source": [
        "pop_art = songs_df.loc[:,'singer'].value_counts()[:20] \n",
        "pop_art.plot(kind=\"pie\",figsize=(20,10),stacked = True)"
      ],
      "execution_count": null,
      "outputs": [
        {
          "output_type": "execute_result",
          "data": {
            "text/plain": [
              "<matplotlib.axes._subplots.AxesSubplot at 0x7f27578def10>"
            ]
          },
          "metadata": {
            "tags": []
          },
          "execution_count": 49
        },
        {
          "output_type": "display_data",
          "data": {
            "image/png": "[encoded data removed]",
            "text/plain": [
              "<Figure size 1440x720 with 1 Axes>"
            ]
          },
          "metadata": {
            "tags": []
          }
        }
      ]
    },
    {
      "cell_type": "code",
      "metadata": {
        "colab": {
          "base_uri": "https://localhost:8080/"
        },
        "id": "IaS9KiykgU40",
        "outputId": "6df4dfe3-02e5-4d75-ddca-350b7c612a52"
      },
      "source": [
        "artist = songs_df.groupby('singer')['song_count'].sum()\n",
        "artist1 = artist.sort_values(ascending=False).head(20)\n",
        "artist1"
      ],
      "execution_count": null,
      "outputs": [
        {
          "output_type": "execute_result",
          "data": {
            "text/plain": [
              "singer\n",
              "Kings Of Leon                                                             35857\n",
              "Dwight Yoakam                                                             35688\n",
              "Björk                                                                     35210\n",
              "Coldplay                                                                  32135\n",
              "Florence + The Machine                                                    28224\n",
              "Justin Bieber                                                             26133\n",
              "Alliance Ethnik                                                           21603\n",
              "Train                                                                     21356\n",
              "OneRepublic                                                               20802\n",
              "Harmonia                                                                  19461\n",
              "Jack Johnson                                                              18333\n",
              "Linkin Park                                                               18256\n",
              "Eminem                                                                    17681\n",
              "The Black Keys                                                            17366\n",
              "Barry Tuckwell/Academy of St Martin-in-the-Fields/Sir Neville Marriner    17124\n",
              "Muse                                                                      17031\n",
              "Taylor Swift                                                              16547\n",
              "Metallica                                                                 16105\n",
              "John Mayer                                                                14979\n",
              "Radiohead                                                                 14010\n",
              "Name: song_count, dtype: int64"
            ]
          },
          "metadata": {
            "tags": []
          },
          "execution_count": 50
        }
      ]
    },
    {
      "cell_type": "code",
      "metadata": {
        "colab": {
          "base_uri": "https://localhost:8080/"
        },
        "id": "2IexWYljg2c-",
        "outputId": "2b4e7558-66f5-44fc-f696-8efa55aa7f3c"
      },
      "source": [
        "artist.sort_values(ascending=True).head()"
      ],
      "execution_count": null,
      "outputs": [
        {
          "output_type": "execute_result",
          "data": {
            "text/plain": [
              "singer\n",
              "Özlem Tekin            1\n",
              "Freeway / Rick Ross    1\n",
              "Bjørn Afzelius         1\n",
              "Bjørn Berge            1\n",
              "Scott Reeder           1\n",
              "Name: song_count, dtype: int64"
            ]
          },
          "metadata": {
            "tags": []
          },
          "execution_count": 51
        }
      ]
    },
    {
      "cell_type": "code",
      "metadata": {
        "colab": {
          "base_uri": "https://localhost:8080/"
        },
        "id": "rAZU7CGjmUv2",
        "outputId": "d36b1633-24c9-4ae8-cd1f-33ce2bf78e74"
      },
      "source": [
        "\n",
        "title = songs_df.groupby('song_name')['song_count'].sum()\n",
        "title1 = title.sort_values(ascending = False).head(20)\n",
        "title1"
      ],
      "execution_count": null,
      "outputs": [
        {
          "output_type": "execute_result",
          "data": {
            "text/plain": [
              "song_name\n",
              "You're The One                                                         35738\n",
              "Undo                                                                   33179\n",
              "Revelry                                                                24359\n",
              "Sehr kosmisch                                                          19454\n",
              "Horn Concerto No. 4 in E flat K495: II. Romance (Andante cantabile)    17115\n",
              "Dog Days Are Over (Radio Edit)                                         14279\n",
              "Secrets                                                                12492\n",
              "Ain't Misbehavin                                                       11610\n",
              "Invalid                                                                10794\n",
              "Catch You Baby (Steve Pitron & Max Sanna Radio Edit)                   10515\n",
              "Canada                                                                  9927\n",
              "Représente                                                              9685\n",
              "Sincerité Et Jalousie                                                   8972\n",
              "Hey_ Soul Sister                                                        8718\n",
              "Fireflies                                                               8155\n",
              "The Gift                                                                7999\n",
              "Tive Sim                                                                7896\n",
              "Marry Me                                                                7364\n",
              "Drop The World                                                          7210\n",
              "I CAN'T GET STARTED                                                     7052\n",
              "Name: song_count, dtype: int64"
            ]
          },
          "metadata": {
            "tags": []
          },
          "execution_count": 52
        }
      ]
    },
    {
      "cell_type": "code",
      "metadata": {
        "colab": {
          "base_uri": "https://localhost:8080/",
          "height": 825
        },
        "id": "UsUNa5P9mk8C",
        "outputId": "8894027c-a98d-4c24-ba91-5cfbaefb5818"
      },
      "source": [
        "plt.figure(figsize=(20,8))\n",
        "sns.barplot(title1.index,title1.values)\n",
        "plt.xticks(rotation=90)\n",
        "plt.show()"
      ],
      "execution_count": null,
      "outputs": [
        {
          "output_type": "display_data",
          "data": {
            "image/png": "[encoded data removed]",
            "text/plain": [
              "<Figure size 1440x576 with 1 Axes>"
            ]
          },
          "metadata": {
            "tags": [],
            "needs_background": "light"
          }
        }
      ]
    },
    {
      "cell_type": "code",
      "metadata": {
        "colab": {
          "base_uri": "https://localhost:8080/"
        },
        "id": "mg4o6tcxmra-",
        "outputId": "c86c41b7-a6d8-4aeb-be40-f149a990fabd"
      },
      "source": [
        "pop1_art = songs_df['singer']=='Kings Of Leon'\n",
        "pop_1 = songs_df[pop1_art]\n",
        "a = pop_1['song_name'].unique()\n",
        "print(a)\n",
        "print(\"Number of songs created by King of Leon:\",len(a))"
      ],
      "execution_count": null,
      "outputs": [
        {
          "output_type": "stream",
          "text": [
            "['Genius' 'Revelry' 'Use Somebody' 'Knocked Up' 'Closer'\n",
            " \"Molly's Chambers\" 'Ragoo' 'Dusty' 'Manhattan' 'Camaro' 'I Want You'\n",
            " 'Cold Desert' 'Holy Roller Novocaine' 'Arizona' 'McFearless'\n",
            " 'Be Somebody' 'Day Old Blues' 'Rememo' 'Happy Alone' 'King Of The Rodeo'\n",
            " 'Milk' 'Pistol Of Fire' 'The Runner' 'Velvet Snow' \"Joe's Head\" 'Charmer'\n",
            " 'California Waiting' 'Trunk' 'Trani' 'Where Nobody Knows' 'Fans'\n",
            " 'Slow Night_ So Long' 'Soft' 'Razz' 'Taper Jean Girl' 'Black Thumbnail'\n",
            " 'Beneath The Surface' 'Frontier City' 'Four Kicks']\n",
            "Number of songs created by King of Leon: 39\n"
          ],
          "name": "stdout"
        }
      ]
    },
    {
      "cell_type": "code",
      "metadata": {
        "colab": {
          "base_uri": "https://localhost:8080/",
          "height": 394
        },
        "id": "Eno2wBHknAue",
        "outputId": "2d946a00-da1e-4d1b-e5ad-fc3e6b05c050"
      },
      "source": [
        "max_art = songs_df[['singer','song_count']].groupby('singer').mean().sort_values(by='song_count',ascending=False)[:10]\n",
        "max_art"
      ],
      "execution_count": null,
      "outputs": [
        {
          "output_type": "execute_result",
          "data": {
            "text/html": [
              "<div>\n",
              "<style scoped>\n",
              "    .dataframe tbody tr th:only-of-type {\n",
              "        vertical-align: middle;\n",
              "    }\n",
              "\n",
              "    .dataframe tbody tr th {\n",
              "        vertical-align: top;\n",
              "    }\n",
              "\n",
              "    .dataframe thead th {\n",
              "        text-align: right;\n",
              "    }\n",
              "</style>\n",
              "<table border=\"1\" class=\"dataframe\">\n",
              "  <thead>\n",
              "    <tr style=\"text-align: right;\">\n",
              "      <th></th>\n",
              "      <th>song_count</th>\n",
              "    </tr>\n",
              "    <tr>\n",
              "      <th>singer</th>\n",
              "      <th></th>\n",
              "    </tr>\n",
              "  </thead>\n",
              "  <tbody>\n",
              "    <tr>\n",
              "      <th>Kilgore</th>\n",
              "      <td>462.0</td>\n",
              "    </tr>\n",
              "    <tr>\n",
              "      <th>Merle Travis And Joe Maphis</th>\n",
              "      <td>131.0</td>\n",
              "    </tr>\n",
              "    <tr>\n",
              "      <th>The Family Stand</th>\n",
              "      <td>125.0</td>\n",
              "    </tr>\n",
              "    <tr>\n",
              "      <th>Giuseppe Di Stefano</th>\n",
              "      <td>117.0</td>\n",
              "    </tr>\n",
              "    <tr>\n",
              "      <th>Mousse T.</th>\n",
              "      <td>112.0</td>\n",
              "    </tr>\n",
              "    <tr>\n",
              "      <th>The Gossip / Tracy and the Plastics</th>\n",
              "      <td>105.0</td>\n",
              "    </tr>\n",
              "    <tr>\n",
              "      <th>Ruddy Thomas &amp; Welton Irie</th>\n",
              "      <td>87.0</td>\n",
              "    </tr>\n",
              "    <tr>\n",
              "      <th>Hairy Diamond</th>\n",
              "      <td>85.5</td>\n",
              "    </tr>\n",
              "    <tr>\n",
              "      <th>Electrocute (featuring Paul Pm)</th>\n",
              "      <td>84.0</td>\n",
              "    </tr>\n",
              "    <tr>\n",
              "      <th>Kira Neris</th>\n",
              "      <td>81.0</td>\n",
              "    </tr>\n",
              "  </tbody>\n",
              "</table>\n",
              "</div>"
            ],
            "text/plain": [
              "                                     song_count\n",
              "singer                                         \n",
              "Kilgore                                   462.0\n",
              "Merle Travis And Joe Maphis               131.0\n",
              "The Family Stand                          125.0\n",
              "Giuseppe Di Stefano                       117.0\n",
              "Mousse T.                                 112.0\n",
              "The Gossip / Tracy and the Plastics       105.0\n",
              "Ruddy Thomas & Welton Irie                 87.0\n",
              "Hairy Diamond                              85.5\n",
              "Electrocute (featuring Paul Pm)            84.0\n",
              "Kira Neris                                 81.0"
            ]
          },
          "metadata": {
            "tags": []
          },
          "execution_count": 55
        }
      ]
    },
    {
      "cell_type": "code",
      "metadata": {
        "colab": {
          "base_uri": "https://localhost:8080/",
          "height": 1000
        },
        "id": "kyS8nL0XyKZ9",
        "outputId": "73061b50-0a2a-4b24-e310-62507882d150"
      },
      "source": [
        "#songs heard by top user\n",
        "top_user = songs_df[songs_df['user_id']== '7d90be8dfdbde170f036ce8a4b915440137cb11c']\n",
        "top_user.sort_values(by='singer')"
      ],
      "execution_count": null,
      "outputs": [
        {
          "output_type": "execute_result",
          "data": {
            "text/html": [
              "<div>\n",
              "<style scoped>\n",
              "    .dataframe tbody tr th:only-of-type {\n",
              "        vertical-align: middle;\n",
              "    }\n",
              "\n",
              "    .dataframe tbody tr th {\n",
              "        vertical-align: top;\n",
              "    }\n",
              "\n",
              "    .dataframe thead th {\n",
              "        text-align: right;\n",
              "    }\n",
              "</style>\n",
              "<table border=\"1\" class=\"dataframe\">\n",
              "  <thead>\n",
              "    <tr style=\"text-align: right;\">\n",
              "      <th></th>\n",
              "      <th>user_id</th>\n",
              "      <th>song_id</th>\n",
              "      <th>song_count</th>\n",
              "      <th>track_id</th>\n",
              "      <th>singer</th>\n",
              "      <th>song_name</th>\n",
              "    </tr>\n",
              "  </thead>\n",
              "  <tbody>\n",
              "    <tr>\n",
              "      <th>259608</th>\n",
              "      <td>7d90be8dfdbde170f036ce8a4b915440137cb11c</td>\n",
              "      <td>SOVFEGN12AF72A3369</td>\n",
              "      <td>1</td>\n",
              "      <td>TRXNPTX12903CE1090</td>\n",
              "      <td>A.A. Bondy</td>\n",
              "      <td>Killed Myself When I Was Young</td>\n",
              "    </tr>\n",
              "    <tr>\n",
              "      <th>259602</th>\n",
              "      <td>7d90be8dfdbde170f036ce8a4b915440137cb11c</td>\n",
              "      <td>SOQBYQC12A8C143F2A</td>\n",
              "      <td>1</td>\n",
              "      <td>TRNBPFK128F92CFB26</td>\n",
              "      <td>Alceu Valença</td>\n",
              "      <td>No Balanço Da Canoa</td>\n",
              "    </tr>\n",
              "    <tr>\n",
              "      <th>259582</th>\n",
              "      <td>7d90be8dfdbde170f036ce8a4b915440137cb11c</td>\n",
              "      <td>SOKXERP12A6D4F9895</td>\n",
              "      <td>1</td>\n",
              "      <td>TRREFSQ128F1498B40</td>\n",
              "      <td>Ana Caram</td>\n",
              "      <td>Overjoyed / Ancora</td>\n",
              "    </tr>\n",
              "    <tr>\n",
              "      <th>259621</th>\n",
              "      <td>7d90be8dfdbde170f036ce8a4b915440137cb11c</td>\n",
              "      <td>SODHITM12A58A79070</td>\n",
              "      <td>1</td>\n",
              "      <td>TREZJNK128F1473B62</td>\n",
              "      <td>Baby Huey &amp; The Baby Sitters</td>\n",
              "      <td>Listen To Me (LP Version)</td>\n",
              "    </tr>\n",
              "    <tr>\n",
              "      <th>259593</th>\n",
              "      <td>7d90be8dfdbde170f036ce8a4b915440137cb11c</td>\n",
              "      <td>SOPRYVX12AF72A5B7F</td>\n",
              "      <td>1</td>\n",
              "      <td>TRMTVDJ12903D13444</td>\n",
              "      <td>Bad Manners</td>\n",
              "      <td>Special Brew</td>\n",
              "    </tr>\n",
              "    <tr>\n",
              "      <th>259581</th>\n",
              "      <td>7d90be8dfdbde170f036ce8a4b915440137cb11c</td>\n",
              "      <td>SOECRTE12A8C14296D</td>\n",
              "      <td>1</td>\n",
              "      <td>TRAWLYF128F92D9EE0</td>\n",
              "      <td>Blue October</td>\n",
              "      <td>Blue Skies</td>\n",
              "    </tr>\n",
              "    <tr>\n",
              "      <th>259591</th>\n",
              "      <td>7d90be8dfdbde170f036ce8a4b915440137cb11c</td>\n",
              "      <td>SOGYTIV12A6D4FBF10</td>\n",
              "      <td>1</td>\n",
              "      <td>TRKNCMX128F930668C</td>\n",
              "      <td>Carla Bruni</td>\n",
              "      <td>Promises Like Pie-Crust (Album)</td>\n",
              "    </tr>\n",
              "    <tr>\n",
              "      <th>259598</th>\n",
              "      <td>7d90be8dfdbde170f036ce8a4b915440137cb11c</td>\n",
              "      <td>SOTGHQR12A8C1406C5</td>\n",
              "      <td>1</td>\n",
              "      <td>TRKXSKY128F42BADA6</td>\n",
              "      <td>Chris Bathgate</td>\n",
              "      <td>Coda</td>\n",
              "    </tr>\n",
              "    <tr>\n",
              "      <th>259579</th>\n",
              "      <td>7d90be8dfdbde170f036ce8a4b915440137cb11c</td>\n",
              "      <td>SOTIFKV12A6D4FAD83</td>\n",
              "      <td>2</td>\n",
              "      <td>TRVBZOJ128F14867D3</td>\n",
              "      <td>D-Flame Feat. Wayne Marshall</td>\n",
              "      <td>Call Me Crazy</td>\n",
              "    </tr>\n",
              "    <tr>\n",
              "      <th>259620</th>\n",
              "      <td>7d90be8dfdbde170f036ce8a4b915440137cb11c</td>\n",
              "      <td>SODZVMN12AC3DF81C6</td>\n",
              "      <td>1</td>\n",
              "      <td>TRKYXBC12903CF7A88</td>\n",
              "      <td>Datarock</td>\n",
              "      <td>Give It Up (Kissy Sell Out's 4x4 Cello Mix)</td>\n",
              "    </tr>\n",
              "    <tr>\n",
              "      <th>259609</th>\n",
              "      <td>7d90be8dfdbde170f036ce8a4b915440137cb11c</td>\n",
              "      <td>SOIIUPO12A6D4F7EA8</td>\n",
              "      <td>2</td>\n",
              "      <td>TRPXQGF128F1467DF2</td>\n",
              "      <td>Dion &amp; The Belmonts</td>\n",
              "      <td>A Teenager In Love</td>\n",
              "    </tr>\n",
              "    <tr>\n",
              "      <th>259583</th>\n",
              "      <td>7d90be8dfdbde170f036ce8a4b915440137cb11c</td>\n",
              "      <td>SOJAMRN12AB018BA2B</td>\n",
              "      <td>5</td>\n",
              "      <td>TRTJWSA12903CD8226</td>\n",
              "      <td>Eartha Kitt</td>\n",
              "      <td>Let's Do It_ Let's Fall In Love</td>\n",
              "    </tr>\n",
              "    <tr>\n",
              "      <th>259612</th>\n",
              "      <td>7d90be8dfdbde170f036ce8a4b915440137cb11c</td>\n",
              "      <td>SOQBRAQ12A58A7D473</td>\n",
              "      <td>5</td>\n",
              "      <td>TRAMDAK128E0791DEC</td>\n",
              "      <td>Eels</td>\n",
              "      <td>My Beloved Monster</td>\n",
              "    </tr>\n",
              "    <tr>\n",
              "      <th>259605</th>\n",
              "      <td>7d90be8dfdbde170f036ce8a4b915440137cb11c</td>\n",
              "      <td>SOQDYRL12A8C13211D</td>\n",
              "      <td>1</td>\n",
              "      <td>TRQOUMO128F9324F05</td>\n",
              "      <td>Glenn Lewis</td>\n",
              "      <td>Don't You Forget It</td>\n",
              "    </tr>\n",
              "    <tr>\n",
              "      <th>259601</th>\n",
              "      <td>7d90be8dfdbde170f036ce8a4b915440137cb11c</td>\n",
              "      <td>SOBYWZZ12A58A7B90E</td>\n",
              "      <td>1</td>\n",
              "      <td>TRVXNHV128F4231BC3</td>\n",
              "      <td>Hadag Nachash</td>\n",
              "      <td>Gan Haedden (Edden)</td>\n",
              "    </tr>\n",
              "    <tr>\n",
              "      <th>259618</th>\n",
              "      <td>7d90be8dfdbde170f036ce8a4b915440137cb11c</td>\n",
              "      <td>SOAPEQV12A8C13CD31</td>\n",
              "      <td>1</td>\n",
              "      <td>TRSAYCZ128F93530BA</td>\n",
              "      <td>Hird</td>\n",
              "      <td>Getting Closer</td>\n",
              "    </tr>\n",
              "    <tr>\n",
              "      <th>259607</th>\n",
              "      <td>7d90be8dfdbde170f036ce8a4b915440137cb11c</td>\n",
              "      <td>SOMDZLO12AF729A7C1</td>\n",
              "      <td>2</td>\n",
              "      <td>TRFGHXU128F14A13F0</td>\n",
              "      <td>In Flames</td>\n",
              "      <td>Artifacts of the black rain</td>\n",
              "    </tr>\n",
              "    <tr>\n",
              "      <th>259594</th>\n",
              "      <td>7d90be8dfdbde170f036ce8a4b915440137cb11c</td>\n",
              "      <td>SOWVLZC12AB017F4FB</td>\n",
              "      <td>5</td>\n",
              "      <td>TRXLJBG12903CE6A30</td>\n",
              "      <td>Insane Clown Posse</td>\n",
              "      <td>Out</td>\n",
              "    </tr>\n",
              "    <tr>\n",
              "      <th>259624</th>\n",
              "      <td>7d90be8dfdbde170f036ce8a4b915440137cb11c</td>\n",
              "      <td>SOXHIDK12A58A7CFB3</td>\n",
              "      <td>1</td>\n",
              "      <td>TRJSGDS128F933249A</td>\n",
              "      <td>Jadakiss / Swizz Beatz / OJ Da Juiceman</td>\n",
              "      <td>Who's Real</td>\n",
              "    </tr>\n",
              "    <tr>\n",
              "      <th>259622</th>\n",
              "      <td>7d90be8dfdbde170f036ce8a4b915440137cb11c</td>\n",
              "      <td>SOMHUFR12A8C14179D</td>\n",
              "      <td>1</td>\n",
              "      <td>TRPJMXJ128F92CD12A</td>\n",
              "      <td>Klaus Lage</td>\n",
              "      <td>Ab Jetzt Nicht Mehr</td>\n",
              "    </tr>\n",
              "    <tr>\n",
              "      <th>259600</th>\n",
              "      <td>7d90be8dfdbde170f036ce8a4b915440137cb11c</td>\n",
              "      <td>SOACEQF12A58A7B70E</td>\n",
              "      <td>1</td>\n",
              "      <td>TRFPPWT128F146B549</td>\n",
              "      <td>La Portuaria</td>\n",
              "      <td>Escenas De La Vida(En Vivo)</td>\n",
              "    </tr>\n",
              "    <tr>\n",
              "      <th>259596</th>\n",
              "      <td>7d90be8dfdbde170f036ce8a4b915440137cb11c</td>\n",
              "      <td>SOEXMJG12A8C13EC18</td>\n",
              "      <td>1</td>\n",
              "      <td>TRTBCMI128F4298948</td>\n",
              "      <td>Led Zeppelin</td>\n",
              "      <td>Ten Years Gone  (Album Version)</td>\n",
              "    </tr>\n",
              "    <tr>\n",
              "      <th>259592</th>\n",
              "      <td>7d90be8dfdbde170f036ce8a4b915440137cb11c</td>\n",
              "      <td>SOQXDUU12A6310E836</td>\n",
              "      <td>1</td>\n",
              "      <td>TRQVXIY128E07943ED</td>\n",
              "      <td>Marvin Gaye</td>\n",
              "      <td>I Want You</td>\n",
              "    </tr>\n",
              "    <tr>\n",
              "      <th>259586</th>\n",
              "      <td>7d90be8dfdbde170f036ce8a4b915440137cb11c</td>\n",
              "      <td>SOOEEPE12A8AE459A4</td>\n",
              "      <td>2</td>\n",
              "      <td>TRZFXSA128F93073BE</td>\n",
              "      <td>Metallica</td>\n",
              "      <td>The Unforgiven III</td>\n",
              "    </tr>\n",
              "    <tr>\n",
              "      <th>259611</th>\n",
              "      <td>7d90be8dfdbde170f036ce8a4b915440137cb11c</td>\n",
              "      <td>SOWZREA12A6701D93D</td>\n",
              "      <td>1</td>\n",
              "      <td>TRYWGLU128E0784662</td>\n",
              "      <td>Method Man / Busta Rhymes</td>\n",
              "      <td>What's Happenin'</td>\n",
              "    </tr>\n",
              "    <tr>\n",
              "      <th>259617</th>\n",
              "      <td>7d90be8dfdbde170f036ce8a4b915440137cb11c</td>\n",
              "      <td>SOLZTYD12A8C143215</td>\n",
              "      <td>1</td>\n",
              "      <td>TRKCKNL128F92D21BC</td>\n",
              "      <td>Mischa Daniels</td>\n",
              "      <td>Another Place</td>\n",
              "    </tr>\n",
              "    <tr>\n",
              "      <th>259599</th>\n",
              "      <td>7d90be8dfdbde170f036ce8a4b915440137cb11c</td>\n",
              "      <td>SOOCQDM12A8C140869</td>\n",
              "      <td>1</td>\n",
              "      <td>TRVAKKF12903CBEA88</td>\n",
              "      <td>Mungo Jerry</td>\n",
              "      <td>In The Summertime</td>\n",
              "    </tr>\n",
              "    <tr>\n",
              "      <th>259578</th>\n",
              "      <td>7d90be8dfdbde170f036ce8a4b915440137cb11c</td>\n",
              "      <td>SOSLQGG12A6D4F5045</td>\n",
              "      <td>1</td>\n",
              "      <td>TRKXRDF12903CF3F3E</td>\n",
              "      <td>Nevermore</td>\n",
              "      <td>Matricide</td>\n",
              "    </tr>\n",
              "    <tr>\n",
              "      <th>259576</th>\n",
              "      <td>7d90be8dfdbde170f036ce8a4b915440137cb11c</td>\n",
              "      <td>SOMPGPP12A6BD55D5F</td>\n",
              "      <td>5</td>\n",
              "      <td>TRVCGRI128EF34DBC0</td>\n",
              "      <td>Nine Inch Nails</td>\n",
              "      <td>Vessel</td>\n",
              "    </tr>\n",
              "    <tr>\n",
              "      <th>259625</th>\n",
              "      <td>7d90be8dfdbde170f036ce8a4b915440137cb11c</td>\n",
              "      <td>SOHKZPT12AB0183E4B</td>\n",
              "      <td>2</td>\n",
              "      <td>TRDYGRD128F92EDE81</td>\n",
              "      <td>Okkervil River</td>\n",
              "      <td>Love To A Monster</td>\n",
              "    </tr>\n",
              "    <tr>\n",
              "      <th>259626</th>\n",
              "      <td>7d90be8dfdbde170f036ce8a4b915440137cb11c</td>\n",
              "      <td>SOJSQYL12A81C23901</td>\n",
              "      <td>4</td>\n",
              "      <td>TRSHCUG128F4255714</td>\n",
              "      <td>Onar</td>\n",
              "      <td>Xehasmeni Melodia</td>\n",
              "    </tr>\n",
              "    <tr>\n",
              "      <th>259588</th>\n",
              "      <td>7d90be8dfdbde170f036ce8a4b915440137cb11c</td>\n",
              "      <td>SOYYBHE12A6BD53865</td>\n",
              "      <td>1</td>\n",
              "      <td>TRHGBGR128F424EFEA</td>\n",
              "      <td>Ours</td>\n",
              "      <td>La Maison De Mes Parents (Edit)</td>\n",
              "    </tr>\n",
              "    <tr>\n",
              "      <th>259589</th>\n",
              "      <td>7d90be8dfdbde170f036ce8a4b915440137cb11c</td>\n",
              "      <td>SOVOJVL12A6D4F93C1</td>\n",
              "      <td>2</td>\n",
              "      <td>TRMQSAM128F147B8D6</td>\n",
              "      <td>Paolo Nutini</td>\n",
              "      <td>Rewind [Album Version]</td>\n",
              "    </tr>\n",
              "    <tr>\n",
              "      <th>259585</th>\n",
              "      <td>7d90be8dfdbde170f036ce8a4b915440137cb11c</td>\n",
              "      <td>SOAXJHW12A81C21E1F</td>\n",
              "      <td>2</td>\n",
              "      <td>TRZAPMF128F4236918</td>\n",
              "      <td>Paramore</td>\n",
              "      <td>Misery Business (Single Version)</td>\n",
              "    </tr>\n",
              "    <tr>\n",
              "      <th>259575</th>\n",
              "      <td>7d90be8dfdbde170f036ce8a4b915440137cb11c</td>\n",
              "      <td>SOKNWRZ12A8C13BF62</td>\n",
              "      <td>1</td>\n",
              "      <td>TRMTWCN128F429617D</td>\n",
              "      <td>Postal Service</td>\n",
              "      <td>Natural Anthem (Album)</td>\n",
              "    </tr>\n",
              "    <tr>\n",
              "      <th>259610</th>\n",
              "      <td>7d90be8dfdbde170f036ce8a4b915440137cb11c</td>\n",
              "      <td>SOCXEKQ12AAF3B5490</td>\n",
              "      <td>1</td>\n",
              "      <td>TRRXGZG128F92E0D1D</td>\n",
              "      <td>Rammstein</td>\n",
              "      <td>Stripped</td>\n",
              "    </tr>\n",
              "    <tr>\n",
              "      <th>259580</th>\n",
              "      <td>7d90be8dfdbde170f036ce8a4b915440137cb11c</td>\n",
              "      <td>SOTFCUM12A6D4F7D0B</td>\n",
              "      <td>1</td>\n",
              "      <td>TRTFHCW128F1464B13</td>\n",
              "      <td>Remy</td>\n",
              "      <td>Intro</td>\n",
              "    </tr>\n",
              "    <tr>\n",
              "      <th>259606</th>\n",
              "      <td>7d90be8dfdbde170f036ce8a4b915440137cb11c</td>\n",
              "      <td>SOZJFDM12AB01807DC</td>\n",
              "      <td>1</td>\n",
              "      <td>TRSQFTM12903D08185</td>\n",
              "      <td>Rick Ross</td>\n",
              "      <td>Push It</td>\n",
              "    </tr>\n",
              "    <tr>\n",
              "      <th>259590</th>\n",
              "      <td>7d90be8dfdbde170f036ce8a4b915440137cb11c</td>\n",
              "      <td>SOBHRTW12A8AE48014</td>\n",
              "      <td>5</td>\n",
              "      <td>TRHSHKT12903D056CF</td>\n",
              "      <td>Rolf Harris</td>\n",
              "      <td>The Court Of King Caractacus</td>\n",
              "    </tr>\n",
              "    <tr>\n",
              "      <th>259613</th>\n",
              "      <td>7d90be8dfdbde170f036ce8a4b915440137cb11c</td>\n",
              "      <td>SOAVGMK12A8C144BDD</td>\n",
              "      <td>1</td>\n",
              "      <td>TRWGQEZ128F92D3E13</td>\n",
              "      <td>Ryan Leslie</td>\n",
              "      <td>How It Was Supposed To Be</td>\n",
              "    </tr>\n",
              "    <tr>\n",
              "      <th>259604</th>\n",
              "      <td>7d90be8dfdbde170f036ce8a4b915440137cb11c</td>\n",
              "      <td>SOBABRB12A6701DF4B</td>\n",
              "      <td>6</td>\n",
              "      <td>TRMNYZQ128F1459E10</td>\n",
              "      <td>Shania Twain</td>\n",
              "      <td>Nah!</td>\n",
              "    </tr>\n",
              "    <tr>\n",
              "      <th>259623</th>\n",
              "      <td>7d90be8dfdbde170f036ce8a4b915440137cb11c</td>\n",
              "      <td>SOGMHOJ12A6D2282AA</td>\n",
              "      <td>1</td>\n",
              "      <td>TRRJCUV128EF351AD0</td>\n",
              "      <td>Shearwater</td>\n",
              "      <td>Red Sea_ Black Sea</td>\n",
              "    </tr>\n",
              "    <tr>\n",
              "      <th>259619</th>\n",
              "      <td>7d90be8dfdbde170f036ce8a4b915440137cb11c</td>\n",
              "      <td>SOGGUCU12A6D4F76C2</td>\n",
              "      <td>2</td>\n",
              "      <td>TRSKUXR128F1458D90</td>\n",
              "      <td>Steve Hackett</td>\n",
              "      <td>Hackett To Pieces</td>\n",
              "    </tr>\n",
              "    <tr>\n",
              "      <th>259587</th>\n",
              "      <td>7d90be8dfdbde170f036ce8a4b915440137cb11c</td>\n",
              "      <td>SOVHIIY12A58A7A606</td>\n",
              "      <td>1</td>\n",
              "      <td>TRGDJZZ12903C9F844</td>\n",
              "      <td>The Bar-Kays</td>\n",
              "      <td>Soul Finger</td>\n",
              "    </tr>\n",
              "    <tr>\n",
              "      <th>259577</th>\n",
              "      <td>7d90be8dfdbde170f036ce8a4b915440137cb11c</td>\n",
              "      <td>SOOVOSX12A81C22771</td>\n",
              "      <td>1</td>\n",
              "      <td>TRAZJGR128F4237073</td>\n",
              "      <td>The Beginning Of The End</td>\n",
              "      <td>Funky Nassau_ Part 1 (LP Version)</td>\n",
              "    </tr>\n",
              "    <tr>\n",
              "      <th>259595</th>\n",
              "      <td>7d90be8dfdbde170f036ce8a4b915440137cb11c</td>\n",
              "      <td>SOBATYS12A58A76C6E</td>\n",
              "      <td>5</td>\n",
              "      <td>TRQIDDT128F92F1218</td>\n",
              "      <td>The Kingston Trio</td>\n",
              "      <td>Greenback Dollar</td>\n",
              "    </tr>\n",
              "    <tr>\n",
              "      <th>259627</th>\n",
              "      <td>7d90be8dfdbde170f036ce8a4b915440137cb11c</td>\n",
              "      <td>SOHTWGE12AB0188968</td>\n",
              "      <td>5</td>\n",
              "      <td>TRWYWXQ128F93348AF</td>\n",
              "      <td>Triple Darkness</td>\n",
              "      <td>Represent</td>\n",
              "    </tr>\n",
              "    <tr>\n",
              "      <th>259616</th>\n",
              "      <td>7d90be8dfdbde170f036ce8a4b915440137cb11c</td>\n",
              "      <td>SOZQOLR12A8C136B84</td>\n",
              "      <td>2</td>\n",
              "      <td>TRZQLBK128F4279304</td>\n",
              "      <td>Yeasayer</td>\n",
              "      <td>Sunrise</td>\n",
              "    </tr>\n",
              "    <tr>\n",
              "      <th>259584</th>\n",
              "      <td>7d90be8dfdbde170f036ce8a4b915440137cb11c</td>\n",
              "      <td>SOYSSSK12A8C13BC34</td>\n",
              "      <td>2</td>\n",
              "      <td>TRYWLIM128F427930B</td>\n",
              "      <td>Yeasayer</td>\n",
              "      <td>Wait For The Wintertime</td>\n",
              "    </tr>\n",
              "    <tr>\n",
              "      <th>259614</th>\n",
              "      <td>7d90be8dfdbde170f036ce8a4b915440137cb11c</td>\n",
              "      <td>SOXGIHJ12A8C13B367</td>\n",
              "      <td>4</td>\n",
              "      <td>TRKVBNZ128F4266698</td>\n",
              "      <td>Yeasayer</td>\n",
              "      <td>Final Path</td>\n",
              "    </tr>\n",
              "    <tr>\n",
              "      <th>259603</th>\n",
              "      <td>7d90be8dfdbde170f036ce8a4b915440137cb11c</td>\n",
              "      <td>SOATPFD12A8C136B88</td>\n",
              "      <td>2</td>\n",
              "      <td>TRRQBED128F4279305</td>\n",
              "      <td>Yeasayer</td>\n",
              "      <td>Wait For The Summer</td>\n",
              "    </tr>\n",
              "    <tr>\n",
              "      <th>259597</th>\n",
              "      <td>7d90be8dfdbde170f036ce8a4b915440137cb11c</td>\n",
              "      <td>SONZTEN12A8C136B8C</td>\n",
              "      <td>1</td>\n",
              "      <td>TROMQBP128F4279306</td>\n",
              "      <td>Yeasayer</td>\n",
              "      <td>2080</td>\n",
              "    </tr>\n",
              "    <tr>\n",
              "      <th>259615</th>\n",
              "      <td>7d90be8dfdbde170f036ce8a4b915440137cb11c</td>\n",
              "      <td>SOZJJCY12A8C13C917</td>\n",
              "      <td>1</td>\n",
              "      <td>TRGEXFO128F429EB68</td>\n",
              "      <td>Yo La Tengo</td>\n",
              "      <td>Out The Window</td>\n",
              "    </tr>\n",
              "  </tbody>\n",
              "</table>\n",
              "</div>"
            ],
            "text/plain": [
              "                                         user_id  ...                                    song_name\n",
              "259608  7d90be8dfdbde170f036ce8a4b915440137cb11c  ...               Killed Myself When I Was Young\n",
              "259602  7d90be8dfdbde170f036ce8a4b915440137cb11c  ...                          No Balanço Da Canoa\n",
              "259582  7d90be8dfdbde170f036ce8a4b915440137cb11c  ...                           Overjoyed / Ancora\n",
              "259621  7d90be8dfdbde170f036ce8a4b915440137cb11c  ...                    Listen To Me (LP Version)\n",
              "259593  7d90be8dfdbde170f036ce8a4b915440137cb11c  ...                                 Special Brew\n",
              "259581  7d90be8dfdbde170f036ce8a4b915440137cb11c  ...                                   Blue Skies\n",
              "259591  7d90be8dfdbde170f036ce8a4b915440137cb11c  ...              Promises Like Pie-Crust (Album)\n",
              "259598  7d90be8dfdbde170f036ce8a4b915440137cb11c  ...                                         Coda\n",
              "259579  7d90be8dfdbde170f036ce8a4b915440137cb11c  ...                                Call Me Crazy\n",
              "259620  7d90be8dfdbde170f036ce8a4b915440137cb11c  ...  Give It Up (Kissy Sell Out's 4x4 Cello Mix)\n",
              "259609  7d90be8dfdbde170f036ce8a4b915440137cb11c  ...                           A Teenager In Love\n",
              "259583  7d90be8dfdbde170f036ce8a4b915440137cb11c  ...              Let's Do It_ Let's Fall In Love\n",
              "259612  7d90be8dfdbde170f036ce8a4b915440137cb11c  ...                           My Beloved Monster\n",
              "259605  7d90be8dfdbde170f036ce8a4b915440137cb11c  ...                          Don't You Forget It\n",
              "259601  7d90be8dfdbde170f036ce8a4b915440137cb11c  ...                          Gan Haedden (Edden)\n",
              "259618  7d90be8dfdbde170f036ce8a4b915440137cb11c  ...                               Getting Closer\n",
              "259607  7d90be8dfdbde170f036ce8a4b915440137cb11c  ...                  Artifacts of the black rain\n",
              "259594  7d90be8dfdbde170f036ce8a4b915440137cb11c  ...                                          Out\n",
              "259624  7d90be8dfdbde170f036ce8a4b915440137cb11c  ...                                   Who's Real\n",
              "259622  7d90be8dfdbde170f036ce8a4b915440137cb11c  ...                          Ab Jetzt Nicht Mehr\n",
              "259600  7d90be8dfdbde170f036ce8a4b915440137cb11c  ...                  Escenas De La Vida(En Vivo)\n",
              "259596  7d90be8dfdbde170f036ce8a4b915440137cb11c  ...              Ten Years Gone  (Album Version)\n",
              "259592  7d90be8dfdbde170f036ce8a4b915440137cb11c  ...                                   I Want You\n",
              "259586  7d90be8dfdbde170f036ce8a4b915440137cb11c  ...                           The Unforgiven III\n",
              "259611  7d90be8dfdbde170f036ce8a4b915440137cb11c  ...                             What's Happenin'\n",
              "259617  7d90be8dfdbde170f036ce8a4b915440137cb11c  ...                                Another Place\n",
              "259599  7d90be8dfdbde170f036ce8a4b915440137cb11c  ...                            In The Summertime\n",
              "259578  7d90be8dfdbde170f036ce8a4b915440137cb11c  ...                                    Matricide\n",
              "259576  7d90be8dfdbde170f036ce8a4b915440137cb11c  ...                                       Vessel\n",
              "259625  7d90be8dfdbde170f036ce8a4b915440137cb11c  ...                            Love To A Monster\n",
              "259626  7d90be8dfdbde170f036ce8a4b915440137cb11c  ...                            Xehasmeni Melodia\n",
              "259588  7d90be8dfdbde170f036ce8a4b915440137cb11c  ...              La Maison De Mes Parents (Edit)\n",
              "259589  7d90be8dfdbde170f036ce8a4b915440137cb11c  ...                       Rewind [Album Version]\n",
              "259585  7d90be8dfdbde170f036ce8a4b915440137cb11c  ...             Misery Business (Single Version)\n",
              "259575  7d90be8dfdbde170f036ce8a4b915440137cb11c  ...                       Natural Anthem (Album)\n",
              "259610  7d90be8dfdbde170f036ce8a4b915440137cb11c  ...                                     Stripped\n",
              "259580  7d90be8dfdbde170f036ce8a4b915440137cb11c  ...                                        Intro\n",
              "259606  7d90be8dfdbde170f036ce8a4b915440137cb11c  ...                                      Push It\n",
              "259590  7d90be8dfdbde170f036ce8a4b915440137cb11c  ...                 The Court Of King Caractacus\n",
              "259613  7d90be8dfdbde170f036ce8a4b915440137cb11c  ...                    How It Was Supposed To Be\n",
              "259604  7d90be8dfdbde170f036ce8a4b915440137cb11c  ...                                         Nah!\n",
              "259623  7d90be8dfdbde170f036ce8a4b915440137cb11c  ...                           Red Sea_ Black Sea\n",
              "259619  7d90be8dfdbde170f036ce8a4b915440137cb11c  ...                            Hackett To Pieces\n",
              "259587  7d90be8dfdbde170f036ce8a4b915440137cb11c  ...                                  Soul Finger\n",
              "259577  7d90be8dfdbde170f036ce8a4b915440137cb11c  ...            Funky Nassau_ Part 1 (LP Version)\n",
              "259595  7d90be8dfdbde170f036ce8a4b915440137cb11c  ...                             Greenback Dollar\n",
              "259627  7d90be8dfdbde170f036ce8a4b915440137cb11c  ...                                    Represent\n",
              "259616  7d90be8dfdbde170f036ce8a4b915440137cb11c  ...                                      Sunrise\n",
              "259584  7d90be8dfdbde170f036ce8a4b915440137cb11c  ...                      Wait For The Wintertime\n",
              "259614  7d90be8dfdbde170f036ce8a4b915440137cb11c  ...                                   Final Path\n",
              "259603  7d90be8dfdbde170f036ce8a4b915440137cb11c  ...                          Wait For The Summer\n",
              "259597  7d90be8dfdbde170f036ce8a4b915440137cb11c  ...                                         2080\n",
              "259615  7d90be8dfdbde170f036ce8a4b915440137cb11c  ...                               Out The Window\n",
              "\n",
              "[53 rows x 6 columns]"
            ]
          },
          "metadata": {
            "tags": []
          },
          "execution_count": 56
        }
      ]
    },
    {
      "cell_type": "code",
      "metadata": {
        "id": "J-szES9MyVrd"
      },
      "source": [
        "### Creating Popularity based Recommendation System:"
      ],
      "execution_count": null,
      "outputs": []
    },
    {
      "cell_type": "code",
      "metadata": {
        "id": "E-fViRc840yb"
      },
      "source": [
        "#Class for Popularity based Recommender System model\n",
        "class popularity_recommender_py():\n",
        "    def __init__(self):\n",
        "        self.train_data = None\n",
        "        self.user_id = None\n",
        "        self.item_id = None\n",
        "        self.popularity_recommendations = None\n",
        "        \n",
        "    #Create the popularity based recommender system model\n",
        "    def create(self, train_data, user_id, item_id):\n",
        "        self.train_data = train_data\n",
        "        self.user_id = user_id\n",
        "        self.item_id = item_id\n",
        "\n",
        "        #Get a count of user_ids for each unique song as recommendation score\n",
        "        train_data_grouped = train_data.groupby([self.item_id]).agg({self.user_id: 'count'}).reset_index()\n",
        "        train_data_grouped.rename(columns = {'user_id': 'score'},inplace=True)\n",
        "        print(train_data_grouped)\n",
        "    \n",
        "        #Sort the songs based upon recommendation score\n",
        "        train_data_sort = train_data_grouped.sort_values(['score', self.item_id], ascending = [0,1])\n",
        "    \n",
        "        #Generate a recommendation rank based upon score\n",
        "        train_data_sort['Rank'] = train_data_sort['score'].rank(ascending=0, method='first')\n",
        "        \n",
        "        #Get the top 10 recommendations\n",
        "        self.popularity_recommendations = train_data_sort.head(10)\n",
        "        print(self.popularity_recommendations)\n",
        "    #Use the popularity based recommender system model to\n",
        "    #make recommendations\n",
        "    def recommend(self, user_id):    \n",
        "        user_recommendations = self.popularity_recommendations\n",
        "        \n",
        "        #Add user_id column for which the recommendations are being generated\n",
        "        user_recommendations['user_id'] = user_id\n",
        "    \n",
        "        #Bring user_id column to the front\n",
        "        cols = user_recommendations.columns.tolist()\n",
        "        cols = cols[-1:] + cols[:-1]\n",
        "        user_recommendations = user_recommendations[cols]\n",
        "        \n",
        "        return user_recommendations"
      ],
      "execution_count": null,
      "outputs": []
    },
    {
      "cell_type": "code",
      "metadata": {
        "id": "ed8t01_T5wze"
      },
      "source": [
        "pr = popularity_recommender_py()\n",
        "song_df = songs_df.head(10000)"
      ],
      "execution_count": null,
      "outputs": []
    },
    {
      "cell_type": "code",
      "metadata": {
        "colab": {
          "base_uri": "https://localhost:8080/"
        },
        "id": "8ZgjvQb_a3VR",
        "outputId": "3f7e54d8-fb59-446d-e9ed-b0951c396c56"
      },
      "source": [
        "pr.create(songs_df,'user_id','song_name')"
      ],
      "execution_count": null,
      "outputs": [
        {
          "output_type": "stream",
          "text": [
            "                                                song_name  score\n",
            "0                                  \u001cEf Ég Hefði Aldrei...      1\n",
            "1                                     \u001cLight Mass Prayers      4\n",
            "2       \u001cThe Arsonist Story\":  Evil Craves Attention/O...      1\n",
            "3                                      \u001cÉg Átti Gráa Æsku      4\n",
            "4                                     (Jack The Stripper)      2\n",
            "...                                                   ...    ...\n",
            "137617                                      Þú ert jörðin      2\n",
            "137618                                       Þú ert sólin      2\n",
            "137619                                 ça Me Fait Du Bien      2\n",
            "137620                                     étienne d'août      4\n",
            "137621                         þetta Gerist á Bestu Bæjum      1\n",
            "\n",
            "[137622 rows x 2 columns]\n",
            "                                                song_name  score  Rank\n",
            "98812                                       Sehr kosmisch   5043   1.0\n",
            "125393                                               Undo   4483   2.0\n",
            "136066                                     You're The One   4270   3.0\n",
            "28716                      Dog Days Are Over (Radio Edit)   3780   4.0\n",
            "93984                                             Revelry   3672   5.0\n",
            "98585                                             Secrets   3456   6.0\n",
            "49061   Horn Concerto No. 4 in E flat K495: II. Romanc...   3272   7.0\n",
            "47683                                    Hey_ Soul Sister   2791   8.0\n",
            "37656                                           Fireflies   2745   9.0\n",
            "121358                                           Tive Sim   2669  10.0\n"
          ],
          "name": "stdout"
        }
      ]
    },
    {
      "cell_type": "code",
      "metadata": {
        "colab": {
          "base_uri": "https://localhost:8080/",
          "height": 363
        },
        "id": "GWq-sZsYcL5t",
        "outputId": "2a7541e2-f17c-4852-d1b0-4def05b49d64"
      },
      "source": [
        "users = songs_df['user_id'].unique()\n",
        "user_id = users[20]\n",
        "pr.recommend(user_id)"
      ],
      "execution_count": null,
      "outputs": [
        {
          "output_type": "execute_result",
          "data": {
            "text/html": [
              "<div>\n",
              "<style scoped>\n",
              "    .dataframe tbody tr th:only-of-type {\n",
              "        vertical-align: middle;\n",
              "    }\n",
              "\n",
              "    .dataframe tbody tr th {\n",
              "        vertical-align: top;\n",
              "    }\n",
              "\n",
              "    .dataframe thead th {\n",
              "        text-align: right;\n",
              "    }\n",
              "</style>\n",
              "<table border=\"1\" class=\"dataframe\">\n",
              "  <thead>\n",
              "    <tr style=\"text-align: right;\">\n",
              "      <th></th>\n",
              "      <th>user_id</th>\n",
              "      <th>song_name</th>\n",
              "      <th>score</th>\n",
              "      <th>Rank</th>\n",
              "    </tr>\n",
              "  </thead>\n",
              "  <tbody>\n",
              "    <tr>\n",
              "      <th>98812</th>\n",
              "      <td>4b9b549e84fb29bfbcf7ab34f01c0bcd1bbf93a5</td>\n",
              "      <td>Sehr kosmisch</td>\n",
              "      <td>5043</td>\n",
              "      <td>1.0</td>\n",
              "    </tr>\n",
              "    <tr>\n",
              "      <th>125393</th>\n",
              "      <td>4b9b549e84fb29bfbcf7ab34f01c0bcd1bbf93a5</td>\n",
              "      <td>Undo</td>\n",
              "      <td>4483</td>\n",
              "      <td>2.0</td>\n",
              "    </tr>\n",
              "    <tr>\n",
              "      <th>136066</th>\n",
              "      <td>4b9b549e84fb29bfbcf7ab34f01c0bcd1bbf93a5</td>\n",
              "      <td>You're The One</td>\n",
              "      <td>4270</td>\n",
              "      <td>3.0</td>\n",
              "    </tr>\n",
              "    <tr>\n",
              "      <th>28716</th>\n",
              "      <td>4b9b549e84fb29bfbcf7ab34f01c0bcd1bbf93a5</td>\n",
              "      <td>Dog Days Are Over (Radio Edit)</td>\n",
              "      <td>3780</td>\n",
              "      <td>4.0</td>\n",
              "    </tr>\n",
              "    <tr>\n",
              "      <th>93984</th>\n",
              "      <td>4b9b549e84fb29bfbcf7ab34f01c0bcd1bbf93a5</td>\n",
              "      <td>Revelry</td>\n",
              "      <td>3672</td>\n",
              "      <td>5.0</td>\n",
              "    </tr>\n",
              "    <tr>\n",
              "      <th>98585</th>\n",
              "      <td>4b9b549e84fb29bfbcf7ab34f01c0bcd1bbf93a5</td>\n",
              "      <td>Secrets</td>\n",
              "      <td>3456</td>\n",
              "      <td>6.0</td>\n",
              "    </tr>\n",
              "    <tr>\n",
              "      <th>49061</th>\n",
              "      <td>4b9b549e84fb29bfbcf7ab34f01c0bcd1bbf93a5</td>\n",
              "      <td>Horn Concerto No. 4 in E flat K495: II. Romanc...</td>\n",
              "      <td>3272</td>\n",
              "      <td>7.0</td>\n",
              "    </tr>\n",
              "    <tr>\n",
              "      <th>47683</th>\n",
              "      <td>4b9b549e84fb29bfbcf7ab34f01c0bcd1bbf93a5</td>\n",
              "      <td>Hey_ Soul Sister</td>\n",
              "      <td>2791</td>\n",
              "      <td>8.0</td>\n",
              "    </tr>\n",
              "    <tr>\n",
              "      <th>37656</th>\n",
              "      <td>4b9b549e84fb29bfbcf7ab34f01c0bcd1bbf93a5</td>\n",
              "      <td>Fireflies</td>\n",
              "      <td>2745</td>\n",
              "      <td>9.0</td>\n",
              "    </tr>\n",
              "    <tr>\n",
              "      <th>121358</th>\n",
              "      <td>4b9b549e84fb29bfbcf7ab34f01c0bcd1bbf93a5</td>\n",
              "      <td>Tive Sim</td>\n",
              "      <td>2669</td>\n",
              "      <td>10.0</td>\n",
              "    </tr>\n",
              "  </tbody>\n",
              "</table>\n",
              "</div>"
            ],
            "text/plain": [
              "                                         user_id  ...  Rank\n",
              "98812   4b9b549e84fb29bfbcf7ab34f01c0bcd1bbf93a5  ...   1.0\n",
              "125393  4b9b549e84fb29bfbcf7ab34f01c0bcd1bbf93a5  ...   2.0\n",
              "136066  4b9b549e84fb29bfbcf7ab34f01c0bcd1bbf93a5  ...   3.0\n",
              "28716   4b9b549e84fb29bfbcf7ab34f01c0bcd1bbf93a5  ...   4.0\n",
              "93984   4b9b549e84fb29bfbcf7ab34f01c0bcd1bbf93a5  ...   5.0\n",
              "98585   4b9b549e84fb29bfbcf7ab34f01c0bcd1bbf93a5  ...   6.0\n",
              "49061   4b9b549e84fb29bfbcf7ab34f01c0bcd1bbf93a5  ...   7.0\n",
              "47683   4b9b549e84fb29bfbcf7ab34f01c0bcd1bbf93a5  ...   8.0\n",
              "37656   4b9b549e84fb29bfbcf7ab34f01c0bcd1bbf93a5  ...   9.0\n",
              "121358  4b9b549e84fb29bfbcf7ab34f01c0bcd1bbf93a5  ...  10.0\n",
              "\n",
              "[10 rows x 4 columns]"
            ]
          },
          "metadata": {
            "tags": []
          },
          "execution_count": 61
        }
      ]
    },
    {
      "cell_type": "code",
      "metadata": {
        "colab": {
          "base_uri": "https://localhost:8080/",
          "height": 363
        },
        "id": "qoLiOz24c4VL",
        "outputId": "1d3ea802-3fca-4b51-b996-f027c694a3cd"
      },
      "source": [
        "user_id = users[150]\n",
        "pr.recommend(user_id)"
      ],
      "execution_count": null,
      "outputs": [
        {
          "output_type": "execute_result",
          "data": {
            "text/html": [
              "<div>\n",
              "<style scoped>\n",
              "    .dataframe tbody tr th:only-of-type {\n",
              "        vertical-align: middle;\n",
              "    }\n",
              "\n",
              "    .dataframe tbody tr th {\n",
              "        vertical-align: top;\n",
              "    }\n",
              "\n",
              "    .dataframe thead th {\n",
              "        text-align: right;\n",
              "    }\n",
              "</style>\n",
              "<table border=\"1\" class=\"dataframe\">\n",
              "  <thead>\n",
              "    <tr style=\"text-align: right;\">\n",
              "      <th></th>\n",
              "      <th>user_id</th>\n",
              "      <th>song_name</th>\n",
              "      <th>score</th>\n",
              "      <th>Rank</th>\n",
              "    </tr>\n",
              "  </thead>\n",
              "  <tbody>\n",
              "    <tr>\n",
              "      <th>98812</th>\n",
              "      <td>0bc51331375641805f2a097471b604d175004aca</td>\n",
              "      <td>Sehr kosmisch</td>\n",
              "      <td>5043</td>\n",
              "      <td>1.0</td>\n",
              "    </tr>\n",
              "    <tr>\n",
              "      <th>125393</th>\n",
              "      <td>0bc51331375641805f2a097471b604d175004aca</td>\n",
              "      <td>Undo</td>\n",
              "      <td>4483</td>\n",
              "      <td>2.0</td>\n",
              "    </tr>\n",
              "    <tr>\n",
              "      <th>136066</th>\n",
              "      <td>0bc51331375641805f2a097471b604d175004aca</td>\n",
              "      <td>You're The One</td>\n",
              "      <td>4270</td>\n",
              "      <td>3.0</td>\n",
              "    </tr>\n",
              "    <tr>\n",
              "      <th>28716</th>\n",
              "      <td>0bc51331375641805f2a097471b604d175004aca</td>\n",
              "      <td>Dog Days Are Over (Radio Edit)</td>\n",
              "      <td>3780</td>\n",
              "      <td>4.0</td>\n",
              "    </tr>\n",
              "    <tr>\n",
              "      <th>93984</th>\n",
              "      <td>0bc51331375641805f2a097471b604d175004aca</td>\n",
              "      <td>Revelry</td>\n",
              "      <td>3672</td>\n",
              "      <td>5.0</td>\n",
              "    </tr>\n",
              "    <tr>\n",
              "      <th>98585</th>\n",
              "      <td>0bc51331375641805f2a097471b604d175004aca</td>\n",
              "      <td>Secrets</td>\n",
              "      <td>3456</td>\n",
              "      <td>6.0</td>\n",
              "    </tr>\n",
              "    <tr>\n",
              "      <th>49061</th>\n",
              "      <td>0bc51331375641805f2a097471b604d175004aca</td>\n",
              "      <td>Horn Concerto No. 4 in E flat K495: II. Romanc...</td>\n",
              "      <td>3272</td>\n",
              "      <td>7.0</td>\n",
              "    </tr>\n",
              "    <tr>\n",
              "      <th>47683</th>\n",
              "      <td>0bc51331375641805f2a097471b604d175004aca</td>\n",
              "      <td>Hey_ Soul Sister</td>\n",
              "      <td>2791</td>\n",
              "      <td>8.0</td>\n",
              "    </tr>\n",
              "    <tr>\n",
              "      <th>37656</th>\n",
              "      <td>0bc51331375641805f2a097471b604d175004aca</td>\n",
              "      <td>Fireflies</td>\n",
              "      <td>2745</td>\n",
              "      <td>9.0</td>\n",
              "    </tr>\n",
              "    <tr>\n",
              "      <th>121358</th>\n",
              "      <td>0bc51331375641805f2a097471b604d175004aca</td>\n",
              "      <td>Tive Sim</td>\n",
              "      <td>2669</td>\n",
              "      <td>10.0</td>\n",
              "    </tr>\n",
              "  </tbody>\n",
              "</table>\n",
              "</div>"
            ],
            "text/plain": [
              "                                         user_id  ...  Rank\n",
              "98812   0bc51331375641805f2a097471b604d175004aca  ...   1.0\n",
              "125393  0bc51331375641805f2a097471b604d175004aca  ...   2.0\n",
              "136066  0bc51331375641805f2a097471b604d175004aca  ...   3.0\n",
              "28716   0bc51331375641805f2a097471b604d175004aca  ...   4.0\n",
              "93984   0bc51331375641805f2a097471b604d175004aca  ...   5.0\n",
              "98585   0bc51331375641805f2a097471b604d175004aca  ...   6.0\n",
              "49061   0bc51331375641805f2a097471b604d175004aca  ...   7.0\n",
              "47683   0bc51331375641805f2a097471b604d175004aca  ...   8.0\n",
              "37656   0bc51331375641805f2a097471b604d175004aca  ...   9.0\n",
              "121358  0bc51331375641805f2a097471b604d175004aca  ...  10.0\n",
              "\n",
              "[10 rows x 4 columns]"
            ]
          },
          "metadata": {
            "tags": []
          },
          "execution_count": 62
        }
      ]
    },
    {
      "cell_type": "markdown",
      "metadata": {
        "id": "A2Nf9SlR0U-H"
      },
      "source": [
        "Recommendation System - Using Turicreate Library"
      ]
    },
    {
      "cell_type": "code",
      "metadata": {
        "id": "5CRAOqEAdBE_",
        "colab": {
          "base_uri": "https://localhost:8080/"
        },
        "outputId": "c777260a-840f-49dd-a6ae-33183779078f"
      },
      "source": [
        "!pip install turicreate"
      ],
      "execution_count": null,
      "outputs": [
        {
          "output_type": "stream",
          "text": [
            "Collecting turicreate\n",
            "\u001b[?25l  Downloading https://files.pythonhosted.org/packages/25/9f/a76acc465d873d217f05eac4846bd73d640b9db6d6f4a3c29ad92650fbbe/turicreate-6.4.1-cp37-cp37m-manylinux1_x86_64.whl (92.0MB)\n",
            "\u001b[K     |████████████████████████████████| 92.0MB 1.2MB/s \n",
            "\u001b[?25hCollecting tensorflow<2.1.0,>=2.0.0\n",
            "\u001b[?25l  Downloading https://files.pythonhosted.org/packages/3c/b3/3eeae9bc44039ceadceac0c7ba1cc8b1482b172810b3d7624a1cad251437/tensorflow-2.0.4-cp37-cp37m-manylinux2010_x86_64.whl (86.4MB)\n",
            "\u001b[K     |████████████████████████████████| 86.4MB 40kB/s \n",
            "\u001b[?25hCollecting resampy==0.2.1\n",
            "\u001b[?25l  Downloading https://files.pythonhosted.org/packages/14/b6/66a06d85474190b50aee1a6c09cdc95bb405ac47338b27e9b21409da1760/resampy-0.2.1.tar.gz (322kB)\n",
            "\u001b[K     |████████████████████████████████| 327kB 52.4MB/s \n",
            "\u001b[?25hRequirement already satisfied: decorator>=4.0.9 in /usr/local/lib/python3.7/dist-packages (from turicreate) (4.4.2)\n",
            "Requirement already satisfied: six>=1.10.0 in /usr/local/lib/python3.7/dist-packages (from turicreate) (1.15.0)\n",
            "Requirement already satisfied: scipy>=1.1.0 in /usr/local/lib/python3.7/dist-packages (from turicreate) (1.4.1)\n",
            "Requirement already satisfied: requests>=2.9.1 in /usr/local/lib/python3.7/dist-packages (from turicreate) (2.23.0)\n",
            "Collecting numba<0.51.0\n",
            "\u001b[?25l  Downloading https://files.pythonhosted.org/packages/04/be/8c88cee3366de2a3a23a9ff1a8be34e79ad1eb1ceb0d0e33aca83655ac3c/numba-0.50.1-cp37-cp37m-manylinux2014_x86_64.whl (3.6MB)\n",
            "\u001b[K     |████████████████████████████████| 3.6MB 46.5MB/s \n",
            "\u001b[?25hCollecting prettytable==0.7.2\n",
            "  Downloading https://files.pythonhosted.org/packages/ef/30/4b0746848746ed5941f052479e7c23d2b56d174b82f4fd34a25e389831f5/prettytable-0.7.2.tar.bz2\n",
            "Collecting coremltools==3.3\n",
            "\u001b[?25l  Downloading https://files.pythonhosted.org/packages/1b/1d/b1a99beca7355b6a026ae61fd8d3d36136e5b36f13e92ec5f81aceffc7f1/coremltools-3.3-cp37-none-manylinux1_x86_64.whl (3.5MB)\n",
            "\u001b[K     |████████████████████████████████| 3.5MB 42.5MB/s \n",
            "\u001b[?25hRequirement already satisfied: pillow>=5.2.0 in /usr/local/lib/python3.7/dist-packages (from turicreate) (7.1.2)\n",
            "Requirement already satisfied: numpy in /usr/local/lib/python3.7/dist-packages (from turicreate) (1.19.5)\n",
            "Requirement already satisfied: pandas>=0.23.2 in /usr/local/lib/python3.7/dist-packages (from turicreate) (1.1.5)\n",
            "Requirement already satisfied: protobuf>=3.6.1 in /usr/local/lib/python3.7/dist-packages (from tensorflow<2.1.0,>=2.0.0->turicreate) (3.12.4)\n",
            "Collecting keras-applications>=1.0.8\n",
            "\u001b[?25l  Downloading https://files.pythonhosted.org/packages/71/e3/19762fdfc62877ae9102edf6342d71b28fbfd9dea3d2f96a882ce099b03f/Keras_Applications-1.0.8-py3-none-any.whl (50kB)\n",
            "\u001b[K     |████████████████████████████████| 51kB 8.6MB/s \n",
            "\u001b[?25hCollecting gast==0.2.2\n",
            "  Downloading https://files.pythonhosted.org/packages/4e/35/11749bf99b2d4e3cceb4d55ca22590b0d7c2c62b9de38ac4a4a7f4687421/gast-0.2.2.tar.gz\n",
            "Requirement already satisfied: keras-preprocessing>=1.0.5 in /usr/local/lib/python3.7/dist-packages (from tensorflow<2.1.0,>=2.0.0->turicreate) (1.1.2)\n",
            "Collecting h5py<=2.10.0\n",
            "\u001b[?25l  Downloading https://files.pythonhosted.org/packages/3f/c0/abde58b837e066bca19a3f7332d9d0493521d7dd6b48248451a9e3fe2214/h5py-2.10.0-cp37-cp37m-manylinux1_x86_64.whl (2.9MB)\n",
            "\u001b[K     |████████████████████████████████| 2.9MB 43.0MB/s \n",
            "\u001b[?25hCollecting tensorflow-estimator<2.1.0,>=2.0.0\n",
            "\u001b[?25l  Downloading https://files.pythonhosted.org/packages/fc/08/8b927337b7019c374719145d1dceba21a8bb909b93b1ad6f8fb7d22c1ca1/tensorflow_estimator-2.0.1-py2.py3-none-any.whl (449kB)\n",
            "\u001b[K     |████████████████████████████████| 450kB 45.7MB/s \n",
            "\u001b[?25hRequirement already satisfied: opt-einsum>=2.3.2 in /usr/local/lib/python3.7/dist-packages (from tensorflow<2.1.0,>=2.0.0->turicreate) (3.3.0)\n",
            "Requirement already satisfied: google-pasta>=0.1.6 in /usr/local/lib/python3.7/dist-packages (from tensorflow<2.1.0,>=2.0.0->turicreate) (0.2.0)\n",
            "Requirement already satisfied: absl-py>=0.7.0 in /usr/local/lib/python3.7/dist-packages (from tensorflow<2.1.0,>=2.0.0->turicreate) (0.12.0)\n",
            "Collecting tensorboard<2.1.0,>=2.0.0\n",
            "\u001b[?25l  Downloading https://files.pythonhosted.org/packages/76/54/99b9d5d52d5cb732f099baaaf7740403e83fe6b0cedde940fabd2b13d75a/tensorboard-2.0.2-py3-none-any.whl (3.8MB)\n",
            "\u001b[K     |████████████████████████████████| 3.8MB 32.9MB/s \n",
            "\u001b[?25hRequirement already satisfied: grpcio>=1.8.6 in /usr/local/lib/python3.7/dist-packages (from tensorflow<2.1.0,>=2.0.0->turicreate) (1.34.1)\n",
            "Requirement already satisfied: wrapt>=1.11.1 in /usr/local/lib/python3.7/dist-packages (from tensorflow<2.1.0,>=2.0.0->turicreate) (1.12.1)\n",
            "Requirement already satisfied: termcolor>=1.1.0 in /usr/local/lib/python3.7/dist-packages (from tensorflow<2.1.0,>=2.0.0->turicreate) (1.1.0)\n",
            "Requirement already satisfied: wheel>=0.26; python_version >= \"3\" in /usr/local/lib/python3.7/dist-packages (from tensorflow<2.1.0,>=2.0.0->turicreate) (0.36.2)\n",
            "Requirement already satisfied: astor>=0.6.0 in /usr/local/lib/python3.7/dist-packages (from tensorflow<2.1.0,>=2.0.0->turicreate) (0.8.1)\n",
            "Requirement already satisfied: certifi>=2017.4.17 in /usr/local/lib/python3.7/dist-packages (from requests>=2.9.1->turicreate) (2021.5.30)\n",
            "Requirement already satisfied: chardet<4,>=3.0.2 in /usr/local/lib/python3.7/dist-packages (from requests>=2.9.1->turicreate) (3.0.4)\n",
            "Requirement already satisfied: idna<3,>=2.5 in /usr/local/lib/python3.7/dist-packages (from requests>=2.9.1->turicreate) (2.10)\n",
            "Requirement already satisfied: urllib3!=1.25.0,!=1.25.1,<1.26,>=1.21.1 in /usr/local/lib/python3.7/dist-packages (from requests>=2.9.1->turicreate) (1.24.3)\n",
            "Collecting llvmlite<0.34,>=0.33.0.dev0\n",
            "\u001b[?25l  Downloading https://files.pythonhosted.org/packages/0a/28/0a35b3c2685bf2ea327cef5577bdf91f387f0f4594417a2a05a1d42fb7c2/llvmlite-0.33.0-cp37-cp37m-manylinux1_x86_64.whl (18.3MB)\n",
            "\u001b[K     |████████████████████████████████| 18.3MB 203kB/s \n",
            "\u001b[?25hRequirement already satisfied: setuptools in /usr/local/lib/python3.7/dist-packages (from numba<0.51.0->turicreate) (57.0.0)\n",
            "Requirement already satisfied: pytz>=2017.2 in /usr/local/lib/python3.7/dist-packages (from pandas>=0.23.2->turicreate) (2018.9)\n",
            "Requirement already satisfied: python-dateutil>=2.7.3 in /usr/local/lib/python3.7/dist-packages (from pandas>=0.23.2->turicreate) (2.8.1)\n",
            "Requirement already satisfied: werkzeug>=0.11.15 in /usr/local/lib/python3.7/dist-packages (from tensorboard<2.1.0,>=2.0.0->tensorflow<2.1.0,>=2.0.0->turicreate) (1.0.1)\n",
            "Requirement already satisfied: google-auth<2,>=1.6.3 in /usr/local/lib/python3.7/dist-packages (from tensorboard<2.1.0,>=2.0.0->tensorflow<2.1.0,>=2.0.0->turicreate) (1.31.0)\n",
            "Requirement already satisfied: google-auth-oauthlib<0.5,>=0.4.1 in /usr/local/lib/python3.7/dist-packages (from tensorboard<2.1.0,>=2.0.0->tensorflow<2.1.0,>=2.0.0->turicreate) (0.4.4)\n",
            "Requirement already satisfied: markdown>=2.6.8 in /usr/local/lib/python3.7/dist-packages (from tensorboard<2.1.0,>=2.0.0->tensorflow<2.1.0,>=2.0.0->turicreate) (3.3.4)\n",
            "Requirement already satisfied: pyasn1-modules>=0.2.1 in /usr/local/lib/python3.7/dist-packages (from google-auth<2,>=1.6.3->tensorboard<2.1.0,>=2.0.0->tensorflow<2.1.0,>=2.0.0->turicreate) (0.2.8)\n",
            "Requirement already satisfied: rsa<5,>=3.1.4; python_version >= \"3.6\" in /usr/local/lib/python3.7/dist-packages (from google-auth<2,>=1.6.3->tensorboard<2.1.0,>=2.0.0->tensorflow<2.1.0,>=2.0.0->turicreate) (4.7.2)\n",
            "Requirement already satisfied: cachetools<5.0,>=2.0.0 in /usr/local/lib/python3.7/dist-packages (from google-auth<2,>=1.6.3->tensorboard<2.1.0,>=2.0.0->tensorflow<2.1.0,>=2.0.0->turicreate) (4.2.2)\n",
            "Requirement already satisfied: requests-oauthlib>=0.7.0 in /usr/local/lib/python3.7/dist-packages (from google-auth-oauthlib<0.5,>=0.4.1->tensorboard<2.1.0,>=2.0.0->tensorflow<2.1.0,>=2.0.0->turicreate) (1.3.0)\n",
            "Requirement already satisfied: importlib-metadata; python_version < \"3.8\" in /usr/local/lib/python3.7/dist-packages (from markdown>=2.6.8->tensorboard<2.1.0,>=2.0.0->tensorflow<2.1.0,>=2.0.0->turicreate) (4.5.0)\n",
            "Requirement already satisfied: pyasn1<0.5.0,>=0.4.6 in /usr/local/lib/python3.7/dist-packages (from pyasn1-modules>=0.2.1->google-auth<2,>=1.6.3->tensorboard<2.1.0,>=2.0.0->tensorflow<2.1.0,>=2.0.0->turicreate) (0.4.8)\n",
            "Requirement already satisfied: oauthlib>=3.0.0 in /usr/local/lib/python3.7/dist-packages (from requests-oauthlib>=0.7.0->google-auth-oauthlib<0.5,>=0.4.1->tensorboard<2.1.0,>=2.0.0->tensorflow<2.1.0,>=2.0.0->turicreate) (3.1.1)\n",
            "Requirement already satisfied: zipp>=0.5 in /usr/local/lib/python3.7/dist-packages (from importlib-metadata; python_version < \"3.8\"->markdown>=2.6.8->tensorboard<2.1.0,>=2.0.0->tensorflow<2.1.0,>=2.0.0->turicreate) (3.4.1)\n",
            "Requirement already satisfied: typing-extensions>=3.6.4; python_version < \"3.8\" in /usr/local/lib/python3.7/dist-packages (from importlib-metadata; python_version < \"3.8\"->markdown>=2.6.8->tensorboard<2.1.0,>=2.0.0->tensorflow<2.1.0,>=2.0.0->turicreate) (3.7.4.3)\n",
            "Building wheels for collected packages: resampy, prettytable, gast\n",
            "  Building wheel for resampy (setup.py) ... \u001b[?25l\u001b[?25hdone\n",
            "  Created wheel for resampy: filename=resampy-0.2.1-cp37-none-any.whl size=320858 sha256=f83579d274b89353b371870cb6915b0497821149eac4e481f95f08d3f51b4fa1\n",
            "  Stored in directory: /root/.cache/pip/wheels/ff/4f/ed/2e6c676c23efe5394bb40ade50662e90eb46e29b48324c5f9b\n",
            "  Building wheel for prettytable (setup.py) ... \u001b[?25l\u001b[?25hdone\n",
            "  Created wheel for prettytable: filename=prettytable-0.7.2-cp37-none-any.whl size=13716 sha256=4758dd04b188fb7e411f77b0b86cd96e8538d652e05158ba1b3e06cc2dd6ceff\n",
            "  Stored in directory: /root/.cache/pip/wheels/80/34/1c/3967380d9676d162cb59513bd9dc862d0584e045a162095606\n",
            "  Building wheel for gast (setup.py) ... \u001b[?25l\u001b[?25hdone\n",
            "  Created wheel for gast: filename=gast-0.2.2-cp37-none-any.whl size=7557 sha256=9d5d407cf9121764d9e6bef0af8e3d0c4a07458a25c9e726975574707c4fc983\n",
            "  Stored in directory: /root/.cache/pip/wheels/5c/2e/7e/a1d4d4fcebe6c381f378ce7743a3ced3699feb89bcfbdadadd\n",
            "Successfully built resampy prettytable gast\n",
            "\u001b[31mERROR: tensorflow 2.0.4 has requirement numpy<1.19.0,>=1.16.0, but you'll have numpy 1.19.5 which is incompatible.\u001b[0m\n",
            "\u001b[31mERROR: tensorflow-probability 0.12.1 has requirement gast>=0.3.2, but you'll have gast 0.2.2 which is incompatible.\u001b[0m\n",
            "\u001b[31mERROR: librosa 0.8.1 has requirement resampy>=0.2.2, but you'll have resampy 0.2.1 which is incompatible.\u001b[0m\n",
            "Installing collected packages: h5py, keras-applications, gast, tensorflow-estimator, tensorboard, tensorflow, llvmlite, numba, resampy, prettytable, coremltools, turicreate\n",
            "  Found existing installation: h5py 3.1.0\n",
            "    Uninstalling h5py-3.1.0:\n",
            "      Successfully uninstalled h5py-3.1.0\n",
            "  Found existing installation: gast 0.4.0\n",
            "    Uninstalling gast-0.4.0:\n",
            "      Successfully uninstalled gast-0.4.0\n",
            "  Found existing installation: tensorflow-estimator 2.5.0\n",
            "    Uninstalling tensorflow-estimator-2.5.0:\n",
            "      Successfully uninstalled tensorflow-estimator-2.5.0\n",
            "  Found existing installation: tensorboard 2.5.0\n",
            "    Uninstalling tensorboard-2.5.0:\n",
            "      Successfully uninstalled tensorboard-2.5.0\n",
            "  Found existing installation: tensorflow 2.5.0\n",
            "    Uninstalling tensorflow-2.5.0:\n",
            "      Successfully uninstalled tensorflow-2.5.0\n",
            "  Found existing installation: llvmlite 0.34.0\n",
            "    Uninstalling llvmlite-0.34.0:\n",
            "      Successfully uninstalled llvmlite-0.34.0\n",
            "  Found existing installation: numba 0.51.2\n",
            "    Uninstalling numba-0.51.2:\n",
            "      Successfully uninstalled numba-0.51.2\n",
            "  Found existing installation: resampy 0.2.2\n",
            "    Uninstalling resampy-0.2.2:\n",
            "      Successfully uninstalled resampy-0.2.2\n",
            "  Found existing installation: prettytable 2.1.0\n",
            "    Uninstalling prettytable-2.1.0:\n",
            "      Successfully uninstalled prettytable-2.1.0\n",
            "Successfully installed coremltools-3.3 gast-0.2.2 h5py-2.10.0 keras-applications-1.0.8 llvmlite-0.33.0 numba-0.50.1 prettytable-0.7.2 resampy-0.2.1 tensorboard-2.0.2 tensorflow-2.0.4 tensorflow-estimator-2.0.1 turicreate-6.4.1\n"
          ],
          "name": "stdout"
        }
      ]
    },
    {
      "cell_type": "code",
      "metadata": {
        "id": "ePS_v0R75SGE"
      },
      "source": [
        "import turicreate as tc"
      ],
      "execution_count": null,
      "outputs": []
    },
    {
      "cell_type": "code",
      "metadata": {
        "colab": {
          "base_uri": "https://localhost:8080/",
          "height": 476
        },
        "id": "h-9hIlko80Hk",
        "outputId": "bdb5437d-09e9-4589-9e2a-fdd4900ce8f0"
      },
      "source": [
        "songs_df"
      ],
      "execution_count": null,
      "outputs": [
        {
          "output_type": "execute_result",
          "data": {
            "text/html": [
              "<div>\n",
              "<style scoped>\n",
              "    .dataframe tbody tr th:only-of-type {\n",
              "        vertical-align: middle;\n",
              "    }\n",
              "\n",
              "    .dataframe tbody tr th {\n",
              "        vertical-align: top;\n",
              "    }\n",
              "\n",
              "    .dataframe thead th {\n",
              "        text-align: right;\n",
              "    }\n",
              "</style>\n",
              "<table border=\"1\" class=\"dataframe\">\n",
              "  <thead>\n",
              "    <tr style=\"text-align: right;\">\n",
              "      <th></th>\n",
              "      <th>user_id</th>\n",
              "      <th>song_id</th>\n",
              "      <th>song_count</th>\n",
              "      <th>track_id</th>\n",
              "      <th>singer</th>\n",
              "      <th>song_name</th>\n",
              "    </tr>\n",
              "  </thead>\n",
              "  <tbody>\n",
              "    <tr>\n",
              "      <th>0</th>\n",
              "      <td>fd50c4007b68a3737fe052d5a4f78ce8aa117f3d</td>\n",
              "      <td>SOBONKR12A58A7A7E0</td>\n",
              "      <td>1</td>\n",
              "      <td>TRAEHHJ12903CF492F</td>\n",
              "      <td>Dwight Yoakam</td>\n",
              "      <td>You're The One</td>\n",
              "    </tr>\n",
              "    <tr>\n",
              "      <th>1</th>\n",
              "      <td>fd50c4007b68a3737fe052d5a4f78ce8aa117f3d</td>\n",
              "      <td>SOEGIYH12A6D4FC0E3</td>\n",
              "      <td>1</td>\n",
              "      <td>TRLGMFJ128F4217DBE</td>\n",
              "      <td>Barry Tuckwell/Academy of St Martin-in-the-Fie...</td>\n",
              "      <td>Horn Concerto No. 4 in E flat K495: II. Romanc...</td>\n",
              "    </tr>\n",
              "    <tr>\n",
              "      <th>2</th>\n",
              "      <td>fd50c4007b68a3737fe052d5a4f78ce8aa117f3d</td>\n",
              "      <td>SOFLJQZ12A6D4FADA6</td>\n",
              "      <td>1</td>\n",
              "      <td>TRTNDNE128F1486812</td>\n",
              "      <td>Cartola</td>\n",
              "      <td>Tive Sim</td>\n",
              "    </tr>\n",
              "    <tr>\n",
              "      <th>3</th>\n",
              "      <td>fd50c4007b68a3737fe052d5a4f78ce8aa117f3d</td>\n",
              "      <td>SOHTKMO12AB01843B0</td>\n",
              "      <td>1</td>\n",
              "      <td>TRASTUE128F930D488</td>\n",
              "      <td>Lonnie Gordon</td>\n",
              "      <td>Catch You Baby (Steve Pitron &amp; Max Sanna Radio...</td>\n",
              "    </tr>\n",
              "    <tr>\n",
              "      <th>4</th>\n",
              "      <td>fd50c4007b68a3737fe052d5a4f78ce8aa117f3d</td>\n",
              "      <td>SODQZCY12A6D4F9D11</td>\n",
              "      <td>1</td>\n",
              "      <td>TRFPLWO128F1486B9E</td>\n",
              "      <td>Miguel Calo</td>\n",
              "      <td>El Cuatrero</td>\n",
              "    </tr>\n",
              "    <tr>\n",
              "      <th>...</th>\n",
              "      <td>...</td>\n",
              "      <td>...</td>\n",
              "      <td>...</td>\n",
              "      <td>...</td>\n",
              "      <td>...</td>\n",
              "      <td>...</td>\n",
              "    </tr>\n",
              "    <tr>\n",
              "      <th>1450928</th>\n",
              "      <td>5e650759ebf89012044c6d52121eeada8b0ec814</td>\n",
              "      <td>SOVLNXV12A6D4F706E</td>\n",
              "      <td>1</td>\n",
              "      <td>TRPLXFD128F1454961</td>\n",
              "      <td>Mos Def</td>\n",
              "      <td>Ms. Fat Booty</td>\n",
              "    </tr>\n",
              "    <tr>\n",
              "      <th>1450929</th>\n",
              "      <td>5e650759ebf89012044c6d52121eeada8b0ec814</td>\n",
              "      <td>SOVDSJC12A58A7A271</td>\n",
              "      <td>2</td>\n",
              "      <td>TRRBUQL12903CCE501</td>\n",
              "      <td>Sam Cooke</td>\n",
              "      <td>Ain't Misbehavin</td>\n",
              "    </tr>\n",
              "    <tr>\n",
              "      <th>1450930</th>\n",
              "      <td>5e650759ebf89012044c6d52121eeada8b0ec814</td>\n",
              "      <td>SOBRHVR12A8C133F35</td>\n",
              "      <td>2</td>\n",
              "      <td>TRHNKAU128F9300856</td>\n",
              "      <td>Southside Spinners</td>\n",
              "      <td>Luvstruck</td>\n",
              "    </tr>\n",
              "    <tr>\n",
              "      <th>1450931</th>\n",
              "      <td>5e650759ebf89012044c6d52121eeada8b0ec814</td>\n",
              "      <td>SOMGVYU12A8C1314FF</td>\n",
              "      <td>2</td>\n",
              "      <td>TRDULYN128F4248762</td>\n",
              "      <td>J. Karjalainen &amp; Mustat Lasit</td>\n",
              "      <td>Sinisten tähtien alla</td>\n",
              "    </tr>\n",
              "    <tr>\n",
              "      <th>1450932</th>\n",
              "      <td>5e650759ebf89012044c6d52121eeada8b0ec814</td>\n",
              "      <td>SOTCMDJ12A6D4F8528</td>\n",
              "      <td>3</td>\n",
              "      <td>TRZJNDO128EF343498</td>\n",
              "      <td>Angels and Airwaves</td>\n",
              "      <td>The Gift</td>\n",
              "    </tr>\n",
              "  </tbody>\n",
              "</table>\n",
              "<p>1450932 rows × 6 columns</p>\n",
              "</div>"
            ],
            "text/plain": [
              "                                          user_id  ...                                          song_name\n",
              "0        fd50c4007b68a3737fe052d5a4f78ce8aa117f3d  ...                                     You're The One\n",
              "1        fd50c4007b68a3737fe052d5a4f78ce8aa117f3d  ...  Horn Concerto No. 4 in E flat K495: II. Romanc...\n",
              "2        fd50c4007b68a3737fe052d5a4f78ce8aa117f3d  ...                                           Tive Sim\n",
              "3        fd50c4007b68a3737fe052d5a4f78ce8aa117f3d  ...  Catch You Baby (Steve Pitron & Max Sanna Radio...\n",
              "4        fd50c4007b68a3737fe052d5a4f78ce8aa117f3d  ...                                        El Cuatrero\n",
              "...                                           ...  ...                                                ...\n",
              "1450928  5e650759ebf89012044c6d52121eeada8b0ec814  ...                                      Ms. Fat Booty\n",
              "1450929  5e650759ebf89012044c6d52121eeada8b0ec814  ...                                   Ain't Misbehavin\n",
              "1450930  5e650759ebf89012044c6d52121eeada8b0ec814  ...                                          Luvstruck\n",
              "1450931  5e650759ebf89012044c6d52121eeada8b0ec814  ...                              Sinisten tähtien alla\n",
              "1450932  5e650759ebf89012044c6d52121eeada8b0ec814  ...                                           The Gift\n",
              "\n",
              "[1450932 rows x 6 columns]"
            ]
          },
          "metadata": {
            "tags": []
          },
          "execution_count": 65
        }
      ]
    },
    {
      "cell_type": "code",
      "metadata": {
        "colab": {
          "base_uri": "https://localhost:8080/"
        },
        "id": "sYPKPJlM9GLJ",
        "outputId": "f18fb4a9-fa0f-451c-bb86-ca08e976ba15"
      },
      "source": [
        "songs_df.columns"
      ],
      "execution_count": null,
      "outputs": [
        {
          "output_type": "execute_result",
          "data": {
            "text/plain": [
              "Index(['user_id', 'song_id', 'song_count', 'track_id', 'singer', 'song_name'], dtype='object')"
            ]
          },
          "metadata": {
            "tags": []
          },
          "execution_count": 66
        }
      ]
    },
    {
      "cell_type": "code",
      "metadata": {
        "id": "RK7URG_28bnp"
      },
      "source": [
        "songs_sf = tc.SFrame(songs_df[['song_id','singer','user_id','song_count','song_name']])"
      ],
      "execution_count": null,
      "outputs": []
    },
    {
      "cell_type": "code",
      "metadata": {
        "colab": {
          "base_uri": "https://localhost:8080/",
          "height": 458
        },
        "id": "dweEshpz8jhW",
        "outputId": "ebb35673-436d-41c8-b995-099bfaa658b8"
      },
      "source": [
        "songs_sf"
      ],
      "execution_count": null,
      "outputs": [
        {
          "output_type": "execute_result",
          "data": {
            "text/html": [
              "<div style=\"max-height:1000px;max-width:1500px;overflow:auto;\"><table frame=\"box\" rules=\"cols\">\n",
              "    <tr>\n",
              "        <th style=\"padding-left: 1em; padding-right: 1em; text-align: center\">song_id</th>\n",
              "        <th style=\"padding-left: 1em; padding-right: 1em; text-align: center\">singer</th>\n",
              "        <th style=\"padding-left: 1em; padding-right: 1em; text-align: center\">user_id</th>\n",
              "        <th style=\"padding-left: 1em; padding-right: 1em; text-align: center\">song_count</th>\n",
              "        <th style=\"padding-left: 1em; padding-right: 1em; text-align: center\">song_name</th>\n",
              "    </tr>\n",
              "    <tr>\n",
              "        <td style=\"padding-left: 1em; padding-right: 1em; text-align: center; vertical-align: top\">SOBONKR12A58A7A7E0</td>\n",
              "        <td style=\"padding-left: 1em; padding-right: 1em; text-align: center; vertical-align: top\">Dwight Yoakam</td>\n",
              "        <td style=\"padding-left: 1em; padding-right: 1em; text-align: center; vertical-align: top\">fd50c4007b68a3737fe052d5a<br>4f78ce8aa117f3d ...</td>\n",
              "        <td style=\"padding-left: 1em; padding-right: 1em; text-align: center; vertical-align: top\">1</td>\n",
              "        <td style=\"padding-left: 1em; padding-right: 1em; text-align: center; vertical-align: top\">You&#x27;re The One</td>\n",
              "    </tr>\n",
              "    <tr>\n",
              "        <td style=\"padding-left: 1em; padding-right: 1em; text-align: center; vertical-align: top\">SOEGIYH12A6D4FC0E3</td>\n",
              "        <td style=\"padding-left: 1em; padding-right: 1em; text-align: center; vertical-align: top\">Barry Tuckwell/Academy of<br>St Martin-in-the- ...</td>\n",
              "        <td style=\"padding-left: 1em; padding-right: 1em; text-align: center; vertical-align: top\">fd50c4007b68a3737fe052d5a<br>4f78ce8aa117f3d ...</td>\n",
              "        <td style=\"padding-left: 1em; padding-right: 1em; text-align: center; vertical-align: top\">1</td>\n",
              "        <td style=\"padding-left: 1em; padding-right: 1em; text-align: center; vertical-align: top\">Horn Concerto No. 4 in E<br>flat K495: II. Romance ...</td>\n",
              "    </tr>\n",
              "    <tr>\n",
              "        <td style=\"padding-left: 1em; padding-right: 1em; text-align: center; vertical-align: top\">SOFLJQZ12A6D4FADA6</td>\n",
              "        <td style=\"padding-left: 1em; padding-right: 1em; text-align: center; vertical-align: top\">Cartola</td>\n",
              "        <td style=\"padding-left: 1em; padding-right: 1em; text-align: center; vertical-align: top\">fd50c4007b68a3737fe052d5a<br>4f78ce8aa117f3d ...</td>\n",
              "        <td style=\"padding-left: 1em; padding-right: 1em; text-align: center; vertical-align: top\">1</td>\n",
              "        <td style=\"padding-left: 1em; padding-right: 1em; text-align: center; vertical-align: top\">Tive Sim</td>\n",
              "    </tr>\n",
              "    <tr>\n",
              "        <td style=\"padding-left: 1em; padding-right: 1em; text-align: center; vertical-align: top\">SOHTKMO12AB01843B0</td>\n",
              "        <td style=\"padding-left: 1em; padding-right: 1em; text-align: center; vertical-align: top\">Lonnie Gordon</td>\n",
              "        <td style=\"padding-left: 1em; padding-right: 1em; text-align: center; vertical-align: top\">fd50c4007b68a3737fe052d5a<br>4f78ce8aa117f3d ...</td>\n",
              "        <td style=\"padding-left: 1em; padding-right: 1em; text-align: center; vertical-align: top\">1</td>\n",
              "        <td style=\"padding-left: 1em; padding-right: 1em; text-align: center; vertical-align: top\">Catch You Baby (Steve<br>Pitron &amp; Max Sanna Radio ...</td>\n",
              "    </tr>\n",
              "    <tr>\n",
              "        <td style=\"padding-left: 1em; padding-right: 1em; text-align: center; vertical-align: top\">SODQZCY12A6D4F9D11</td>\n",
              "        <td style=\"padding-left: 1em; padding-right: 1em; text-align: center; vertical-align: top\">Miguel Calo</td>\n",
              "        <td style=\"padding-left: 1em; padding-right: 1em; text-align: center; vertical-align: top\">fd50c4007b68a3737fe052d5a<br>4f78ce8aa117f3d ...</td>\n",
              "        <td style=\"padding-left: 1em; padding-right: 1em; text-align: center; vertical-align: top\">1</td>\n",
              "        <td style=\"padding-left: 1em; padding-right: 1em; text-align: center; vertical-align: top\">El Cuatrero</td>\n",
              "    </tr>\n",
              "    <tr>\n",
              "        <td style=\"padding-left: 1em; padding-right: 1em; text-align: center; vertical-align: top\">SOXLOQG12AF72A2D55</td>\n",
              "        <td style=\"padding-left: 1em; padding-right: 1em; text-align: center; vertical-align: top\">Beastie Boys</td>\n",
              "        <td style=\"padding-left: 1em; padding-right: 1em; text-align: center; vertical-align: top\">fd50c4007b68a3737fe052d5a<br>4f78ce8aa117f3d ...</td>\n",
              "        <td style=\"padding-left: 1em; padding-right: 1em; text-align: center; vertical-align: top\">1</td>\n",
              "        <td style=\"padding-left: 1em; padding-right: 1em; text-align: center; vertical-align: top\">Unite (2009 Digital<br>Remaster) ...</td>\n",
              "    </tr>\n",
              "    <tr>\n",
              "        <td style=\"padding-left: 1em; padding-right: 1em; text-align: center; vertical-align: top\">SOUVUHC12A67020E3B</td>\n",
              "        <td style=\"padding-left: 1em; padding-right: 1em; text-align: center; vertical-align: top\">Moby</td>\n",
              "        <td style=\"padding-left: 1em; padding-right: 1em; text-align: center; vertical-align: top\">d7083f5e1d50c264277d62434<br>0edaaf3dc16095b ...</td>\n",
              "        <td style=\"padding-left: 1em; padding-right: 1em; text-align: center; vertical-align: top\">1</td>\n",
              "        <td style=\"padding-left: 1em; padding-right: 1em; text-align: center; vertical-align: top\">Lift Me Up</td>\n",
              "    </tr>\n",
              "    <tr>\n",
              "        <td style=\"padding-left: 1em; padding-right: 1em; text-align: center; vertical-align: top\">SOUQERE12A58A75633</td>\n",
              "        <td style=\"padding-left: 1em; padding-right: 1em; text-align: center; vertical-align: top\">Guano Apes</td>\n",
              "        <td style=\"padding-left: 1em; padding-right: 1em; text-align: center; vertical-align: top\">d7083f5e1d50c264277d62434<br>0edaaf3dc16095b ...</td>\n",
              "        <td style=\"padding-left: 1em; padding-right: 1em; text-align: center; vertical-align: top\">1</td>\n",
              "        <td style=\"padding-left: 1em; padding-right: 1em; text-align: center; vertical-align: top\">Living In A Lie</td>\n",
              "    </tr>\n",
              "    <tr>\n",
              "        <td style=\"padding-left: 1em; padding-right: 1em; text-align: center; vertical-align: top\">SOIPJAX12A8C141A2D</td>\n",
              "        <td style=\"padding-left: 1em; padding-right: 1em; text-align: center; vertical-align: top\">Guano Apes</td>\n",
              "        <td style=\"padding-left: 1em; padding-right: 1em; text-align: center; vertical-align: top\">d7083f5e1d50c264277d62434<br>0edaaf3dc16095b ...</td>\n",
              "        <td style=\"padding-left: 1em; padding-right: 1em; text-align: center; vertical-align: top\">1</td>\n",
              "        <td style=\"padding-left: 1em; padding-right: 1em; text-align: center; vertical-align: top\">Open Your Eyes</td>\n",
              "    </tr>\n",
              "    <tr>\n",
              "        <td style=\"padding-left: 1em; padding-right: 1em; text-align: center; vertical-align: top\">SOEFCDJ12AB0185FA0</td>\n",
              "        <td style=\"padding-left: 1em; padding-right: 1em; text-align: center; vertical-align: top\">UDG</td>\n",
              "        <td style=\"padding-left: 1em; padding-right: 1em; text-align: center; vertical-align: top\">d7083f5e1d50c264277d62434<br>0edaaf3dc16095b ...</td>\n",
              "        <td style=\"padding-left: 1em; padding-right: 1em; text-align: center; vertical-align: top\">2</td>\n",
              "        <td style=\"padding-left: 1em; padding-right: 1em; text-align: center; vertical-align: top\">Kurtizana</td>\n",
              "    </tr>\n",
              "</table>\n",
              "[1450932 rows x 5 columns]<br/>Note: Only the head of the SFrame is printed.<br/>You can use print_rows(num_rows=m, num_columns=n) to print more rows and columns.\n",
              "</div>"
            ],
            "text/plain": [
              "Columns:\n",
              "\tsong_id\tstr\n",
              "\tsinger\tstr\n",
              "\tuser_id\tstr\n",
              "\tsong_count\tint\n",
              "\tsong_name\tstr\n",
              "\n",
              "Rows: 1450932\n",
              "\n",
              "Data:\n",
              "+--------------------+-------------------------------+\n",
              "|      song_id       |             singer            |\n",
              "+--------------------+-------------------------------+\n",
              "| SOBONKR12A58A7A7E0 |         Dwight Yoakam         |\n",
              "| SOEGIYH12A6D4FC0E3 | Barry Tuckwell/Academy of ... |\n",
              "| SOFLJQZ12A6D4FADA6 |            Cartola            |\n",
              "| SOHTKMO12AB01843B0 |         Lonnie Gordon         |\n",
              "| SODQZCY12A6D4F9D11 |          Miguel Calo          |\n",
              "| SOXLOQG12AF72A2D55 |          Beastie Boys         |\n",
              "| SOUVUHC12A67020E3B |              Moby             |\n",
              "| SOUQERE12A58A75633 |           Guano Apes          |\n",
              "| SOIPJAX12A8C141A2D |           Guano Apes          |\n",
              "| SOEFCDJ12AB0185FA0 |              UDG              |\n",
              "+--------------------+-------------------------------+\n",
              "+-------------------------------+------------+-------------------------------+\n",
              "|            user_id            | song_count |           song_name           |\n",
              "+-------------------------------+------------+-------------------------------+\n",
              "| fd50c4007b68a3737fe052d5a4... |     1      |         You're The One        |\n",
              "| fd50c4007b68a3737fe052d5a4... |     1      | Horn Concerto No. 4 in E f... |\n",
              "| fd50c4007b68a3737fe052d5a4... |     1      |            Tive Sim           |\n",
              "| fd50c4007b68a3737fe052d5a4... |     1      | Catch You Baby (Steve Pitr... |\n",
              "| fd50c4007b68a3737fe052d5a4... |     1      |          El Cuatrero          |\n",
              "| fd50c4007b68a3737fe052d5a4... |     1      | Unite (2009 Digital Remaster) |\n",
              "| d7083f5e1d50c264277d624340... |     1      |           Lift Me Up          |\n",
              "| d7083f5e1d50c264277d624340... |     1      |        Living In A Lie        |\n",
              "| d7083f5e1d50c264277d624340... |     1      |         Open Your Eyes        |\n",
              "| d7083f5e1d50c264277d624340... |     2      |           Kurtizana           |\n",
              "+-------------------------------+------------+-------------------------------+\n",
              "[1450932 rows x 5 columns]\n",
              "Note: Only the head of the SFrame is printed.\n",
              "You can use print_rows(num_rows=m, num_columns=n) to print more rows and columns."
            ]
          },
          "metadata": {
            "tags": []
          },
          "execution_count": 68
        }
      ]
    },
    {
      "cell_type": "code",
      "metadata": {
        "colab": {
          "base_uri": "https://localhost:8080/"
        },
        "id": "L1j-V6Xm88OK",
        "outputId": "cf02248f-5fd9-4f18-a5f7-1cb9977db745"
      },
      "source": [
        "users = songs_sf['user_id'].unique()\n",
        "len(users)"
      ],
      "execution_count": null,
      "outputs": [
        {
          "output_type": "execute_result",
          "data": {
            "text/plain": [
              "110000"
            ]
          },
          "metadata": {
            "tags": []
          },
          "execution_count": 69
        }
      ]
    },
    {
      "cell_type": "code",
      "metadata": {
        "colab": {
          "base_uri": "https://localhost:8080/"
        },
        "id": "O0nLxLAoGlEQ",
        "outputId": "3ff7aeac-df95-4b64-975f-1e96d1ba0a08"
      },
      "source": [
        "len(songs_sf['user_id'])"
      ],
      "execution_count": null,
      "outputs": [
        {
          "output_type": "execute_result",
          "data": {
            "text/plain": [
              "1450932"
            ]
          },
          "metadata": {
            "tags": []
          },
          "execution_count": 70
        }
      ]
    },
    {
      "cell_type": "markdown",
      "metadata": {
        "id": "XLfMIaxsTwz3"
      },
      "source": [
        "## Popularity Based Recommender System:"
      ]
    },
    {
      "cell_type": "code",
      "metadata": {
        "id": "-xyny3nQIKch"
      },
      "source": [
        "train_data,test_data = songs_sf.random_split(.8,seed=0)"
      ],
      "execution_count": null,
      "outputs": []
    },
    {
      "cell_type": "code",
      "metadata": {
        "colab": {
          "base_uri": "https://localhost:8080/",
          "height": 139
        },
        "id": "cesFei5DIVXm",
        "outputId": "150db9d4-0d96-46ae-b2f9-317dbd1ba267"
      },
      "source": [
        "popularity_model = tc.popularity_recommender.create(train_data,\n",
        "                                                           user_id = 'user_id',\n",
        "                                                           item_id = 'song_name')"
      ],
      "execution_count": null,
      "outputs": [
        {
          "output_type": "display_data",
          "data": {
            "text/html": [
              "<pre>Warning: Ignoring columns song_id, singer, song_count;</pre>"
            ],
            "text/plain": [
              "Warning: Ignoring columns song_id, singer, song_count;"
            ]
          },
          "metadata": {
            "tags": []
          }
        },
        {
          "output_type": "display_data",
          "data": {
            "text/html": [
              "<pre> To use one of these as a rating column, specify the column name to be used as target</pre>"
            ],
            "text/plain": [
              " To use one of these as a rating column, specify the column name to be used as target"
            ]
          },
          "metadata": {
            "tags": []
          }
        },
        {
          "output_type": "display_data",
          "data": {
            "text/html": [
              "<pre>    and use a method that allows the use of a target.</pre>"
            ],
            "text/plain": [
              "    and use a method that allows the use of a target."
            ]
          },
          "metadata": {
            "tags": []
          }
        },
        {
          "output_type": "display_data",
          "data": {
            "text/html": [
              "<pre>Preparing data set.</pre>"
            ],
            "text/plain": [
              "Preparing data set."
            ]
          },
          "metadata": {
            "tags": []
          }
        },
        {
          "output_type": "display_data",
          "data": {
            "text/html": [
              "<pre>    Data has 1160637 observations with 109993 users and 126345 items.</pre>"
            ],
            "text/plain": [
              "    Data has 1160637 observations with 109993 users and 126345 items."
            ]
          },
          "metadata": {
            "tags": []
          }
        },
        {
          "output_type": "display_data",
          "data": {
            "text/html": [
              "<pre>    Data prepared in: 1.29215s</pre>"
            ],
            "text/plain": [
              "    Data prepared in: 1.29215s"
            ]
          },
          "metadata": {
            "tags": []
          }
        },
        {
          "output_type": "display_data",
          "data": {
            "text/html": [
              "<pre>1160637 observations to process; with 126345 unique items.</pre>"
            ],
            "text/plain": [
              "1160637 observations to process; with 126345 unique items."
            ]
          },
          "metadata": {
            "tags": []
          }
        }
      ]
    },
    {
      "cell_type": "code",
      "metadata": {
        "colab": {
          "base_uri": "https://localhost:8080/",
          "height": 423
        },
        "id": "PBdXTz1YOAWP",
        "outputId": "525e4c1b-f3e2-4278-94f6-78c699824c53"
      },
      "source": [
        "popularity_model.recommend(users=[users[0]])"
      ],
      "execution_count": null,
      "outputs": [
        {
          "output_type": "execute_result",
          "data": {
            "text/html": [
              "<div style=\"max-height:1000px;max-width:1500px;overflow:auto;\"><table frame=\"box\" rules=\"cols\">\n",
              "    <tr>\n",
              "        <th style=\"padding-left: 1em; padding-right: 1em; text-align: center\">user_id</th>\n",
              "        <th style=\"padding-left: 1em; padding-right: 1em; text-align: center\">song_name</th>\n",
              "        <th style=\"padding-left: 1em; padding-right: 1em; text-align: center\">score</th>\n",
              "        <th style=\"padding-left: 1em; padding-right: 1em; text-align: center\">rank</th>\n",
              "    </tr>\n",
              "    <tr>\n",
              "        <td style=\"padding-left: 1em; padding-right: 1em; text-align: center; vertical-align: top\">f39aebba18b8aa460a13df661<br>82505f18c90749f ...</td>\n",
              "        <td style=\"padding-left: 1em; padding-right: 1em; text-align: center; vertical-align: top\">Sehr kosmisch</td>\n",
              "        <td style=\"padding-left: 1em; padding-right: 1em; text-align: center; vertical-align: top\">4065.0</td>\n",
              "        <td style=\"padding-left: 1em; padding-right: 1em; text-align: center; vertical-align: top\">1</td>\n",
              "    </tr>\n",
              "    <tr>\n",
              "        <td style=\"padding-left: 1em; padding-right: 1em; text-align: center; vertical-align: top\">f39aebba18b8aa460a13df661<br>82505f18c90749f ...</td>\n",
              "        <td style=\"padding-left: 1em; padding-right: 1em; text-align: center; vertical-align: top\">Undo</td>\n",
              "        <td style=\"padding-left: 1em; padding-right: 1em; text-align: center; vertical-align: top\">3590.0</td>\n",
              "        <td style=\"padding-left: 1em; padding-right: 1em; text-align: center; vertical-align: top\">2</td>\n",
              "    </tr>\n",
              "    <tr>\n",
              "        <td style=\"padding-left: 1em; padding-right: 1em; text-align: center; vertical-align: top\">f39aebba18b8aa460a13df661<br>82505f18c90749f ...</td>\n",
              "        <td style=\"padding-left: 1em; padding-right: 1em; text-align: center; vertical-align: top\">You&#x27;re The One</td>\n",
              "        <td style=\"padding-left: 1em; padding-right: 1em; text-align: center; vertical-align: top\">3402.0</td>\n",
              "        <td style=\"padding-left: 1em; padding-right: 1em; text-align: center; vertical-align: top\">3</td>\n",
              "    </tr>\n",
              "    <tr>\n",
              "        <td style=\"padding-left: 1em; padding-right: 1em; text-align: center; vertical-align: top\">f39aebba18b8aa460a13df661<br>82505f18c90749f ...</td>\n",
              "        <td style=\"padding-left: 1em; padding-right: 1em; text-align: center; vertical-align: top\">Dog Days Are Over (Radio<br>Edit) ...</td>\n",
              "        <td style=\"padding-left: 1em; padding-right: 1em; text-align: center; vertical-align: top\">3067.0</td>\n",
              "        <td style=\"padding-left: 1em; padding-right: 1em; text-align: center; vertical-align: top\">4</td>\n",
              "    </tr>\n",
              "    <tr>\n",
              "        <td style=\"padding-left: 1em; padding-right: 1em; text-align: center; vertical-align: top\">f39aebba18b8aa460a13df661<br>82505f18c90749f ...</td>\n",
              "        <td style=\"padding-left: 1em; padding-right: 1em; text-align: center; vertical-align: top\">Revelry</td>\n",
              "        <td style=\"padding-left: 1em; padding-right: 1em; text-align: center; vertical-align: top\">2986.0</td>\n",
              "        <td style=\"padding-left: 1em; padding-right: 1em; text-align: center; vertical-align: top\">5</td>\n",
              "    </tr>\n",
              "    <tr>\n",
              "        <td style=\"padding-left: 1em; padding-right: 1em; text-align: center; vertical-align: top\">f39aebba18b8aa460a13df661<br>82505f18c90749f ...</td>\n",
              "        <td style=\"padding-left: 1em; padding-right: 1em; text-align: center; vertical-align: top\">Secrets</td>\n",
              "        <td style=\"padding-left: 1em; padding-right: 1em; text-align: center; vertical-align: top\">2769.0</td>\n",
              "        <td style=\"padding-left: 1em; padding-right: 1em; text-align: center; vertical-align: top\">6</td>\n",
              "    </tr>\n",
              "    <tr>\n",
              "        <td style=\"padding-left: 1em; padding-right: 1em; text-align: center; vertical-align: top\">f39aebba18b8aa460a13df661<br>82505f18c90749f ...</td>\n",
              "        <td style=\"padding-left: 1em; padding-right: 1em; text-align: center; vertical-align: top\">Horn Concerto No. 4 in E<br>flat K495: II. Romance ...</td>\n",
              "        <td style=\"padding-left: 1em; padding-right: 1em; text-align: center; vertical-align: top\">2602.0</td>\n",
              "        <td style=\"padding-left: 1em; padding-right: 1em; text-align: center; vertical-align: top\">7</td>\n",
              "    </tr>\n",
              "    <tr>\n",
              "        <td style=\"padding-left: 1em; padding-right: 1em; text-align: center; vertical-align: top\">f39aebba18b8aa460a13df661<br>82505f18c90749f ...</td>\n",
              "        <td style=\"padding-left: 1em; padding-right: 1em; text-align: center; vertical-align: top\">Hey_ Soul Sister</td>\n",
              "        <td style=\"padding-left: 1em; padding-right: 1em; text-align: center; vertical-align: top\">2212.0</td>\n",
              "        <td style=\"padding-left: 1em; padding-right: 1em; text-align: center; vertical-align: top\">8</td>\n",
              "    </tr>\n",
              "    <tr>\n",
              "        <td style=\"padding-left: 1em; padding-right: 1em; text-align: center; vertical-align: top\">f39aebba18b8aa460a13df661<br>82505f18c90749f ...</td>\n",
              "        <td style=\"padding-left: 1em; padding-right: 1em; text-align: center; vertical-align: top\">Fireflies</td>\n",
              "        <td style=\"padding-left: 1em; padding-right: 1em; text-align: center; vertical-align: top\">2185.0</td>\n",
              "        <td style=\"padding-left: 1em; padding-right: 1em; text-align: center; vertical-align: top\">9</td>\n",
              "    </tr>\n",
              "    <tr>\n",
              "        <td style=\"padding-left: 1em; padding-right: 1em; text-align: center; vertical-align: top\">f39aebba18b8aa460a13df661<br>82505f18c90749f ...</td>\n",
              "        <td style=\"padding-left: 1em; padding-right: 1em; text-align: center; vertical-align: top\">Tive Sim</td>\n",
              "        <td style=\"padding-left: 1em; padding-right: 1em; text-align: center; vertical-align: top\">2116.0</td>\n",
              "        <td style=\"padding-left: 1em; padding-right: 1em; text-align: center; vertical-align: top\">10</td>\n",
              "    </tr>\n",
              "</table>\n",
              "[10 rows x 4 columns]<br/>\n",
              "</div>"
            ],
            "text/plain": [
              "Columns:\n",
              "\tuser_id\tstr\n",
              "\tsong_name\tstr\n",
              "\tscore\tfloat\n",
              "\trank\tint\n",
              "\n",
              "Rows: 10\n",
              "\n",
              "Data:\n",
              "+-------------------------------+--------------------------------+--------+------+\n",
              "|            user_id            |           song_name            | score  | rank |\n",
              "+-------------------------------+--------------------------------+--------+------+\n",
              "| f39aebba18b8aa460a13df6618... |         Sehr kosmisch          | 4065.0 |  1   |\n",
              "| f39aebba18b8aa460a13df6618... |              Undo              | 3590.0 |  2   |\n",
              "| f39aebba18b8aa460a13df6618... |         You're The One         | 3402.0 |  3   |\n",
              "| f39aebba18b8aa460a13df6618... | Dog Days Are Over (Radio Edit) | 3067.0 |  4   |\n",
              "| f39aebba18b8aa460a13df6618... |            Revelry             | 2986.0 |  5   |\n",
              "| f39aebba18b8aa460a13df6618... |            Secrets             | 2769.0 |  6   |\n",
              "| f39aebba18b8aa460a13df6618... | Horn Concerto No. 4 in E f...  | 2602.0 |  7   |\n",
              "| f39aebba18b8aa460a13df6618... |        Hey_ Soul Sister        | 2212.0 |  8   |\n",
              "| f39aebba18b8aa460a13df6618... |           Fireflies            | 2185.0 |  9   |\n",
              "| f39aebba18b8aa460a13df6618... |            Tive Sim            | 2116.0 |  10  |\n",
              "+-------------------------------+--------------------------------+--------+------+\n",
              "[10 rows x 4 columns]"
            ]
          },
          "metadata": {
            "tags": []
          },
          "execution_count": 73
        }
      ]
    },
    {
      "cell_type": "code",
      "metadata": {
        "colab": {
          "base_uri": "https://localhost:8080/",
          "height": 423
        },
        "id": "2Ycsd4nIOsUa",
        "outputId": "b783c853-3a42-4d73-b369-aed9a92a5a8b"
      },
      "source": [
        "popularity_model.recommend(users=[users[56]])"
      ],
      "execution_count": null,
      "outputs": [
        {
          "output_type": "execute_result",
          "data": {
            "text/html": [
              "<div style=\"max-height:1000px;max-width:1500px;overflow:auto;\"><table frame=\"box\" rules=\"cols\">\n",
              "    <tr>\n",
              "        <th style=\"padding-left: 1em; padding-right: 1em; text-align: center\">user_id</th>\n",
              "        <th style=\"padding-left: 1em; padding-right: 1em; text-align: center\">song_name</th>\n",
              "        <th style=\"padding-left: 1em; padding-right: 1em; text-align: center\">score</th>\n",
              "        <th style=\"padding-left: 1em; padding-right: 1em; text-align: center\">rank</th>\n",
              "    </tr>\n",
              "    <tr>\n",
              "        <td style=\"padding-left: 1em; padding-right: 1em; text-align: center; vertical-align: top\">8c7e4145f4a1891006f848f94<br>1dc160eb1fdc8b6 ...</td>\n",
              "        <td style=\"padding-left: 1em; padding-right: 1em; text-align: center; vertical-align: top\">Sehr kosmisch</td>\n",
              "        <td style=\"padding-left: 1em; padding-right: 1em; text-align: center; vertical-align: top\">4065.0</td>\n",
              "        <td style=\"padding-left: 1em; padding-right: 1em; text-align: center; vertical-align: top\">1</td>\n",
              "    </tr>\n",
              "    <tr>\n",
              "        <td style=\"padding-left: 1em; padding-right: 1em; text-align: center; vertical-align: top\">8c7e4145f4a1891006f848f94<br>1dc160eb1fdc8b6 ...</td>\n",
              "        <td style=\"padding-left: 1em; padding-right: 1em; text-align: center; vertical-align: top\">You&#x27;re The One</td>\n",
              "        <td style=\"padding-left: 1em; padding-right: 1em; text-align: center; vertical-align: top\">3402.0</td>\n",
              "        <td style=\"padding-left: 1em; padding-right: 1em; text-align: center; vertical-align: top\">2</td>\n",
              "    </tr>\n",
              "    <tr>\n",
              "        <td style=\"padding-left: 1em; padding-right: 1em; text-align: center; vertical-align: top\">8c7e4145f4a1891006f848f94<br>1dc160eb1fdc8b6 ...</td>\n",
              "        <td style=\"padding-left: 1em; padding-right: 1em; text-align: center; vertical-align: top\">Dog Days Are Over (Radio<br>Edit) ...</td>\n",
              "        <td style=\"padding-left: 1em; padding-right: 1em; text-align: center; vertical-align: top\">3067.0</td>\n",
              "        <td style=\"padding-left: 1em; padding-right: 1em; text-align: center; vertical-align: top\">3</td>\n",
              "    </tr>\n",
              "    <tr>\n",
              "        <td style=\"padding-left: 1em; padding-right: 1em; text-align: center; vertical-align: top\">8c7e4145f4a1891006f848f94<br>1dc160eb1fdc8b6 ...</td>\n",
              "        <td style=\"padding-left: 1em; padding-right: 1em; text-align: center; vertical-align: top\">Revelry</td>\n",
              "        <td style=\"padding-left: 1em; padding-right: 1em; text-align: center; vertical-align: top\">2986.0</td>\n",
              "        <td style=\"padding-left: 1em; padding-right: 1em; text-align: center; vertical-align: top\">4</td>\n",
              "    </tr>\n",
              "    <tr>\n",
              "        <td style=\"padding-left: 1em; padding-right: 1em; text-align: center; vertical-align: top\">8c7e4145f4a1891006f848f94<br>1dc160eb1fdc8b6 ...</td>\n",
              "        <td style=\"padding-left: 1em; padding-right: 1em; text-align: center; vertical-align: top\">Secrets</td>\n",
              "        <td style=\"padding-left: 1em; padding-right: 1em; text-align: center; vertical-align: top\">2769.0</td>\n",
              "        <td style=\"padding-left: 1em; padding-right: 1em; text-align: center; vertical-align: top\">5</td>\n",
              "    </tr>\n",
              "    <tr>\n",
              "        <td style=\"padding-left: 1em; padding-right: 1em; text-align: center; vertical-align: top\">8c7e4145f4a1891006f848f94<br>1dc160eb1fdc8b6 ...</td>\n",
              "        <td style=\"padding-left: 1em; padding-right: 1em; text-align: center; vertical-align: top\">Horn Concerto No. 4 in E<br>flat K495: II. Romance ...</td>\n",
              "        <td style=\"padding-left: 1em; padding-right: 1em; text-align: center; vertical-align: top\">2602.0</td>\n",
              "        <td style=\"padding-left: 1em; padding-right: 1em; text-align: center; vertical-align: top\">6</td>\n",
              "    </tr>\n",
              "    <tr>\n",
              "        <td style=\"padding-left: 1em; padding-right: 1em; text-align: center; vertical-align: top\">8c7e4145f4a1891006f848f94<br>1dc160eb1fdc8b6 ...</td>\n",
              "        <td style=\"padding-left: 1em; padding-right: 1em; text-align: center; vertical-align: top\">Hey_ Soul Sister</td>\n",
              "        <td style=\"padding-left: 1em; padding-right: 1em; text-align: center; vertical-align: top\">2212.0</td>\n",
              "        <td style=\"padding-left: 1em; padding-right: 1em; text-align: center; vertical-align: top\">7</td>\n",
              "    </tr>\n",
              "    <tr>\n",
              "        <td style=\"padding-left: 1em; padding-right: 1em; text-align: center; vertical-align: top\">8c7e4145f4a1891006f848f94<br>1dc160eb1fdc8b6 ...</td>\n",
              "        <td style=\"padding-left: 1em; padding-right: 1em; text-align: center; vertical-align: top\">Fireflies</td>\n",
              "        <td style=\"padding-left: 1em; padding-right: 1em; text-align: center; vertical-align: top\">2185.0</td>\n",
              "        <td style=\"padding-left: 1em; padding-right: 1em; text-align: center; vertical-align: top\">8</td>\n",
              "    </tr>\n",
              "    <tr>\n",
              "        <td style=\"padding-left: 1em; padding-right: 1em; text-align: center; vertical-align: top\">8c7e4145f4a1891006f848f94<br>1dc160eb1fdc8b6 ...</td>\n",
              "        <td style=\"padding-left: 1em; padding-right: 1em; text-align: center; vertical-align: top\">Tive Sim</td>\n",
              "        <td style=\"padding-left: 1em; padding-right: 1em; text-align: center; vertical-align: top\">2116.0</td>\n",
              "        <td style=\"padding-left: 1em; padding-right: 1em; text-align: center; vertical-align: top\">9</td>\n",
              "    </tr>\n",
              "    <tr>\n",
              "        <td style=\"padding-left: 1em; padding-right: 1em; text-align: center; vertical-align: top\">8c7e4145f4a1891006f848f94<br>1dc160eb1fdc8b6 ...</td>\n",
              "        <td style=\"padding-left: 1em; padding-right: 1em; text-align: center; vertical-align: top\">OMG</td>\n",
              "        <td style=\"padding-left: 1em; padding-right: 1em; text-align: center; vertical-align: top\">1813.0</td>\n",
              "        <td style=\"padding-left: 1em; padding-right: 1em; text-align: center; vertical-align: top\">10</td>\n",
              "    </tr>\n",
              "</table>\n",
              "[10 rows x 4 columns]<br/>\n",
              "</div>"
            ],
            "text/plain": [
              "Columns:\n",
              "\tuser_id\tstr\n",
              "\tsong_name\tstr\n",
              "\tscore\tfloat\n",
              "\trank\tint\n",
              "\n",
              "Rows: 10\n",
              "\n",
              "Data:\n",
              "+-------------------------------+--------------------------------+--------+------+\n",
              "|            user_id            |           song_name            | score  | rank |\n",
              "+-------------------------------+--------------------------------+--------+------+\n",
              "| 8c7e4145f4a1891006f848f941... |         Sehr kosmisch          | 4065.0 |  1   |\n",
              "| 8c7e4145f4a1891006f848f941... |         You're The One         | 3402.0 |  2   |\n",
              "| 8c7e4145f4a1891006f848f941... | Dog Days Are Over (Radio Edit) | 3067.0 |  3   |\n",
              "| 8c7e4145f4a1891006f848f941... |            Revelry             | 2986.0 |  4   |\n",
              "| 8c7e4145f4a1891006f848f941... |            Secrets             | 2769.0 |  5   |\n",
              "| 8c7e4145f4a1891006f848f941... | Horn Concerto No. 4 in E f...  | 2602.0 |  6   |\n",
              "| 8c7e4145f4a1891006f848f941... |        Hey_ Soul Sister        | 2212.0 |  7   |\n",
              "| 8c7e4145f4a1891006f848f941... |           Fireflies            | 2185.0 |  8   |\n",
              "| 8c7e4145f4a1891006f848f941... |            Tive Sim            | 2116.0 |  9   |\n",
              "| 8c7e4145f4a1891006f848f941... |              OMG               | 1813.0 |  10  |\n",
              "+-------------------------------+--------------------------------+--------+------+\n",
              "[10 rows x 4 columns]"
            ]
          },
          "metadata": {
            "tags": []
          },
          "execution_count": 74
        }
      ]
    },
    {
      "cell_type": "markdown",
      "metadata": {
        "id": "h-O2eGxptDK0"
      },
      "source": [
        "## Data Preparation for collabaritive filtering"
      ]
    },
    {
      "cell_type": "markdown",
      "metadata": {
        "id": "1cS3Rui6tCoB"
      },
      "source": [
        ""
      ]
    },
    {
      "cell_type": "code",
      "metadata": {
        "id": "FJ9hdJp4P9Kr"
      },
      "source": [
        "song=songs_df.drop_duplicates(['user_id','song_name','singer'])\n",
        "song = song.reset_index(drop=True)"
      ],
      "execution_count": null,
      "outputs": []
    },
    {
      "cell_type": "code",
      "metadata": {
        "colab": {
          "base_uri": "https://localhost:8080/"
        },
        "id": "nfhqFp7H8amc",
        "outputId": "b488ae50-13bc-448f-edea-1571c56c9e8b"
      },
      "source": [
        "song=song.iloc[0:100000,]\n",
        "song.shape"
      ],
      "execution_count": null,
      "outputs": [
        {
          "output_type": "execute_result",
          "data": {
            "text/plain": [
              "(100000, 6)"
            ]
          },
          "metadata": {
            "tags": []
          },
          "execution_count": 76
        }
      ]
    },
    {
      "cell_type": "code",
      "metadata": {
        "id": "k4_YSHjn8foj"
      },
      "source": [
        "train_data = tc.SFrame(song)  # Data needs to be converted to SFrame format\n",
        "train, test = tc.recommender.util.random_split_by_user(train_data, user_id='user_id', item_id='song_name')\n"
      ],
      "execution_count": null,
      "outputs": []
    },
    {
      "cell_type": "markdown",
      "metadata": {
        "id": "Ybc095cKMJgW"
      },
      "source": [
        "Build a collaborative filtering model and get the recommendation results of the training set"
      ]
    },
    {
      "cell_type": "markdown",
      "metadata": {
        "id": "0EsRjE6JOfsz"
      },
      "source": [
        "Item based Approach"
      ]
    },
    {
      "cell_type": "code",
      "metadata": {
        "colab": {
          "base_uri": "https://localhost:8080/",
          "height": 1000
        },
        "id": "9OGbLAE6LWP8",
        "outputId": "9029228b-ba97-40c3-ddfc-0cc8fc5ed769"
      },
      "source": [
        "#training the model\n",
        "item_sim_model = tc.item_similarity_recommender.create(train, user_id='user_id', item_id='song_name', target='song_count', similarity_type='cosine')\n",
        "\n",
        "# making recommendations\n",
        "item_sim_recomm = item_sim_model.recommend(users=[1,2,3,4,5],k=5)\n",
        "item_sim_recomm.print_rows(num_rows=25)\n"
      ],
      "execution_count": null,
      "outputs": [
        {
          "output_type": "display_data",
          "data": {
            "text/html": [
              "<pre>Warning: Ignoring columns song_id, track_id, singer;</pre>"
            ],
            "text/plain": [
              "Warning: Ignoring columns song_id, track_id, singer;"
            ]
          },
          "metadata": {
            "tags": []
          }
        },
        {
          "output_type": "display_data",
          "data": {
            "text/html": [
              "<pre>    To use these columns in scoring predictions, use a model that allows the use of additional features.</pre>"
            ],
            "text/plain": [
              "    To use these columns in scoring predictions, use a model that allows the use of additional features."
            ]
          },
          "metadata": {
            "tags": []
          }
        },
        {
          "output_type": "display_data",
          "data": {
            "text/html": [
              "<pre>Preparing data set.</pre>"
            ],
            "text/plain": [
              "Preparing data set."
            ]
          },
          "metadata": {
            "tags": []
          }
        },
        {
          "output_type": "display_data",
          "data": {
            "text/html": [
              "<pre>    Data has 97454 observations with 7527 users and 36939 items.</pre>"
            ],
            "text/plain": [
              "    Data has 97454 observations with 7527 users and 36939 items."
            ]
          },
          "metadata": {
            "tags": []
          }
        },
        {
          "output_type": "display_data",
          "data": {
            "text/html": [
              "<pre>    Data prepared in: 0.152542s</pre>"
            ],
            "text/plain": [
              "    Data prepared in: 0.152542s"
            ]
          },
          "metadata": {
            "tags": []
          }
        },
        {
          "output_type": "display_data",
          "data": {
            "text/html": [
              "<pre>Training model from provided data.</pre>"
            ],
            "text/plain": [
              "Training model from provided data."
            ]
          },
          "metadata": {
            "tags": []
          }
        },
        {
          "output_type": "display_data",
          "data": {
            "text/html": [
              "<pre>Gathering per-item and per-user statistics.</pre>"
            ],
            "text/plain": [
              "Gathering per-item and per-user statistics."
            ]
          },
          "metadata": {
            "tags": []
          }
        },
        {
          "output_type": "display_data",
          "data": {
            "text/html": [
              "<pre>+--------------------------------+------------+</pre>"
            ],
            "text/plain": [
              "+--------------------------------+------------+"
            ]
          },
          "metadata": {
            "tags": []
          }
        },
        {
          "output_type": "display_data",
          "data": {
            "text/html": [
              "<pre>| Elapsed Time (Item Statistics) | % Complete |</pre>"
            ],
            "text/plain": [
              "| Elapsed Time (Item Statistics) | % Complete |"
            ]
          },
          "metadata": {
            "tags": []
          }
        },
        {
          "output_type": "display_data",
          "data": {
            "text/html": [
              "<pre>+--------------------------------+------------+</pre>"
            ],
            "text/plain": [
              "+--------------------------------+------------+"
            ]
          },
          "metadata": {
            "tags": []
          }
        },
        {
          "output_type": "display_data",
          "data": {
            "text/html": [
              "<pre>| 1.426ms                        | 13.25      |</pre>"
            ],
            "text/plain": [
              "| 1.426ms                        | 13.25      |"
            ]
          },
          "metadata": {
            "tags": []
          }
        },
        {
          "output_type": "display_data",
          "data": {
            "text/html": [
              "<pre>| 4.374ms                        | 100        |</pre>"
            ],
            "text/plain": [
              "| 4.374ms                        | 100        |"
            ]
          },
          "metadata": {
            "tags": []
          }
        },
        {
          "output_type": "display_data",
          "data": {
            "text/html": [
              "<pre>+--------------------------------+------------+</pre>"
            ],
            "text/plain": [
              "+--------------------------------+------------+"
            ]
          },
          "metadata": {
            "tags": []
          }
        },
        {
          "output_type": "display_data",
          "data": {
            "text/html": [
              "<pre>Setting up lookup tables.</pre>"
            ],
            "text/plain": [
              "Setting up lookup tables."
            ]
          },
          "metadata": {
            "tags": []
          }
        },
        {
          "output_type": "display_data",
          "data": {
            "text/html": [
              "<pre>Processing data in one pass using dense lookup tables.</pre>"
            ],
            "text/plain": [
              "Processing data in one pass using dense lookup tables."
            ]
          },
          "metadata": {
            "tags": []
          }
        },
        {
          "output_type": "display_data",
          "data": {
            "text/html": [
              "<pre>+-------------------------------------+------------------+-----------------+</pre>"
            ],
            "text/plain": [
              "+-------------------------------------+------------------+-----------------+"
            ]
          },
          "metadata": {
            "tags": []
          }
        },
        {
          "output_type": "display_data",
          "data": {
            "text/html": [
              "<pre>| Elapsed Time (Constructing Lookups) | Total % Complete | Items Processed |</pre>"
            ],
            "text/plain": [
              "| Elapsed Time (Constructing Lookups) | Total % Complete | Items Processed |"
            ]
          },
          "metadata": {
            "tags": []
          }
        },
        {
          "output_type": "display_data",
          "data": {
            "text/html": [
              "<pre>+-------------------------------------+------------------+-----------------+</pre>"
            ],
            "text/plain": [
              "+-------------------------------------+------------------+-----------------+"
            ]
          },
          "metadata": {
            "tags": []
          }
        },
        {
          "output_type": "display_data",
          "data": {
            "text/html": [
              "<pre>| 2.62s                               | 0                | 0               |</pre>"
            ],
            "text/plain": [
              "| 2.62s                               | 0                | 0               |"
            ]
          },
          "metadata": {
            "tags": []
          }
        },
        {
          "output_type": "display_data",
          "data": {
            "text/html": [
              "<pre>| 12.78s                              | 100              | 36939           |</pre>"
            ],
            "text/plain": [
              "| 12.78s                              | 100              | 36939           |"
            ]
          },
          "metadata": {
            "tags": []
          }
        },
        {
          "output_type": "display_data",
          "data": {
            "text/html": [
              "<pre>+-------------------------------------+------------------+-----------------+</pre>"
            ],
            "text/plain": [
              "+-------------------------------------+------------------+-----------------+"
            ]
          },
          "metadata": {
            "tags": []
          }
        },
        {
          "output_type": "display_data",
          "data": {
            "text/html": [
              "<pre>Finalizing lookup tables.</pre>"
            ],
            "text/plain": [
              "Finalizing lookup tables."
            ]
          },
          "metadata": {
            "tags": []
          }
        },
        {
          "output_type": "display_data",
          "data": {
            "text/html": [
              "<pre>Generating candidate set for working with new users.</pre>"
            ],
            "text/plain": [
              "Generating candidate set for working with new users."
            ]
          },
          "metadata": {
            "tags": []
          }
        },
        {
          "output_type": "display_data",
          "data": {
            "text/html": [
              "<pre>Finished training in 13.8307s</pre>"
            ],
            "text/plain": [
              "Finished training in 13.8307s"
            ]
          },
          "metadata": {
            "tags": []
          }
        },
        {
          "output_type": "stream",
          "text": [
            "+---------+-------------------------------+------------------------+------+\n",
            "| user_id |           song_name           |         score          | rank |\n",
            "+---------+-------------------------------+------------------------+------+\n",
            "|    1    |        Just Like Eddie        | 0.00041526436805725095 |  1   |\n",
            "|    1    | Chew Me Up and Spit Me Out... | 0.00041526436805725095 |  2   |\n",
            "|    1    |   Will You (Single Version)   | 0.00041526436805725095 |  3   |\n",
            "|    1    | Shit On The Radio (Remembe... | 0.00041526436805725095 |  4   |\n",
            "|    1    |         I'm Not Jesus         | 0.0004094862937927246  |  5   |\n",
            "|    2    |        Just Like Eddie        | 0.00041526436805725095 |  1   |\n",
            "|    2    | Chew Me Up and Spit Me Out... | 0.00041526436805725095 |  2   |\n",
            "|    2    |   Will You (Single Version)   | 0.00041526436805725095 |  3   |\n",
            "|    2    | Shit On The Radio (Remembe... | 0.00041526436805725095 |  4   |\n",
            "|    2    |         I'm Not Jesus         | 0.0004094862937927246  |  5   |\n",
            "|    3    |        Just Like Eddie        | 0.00041526436805725095 |  1   |\n",
            "|    3    | Chew Me Up and Spit Me Out... | 0.00041526436805725095 |  2   |\n",
            "|    3    |   Will You (Single Version)   | 0.00041526436805725095 |  3   |\n",
            "|    3    | Shit On The Radio (Remembe... | 0.00041526436805725095 |  4   |\n",
            "|    3    |         I'm Not Jesus         | 0.0004094862937927246  |  5   |\n",
            "|    4    |        Just Like Eddie        | 0.00041526436805725095 |  1   |\n",
            "|    4    | Chew Me Up and Spit Me Out... | 0.00041526436805725095 |  2   |\n",
            "|    4    |   Will You (Single Version)   | 0.00041526436805725095 |  3   |\n",
            "|    4    | Shit On The Radio (Remembe... | 0.00041526436805725095 |  4   |\n",
            "|    4    |         I'm Not Jesus         | 0.0004094862937927246  |  5   |\n",
            "|    5    |        Just Like Eddie        | 0.00041526436805725095 |  1   |\n",
            "|    5    | Chew Me Up and Spit Me Out... | 0.00041526436805725095 |  2   |\n",
            "|    5    |   Will You (Single Version)   | 0.00041526436805725095 |  3   |\n",
            "|    5    | Shit On The Radio (Remembe... | 0.00041526436805725095 |  4   |\n",
            "|    5    |         I'm Not Jesus         | 0.0004094862937927246  |  5   |\n",
            "+---------+-------------------------------+------------------------+------+\n",
            "[25 rows x 4 columns]\n",
            "\n"
          ],
          "name": "stdout"
        }
      ]
    },
    {
      "cell_type": "markdown",
      "metadata": {
        "id": "Uens5yPzPLeH"
      },
      "source": [
        "Using Pearson"
      ]
    },
    {
      "cell_type": "code",
      "metadata": {
        "colab": {
          "base_uri": "https://localhost:8080/",
          "height": 1000
        },
        "id": "PVlbgbVRRl0Z",
        "outputId": "cd674f33-50b5-43fb-c712-2485715a6b44"
      },
      "source": [
        "#training the model and predicting using pearson \n",
        "item_sim_model = tc.item_similarity_recommender.create(train, user_id='user_id', item_id='song_name', target='song_count', similarity_type='pearson')\n",
        "\n",
        "# making recommendations\n",
        "item_sim_recomm = item_sim_model.recommend(users=[1,2,3,4,5],k=5)\n",
        "item_sim_recomm.print_rows(num_rows=25)\n"
      ],
      "execution_count": null,
      "outputs": [
        {
          "output_type": "display_data",
          "data": {
            "text/html": [
              "<pre>Warning: Ignoring columns song_id, track_id, singer;</pre>"
            ],
            "text/plain": [
              "Warning: Ignoring columns song_id, track_id, singer;"
            ]
          },
          "metadata": {
            "tags": []
          }
        },
        {
          "output_type": "display_data",
          "data": {
            "text/html": [
              "<pre>    To use these columns in scoring predictions, use a model that allows the use of additional features.</pre>"
            ],
            "text/plain": [
              "    To use these columns in scoring predictions, use a model that allows the use of additional features."
            ]
          },
          "metadata": {
            "tags": []
          }
        },
        {
          "output_type": "display_data",
          "data": {
            "text/html": [
              "<pre>Preparing data set.</pre>"
            ],
            "text/plain": [
              "Preparing data set."
            ]
          },
          "metadata": {
            "tags": []
          }
        },
        {
          "output_type": "display_data",
          "data": {
            "text/html": [
              "<pre>    Data has 97454 observations with 7527 users and 36939 items.</pre>"
            ],
            "text/plain": [
              "    Data has 97454 observations with 7527 users and 36939 items."
            ]
          },
          "metadata": {
            "tags": []
          }
        },
        {
          "output_type": "display_data",
          "data": {
            "text/html": [
              "<pre>    Data prepared in: 0.148767s</pre>"
            ],
            "text/plain": [
              "    Data prepared in: 0.148767s"
            ]
          },
          "metadata": {
            "tags": []
          }
        },
        {
          "output_type": "display_data",
          "data": {
            "text/html": [
              "<pre>Training model from provided data.</pre>"
            ],
            "text/plain": [
              "Training model from provided data."
            ]
          },
          "metadata": {
            "tags": []
          }
        },
        {
          "output_type": "display_data",
          "data": {
            "text/html": [
              "<pre>Gathering per-item and per-user statistics.</pre>"
            ],
            "text/plain": [
              "Gathering per-item and per-user statistics."
            ]
          },
          "metadata": {
            "tags": []
          }
        },
        {
          "output_type": "display_data",
          "data": {
            "text/html": [
              "<pre>+--------------------------------+------------+</pre>"
            ],
            "text/plain": [
              "+--------------------------------+------------+"
            ]
          },
          "metadata": {
            "tags": []
          }
        },
        {
          "output_type": "display_data",
          "data": {
            "text/html": [
              "<pre>| Elapsed Time (Item Statistics) | % Complete |</pre>"
            ],
            "text/plain": [
              "| Elapsed Time (Item Statistics) | % Complete |"
            ]
          },
          "metadata": {
            "tags": []
          }
        },
        {
          "output_type": "display_data",
          "data": {
            "text/html": [
              "<pre>+--------------------------------+------------+</pre>"
            ],
            "text/plain": [
              "+--------------------------------+------------+"
            ]
          },
          "metadata": {
            "tags": []
          }
        },
        {
          "output_type": "display_data",
          "data": {
            "text/html": [
              "<pre>| 1.508ms                        | 13.25      |</pre>"
            ],
            "text/plain": [
              "| 1.508ms                        | 13.25      |"
            ]
          },
          "metadata": {
            "tags": []
          }
        },
        {
          "output_type": "display_data",
          "data": {
            "text/html": [
              "<pre>| 19.042ms                       | 100        |</pre>"
            ],
            "text/plain": [
              "| 19.042ms                       | 100        |"
            ]
          },
          "metadata": {
            "tags": []
          }
        },
        {
          "output_type": "display_data",
          "data": {
            "text/html": [
              "<pre>+--------------------------------+------------+</pre>"
            ],
            "text/plain": [
              "+--------------------------------+------------+"
            ]
          },
          "metadata": {
            "tags": []
          }
        },
        {
          "output_type": "display_data",
          "data": {
            "text/html": [
              "<pre>Setting up lookup tables.</pre>"
            ],
            "text/plain": [
              "Setting up lookup tables."
            ]
          },
          "metadata": {
            "tags": []
          }
        },
        {
          "output_type": "display_data",
          "data": {
            "text/html": [
              "<pre>Processing data in one pass using dense lookup tables.</pre>"
            ],
            "text/plain": [
              "Processing data in one pass using dense lookup tables."
            ]
          },
          "metadata": {
            "tags": []
          }
        },
        {
          "output_type": "display_data",
          "data": {
            "text/html": [
              "<pre>+-------------------------------------+------------------+-----------------+</pre>"
            ],
            "text/plain": [
              "+-------------------------------------+------------------+-----------------+"
            ]
          },
          "metadata": {
            "tags": []
          }
        },
        {
          "output_type": "display_data",
          "data": {
            "text/html": [
              "<pre>| Elapsed Time (Constructing Lookups) | Total % Complete | Items Processed |</pre>"
            ],
            "text/plain": [
              "| Elapsed Time (Constructing Lookups) | Total % Complete | Items Processed |"
            ]
          },
          "metadata": {
            "tags": []
          }
        },
        {
          "output_type": "display_data",
          "data": {
            "text/html": [
              "<pre>+-------------------------------------+------------------+-----------------+</pre>"
            ],
            "text/plain": [
              "+-------------------------------------+------------------+-----------------+"
            ]
          },
          "metadata": {
            "tags": []
          }
        },
        {
          "output_type": "display_data",
          "data": {
            "text/html": [
              "<pre>| 958.339ms                           | 0                | 0               |</pre>"
            ],
            "text/plain": [
              "| 958.339ms                           | 0                | 0               |"
            ]
          },
          "metadata": {
            "tags": []
          }
        },
        {
          "output_type": "display_data",
          "data": {
            "text/html": [
              "<pre>| 11.07s                              | 100              | 36939           |</pre>"
            ],
            "text/plain": [
              "| 11.07s                              | 100              | 36939           |"
            ]
          },
          "metadata": {
            "tags": []
          }
        },
        {
          "output_type": "display_data",
          "data": {
            "text/html": [
              "<pre>+-------------------------------------+------------------+-----------------+</pre>"
            ],
            "text/plain": [
              "+-------------------------------------+------------------+-----------------+"
            ]
          },
          "metadata": {
            "tags": []
          }
        },
        {
          "output_type": "display_data",
          "data": {
            "text/html": [
              "<pre>Finalizing lookup tables.</pre>"
            ],
            "text/plain": [
              "Finalizing lookup tables."
            ]
          },
          "metadata": {
            "tags": []
          }
        },
        {
          "output_type": "display_data",
          "data": {
            "text/html": [
              "<pre>Generating candidate set for working with new users.</pre>"
            ],
            "text/plain": [
              "Generating candidate set for working with new users."
            ]
          },
          "metadata": {
            "tags": []
          }
        },
        {
          "output_type": "display_data",
          "data": {
            "text/html": [
              "<pre>Finished training in 11.1s</pre>"
            ],
            "text/plain": [
              "Finished training in 11.1s"
            ]
          },
          "metadata": {
            "tags": []
          }
        },
        {
          "output_type": "stream",
          "text": [
            "+---------+-------------------------------+-------+------+\n",
            "| user_id |           song_name           | score | rank |\n",
            "+---------+-------------------------------+-------+------+\n",
            "|    1    |      Keep the Party Alive     | 355.0 |  1   |\n",
            "|    1    |        Handfuls Of Sky        | 354.0 |  2   |\n",
            "|    1    |           Get On It           | 281.0 |  3   |\n",
            "|    1    |              Toff             | 245.0 |  4   |\n",
            "|    1    | Mentobe (Explicit LP Version) | 244.0 |  5   |\n",
            "|    2    |      Keep the Party Alive     | 355.0 |  1   |\n",
            "|    2    |        Handfuls Of Sky        | 354.0 |  2   |\n",
            "|    2    |           Get On It           | 281.0 |  3   |\n",
            "|    2    |              Toff             | 245.0 |  4   |\n",
            "|    2    | Mentobe (Explicit LP Version) | 244.0 |  5   |\n",
            "|    3    |      Keep the Party Alive     | 355.0 |  1   |\n",
            "|    3    |        Handfuls Of Sky        | 354.0 |  2   |\n",
            "|    3    |           Get On It           | 281.0 |  3   |\n",
            "|    3    |              Toff             | 245.0 |  4   |\n",
            "|    3    | Mentobe (Explicit LP Version) | 244.0 |  5   |\n",
            "|    4    |      Keep the Party Alive     | 355.0 |  1   |\n",
            "|    4    |        Handfuls Of Sky        | 354.0 |  2   |\n",
            "|    4    |           Get On It           | 281.0 |  3   |\n",
            "|    4    |              Toff             | 245.0 |  4   |\n",
            "|    4    | Mentobe (Explicit LP Version) | 244.0 |  5   |\n",
            "|    5    |      Keep the Party Alive     | 355.0 |  1   |\n",
            "|    5    |        Handfuls Of Sky        | 354.0 |  2   |\n",
            "|    5    |           Get On It           | 281.0 |  3   |\n",
            "|    5    |              Toff             | 245.0 |  4   |\n",
            "|    5    | Mentobe (Explicit LP Version) | 244.0 |  5   |\n",
            "+---------+-------------------------------+-------+------+\n",
            "[25 rows x 4 columns]\n",
            "\n"
          ],
          "name": "stdout"
        }
      ]
    },
    {
      "cell_type": "code",
      "metadata": {
        "colab": {
          "base_uri": "https://localhost:8080/"
        },
        "id": "g6ipqGQ3PLCy",
        "outputId": "7e744a0f-bc0a-42b3-be1c-bd5bd398055d"
      },
      "source": [
        "item_sim_model.evaluate_precision_recall(test)"
      ],
      "execution_count": null,
      "outputs": [
        {
          "output_type": "execute_result",
          "data": {
            "text/plain": [
              "{'precision_recall_by_user': Columns:\n",
              " \tuser_id\tstr\n",
              " \tcutoff\tint\n",
              " \tprecision\tfloat\n",
              " \trecall\tfloat\n",
              " \tcount\tint\n",
              " \n",
              " Rows: 15210\n",
              " \n",
              " Data:\n",
              " +-------------------------------+--------+-----------+--------+-------+\n",
              " |            user_id            | cutoff | precision | recall | count |\n",
              " +-------------------------------+--------+-----------+--------+-------+\n",
              " | 05b9035fe02ebdf5535ae9ec07... |   1    |    0.0    |  0.0   |   2   |\n",
              " | 05b9035fe02ebdf5535ae9ec07... |   2    |    0.0    |  0.0   |   2   |\n",
              " | 05b9035fe02ebdf5535ae9ec07... |   3    |    0.0    |  0.0   |   2   |\n",
              " | 05b9035fe02ebdf5535ae9ec07... |   4    |    0.0    |  0.0   |   2   |\n",
              " | 05b9035fe02ebdf5535ae9ec07... |   5    |    0.0    |  0.0   |   2   |\n",
              " | 05b9035fe02ebdf5535ae9ec07... |   6    |    0.0    |  0.0   |   2   |\n",
              " | 05b9035fe02ebdf5535ae9ec07... |   7    |    0.0    |  0.0   |   2   |\n",
              " | 05b9035fe02ebdf5535ae9ec07... |   8    |    0.0    |  0.0   |   2   |\n",
              " | 05b9035fe02ebdf5535ae9ec07... |   9    |    0.0    |  0.0   |   2   |\n",
              " | 05b9035fe02ebdf5535ae9ec07... |   10   |    0.0    |  0.0   |   2   |\n",
              " +-------------------------------+--------+-----------+--------+-------+\n",
              " [15210 rows x 5 columns]\n",
              " Note: Only the head of the SFrame is printed.\n",
              " You can use print_rows(num_rows=m, num_columns=n) to print more rows and columns.,\n",
              " 'precision_recall_overall': Columns:\n",
              " \tcutoff\tint\n",
              " \tprecision\tfloat\n",
              " \trecall\tfloat\n",
              " \n",
              " Rows: 18\n",
              " \n",
              " Data:\n",
              " +--------+------------------------+-----------------------+\n",
              " | cutoff |       precision        |         recall        |\n",
              " +--------+------------------------+-----------------------+\n",
              " |   1    |          0.0           |          0.0          |\n",
              " |   2    | 0.0005917159763313611  | 0.0011834319526627221 |\n",
              " |   3    | 0.0003944773175542406  | 0.0011834319526627221 |\n",
              " |   4    | 0.00029585798816568053 | 0.0011834319526627221 |\n",
              " |   5    | 0.00023668639053254435 | 0.0011834319526627221 |\n",
              " |   6    | 0.0001972386587771203  | 0.0011834319526627221 |\n",
              " |   7    | 0.00016906170752324596 | 0.0011834319526627221 |\n",
              " |   8    | 0.00014792899408284027 | 0.0011834319526627221 |\n",
              " |   9    | 0.00013149243918474687 | 0.0011834319526627221 |\n",
              " |   10   | 0.00011834319526627213 | 0.0011834319526627221 |\n",
              " +--------+------------------------+-----------------------+\n",
              " [18 rows x 3 columns]\n",
              " Note: Only the head of the SFrame is printed.\n",
              " You can use print_rows(num_rows=m, num_columns=n) to print more rows and columns.}"
            ]
          },
          "metadata": {
            "tags": []
          },
          "execution_count": 80
        }
      ]
    },
    {
      "cell_type": "markdown",
      "metadata": {
        "id": "WyV-G1enPAik"
      },
      "source": [
        "User Based Approach"
      ]
    },
    {
      "cell_type": "code",
      "metadata": {
        "id": "k3PTaT07NYqk"
      },
      "source": [
        ""
      ],
      "execution_count": null,
      "outputs": []
    }
  ]
}